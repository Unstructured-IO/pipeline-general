{
 "cells": [
  {
   "cell_type": "code",
   "execution_count": 11,
   "id": "5ab44394",
   "metadata": {},
   "outputs": [
    {
     "name": "stdout",
     "output_type": "stream",
     "text": [
      "/Users/laverde/Documents/github/pipeline-general\n"
     ]
    }
   ],
   "source": [
    "%cd .."
   ]
  },
  {
   "cell_type": "code",
   "execution_count": 13,
   "id": "9e92ebe6",
   "metadata": {},
   "outputs": [],
   "source": [
    "from prepline_general.api.general import pipeline_api"
   ]
  },
  {
   "cell_type": "code",
   "execution_count": 14,
   "id": "b4cdadce",
   "metadata": {},
   "outputs": [],
   "source": [
    "eml_file = 'sample-docs/fake-email.eml'\n",
    "pptx_file = 'sample-docs/fake-power-point.pptx'\n",
    "html_file = 'sample-docs/fake-html.html'\n",
    "txt_file = 'sample-docs/fake-text.txt'\n",
    "docx_file = 'sample-docs/fake.docx'\n",
    "img_file = 'sample-docs/layout-parser-paper-fast.jpg'\n",
    "pdf_file = 'sample-docs/layout-parser-paper.pdf'"
   ]
  },
  {
   "cell_type": "code",
   "execution_count": 20,
   "id": "a492c900",
   "metadata": {},
   "outputs": [
    {
     "data": {
      "text/plain": [
       "'NarrativeText:'"
      ]
     },
     "metadata": {},
     "output_type": "display_data"
    },
    {
     "name": "stdout",
     "output_type": "stream",
     "text": [
      "\u001b[1m\tThis is a test email to use for unit tests.\u001b[0m\n"
     ]
    },
    {
     "data": {
      "text/plain": [
       "'Title:'"
      ]
     },
     "metadata": {},
     "output_type": "display_data"
    },
    {
     "name": "stdout",
     "output_type": "stream",
     "text": [
      "\u001b[1m\tImportant points:\u001b[0m\n"
     ]
    },
    {
     "data": {
      "text/plain": [
       "'ListItem:'"
      ]
     },
     "metadata": {},
     "output_type": "display_data"
    },
    {
     "name": "stdout",
     "output_type": "stream",
     "text": [
      "\u001b[1m\tRoses are red\u001b[0m\n"
     ]
    },
    {
     "data": {
      "text/plain": [
       "'ListItem:'"
      ]
     },
     "metadata": {},
     "output_type": "display_data"
    },
    {
     "name": "stdout",
     "output_type": "stream",
     "text": [
      "\u001b[1m\tViolets are blue\u001b[0m\n"
     ]
    }
   ],
   "source": [
    "# test partition: .eml\n",
    "elements = pipeline_api(file=open(eml_file, 'rb'))\n",
    "for elem in elements:\n",
    "    display(elem['type']+ \":\")\n",
    "    print(f\"\\033[1m\\t{elem['text']}\\033[0m\")"
   ]
  },
  {
   "cell_type": "code",
   "execution_count": 21,
   "id": "37c318b4",
   "metadata": {},
   "outputs": [
    {
     "data": {
      "text/plain": [
       "'Title:'"
      ]
     },
     "metadata": {},
     "output_type": "display_data"
    },
    {
     "name": "stdout",
     "output_type": "stream",
     "text": [
      "\u001b[1m\tAdding a Bullet Slide\u001b[0m\n"
     ]
    },
    {
     "data": {
      "text/plain": [
       "'Title:'"
      ]
     },
     "metadata": {},
     "output_type": "display_data"
    },
    {
     "name": "stdout",
     "output_type": "stream",
     "text": [
      "\u001b[1m\tFind the bullet slide layout\u001b[0m\n"
     ]
    },
    {
     "data": {
      "text/plain": [
       "'Title:'"
      ]
     },
     "metadata": {},
     "output_type": "display_data"
    },
    {
     "name": "stdout",
     "output_type": "stream",
     "text": [
      "\u001b[1m\tUse _TextFrame.text for first bullet\u001b[0m\n"
     ]
    },
    {
     "data": {
      "text/plain": [
       "'Title:'"
      ]
     },
     "metadata": {},
     "output_type": "display_data"
    },
    {
     "name": "stdout",
     "output_type": "stream",
     "text": [
      "\u001b[1m\tUse _TextFrame.add_paragraph() for subsequent bullets\u001b[0m\n"
     ]
    }
   ],
   "source": [
    "# test partition: .pptx\n",
    "elements = pipeline_api(file=open(pptx_file, 'rb'))\n",
    "for elem in elements:\n",
    "    display(elem['type']+ \":\")\n",
    "    print(f\"\\033[1m\\t{elem['text']}\\033[0m\")"
   ]
  },
  {
   "cell_type": "code",
   "execution_count": 22,
   "id": "553e17ff",
   "metadata": {},
   "outputs": [
    {
     "data": {
      "text/plain": [
       "'Title:'"
      ]
     },
     "metadata": {},
     "output_type": "display_data"
    },
    {
     "name": "stdout",
     "output_type": "stream",
     "text": [
      "\u001b[1m\tMy First Heading\u001b[0m\n"
     ]
    },
    {
     "data": {
      "text/plain": [
       "'Title:'"
      ]
     },
     "metadata": {},
     "output_type": "display_data"
    },
    {
     "name": "stdout",
     "output_type": "stream",
     "text": [
      "\u001b[1m\tMy first paragraph.\u001b[0m\n"
     ]
    }
   ],
   "source": [
    "# test partition: .html\n",
    "elements = pipeline_api(file=open(html_file, 'rb'))\n",
    "for elem in elements:\n",
    "    display(elem['type']+ \":\")\n",
    "    print(f\"\\033[1m\\t{elem['text']}\\033[0m\")"
   ]
  },
  {
   "cell_type": "code",
   "execution_count": 23,
   "id": "af933653",
   "metadata": {},
   "outputs": [
    {
     "data": {
      "text/plain": [
       "'NarrativeText:'"
      ]
     },
     "metadata": {},
     "output_type": "display_data"
    },
    {
     "name": "stdout",
     "output_type": "stream",
     "text": [
      "\u001b[1m\tThis is a test document to use for unit tests.\u001b[0m\n"
     ]
    },
    {
     "data": {
      "text/plain": [
       "'Title:'"
      ]
     },
     "metadata": {},
     "output_type": "display_data"
    },
    {
     "name": "stdout",
     "output_type": "stream",
     "text": [
      "\u001b[1m\tImportant points:\u001b[0m\n"
     ]
    },
    {
     "data": {
      "text/plain": [
       "'ListItem:'"
      ]
     },
     "metadata": {},
     "output_type": "display_data"
    },
    {
     "name": "stdout",
     "output_type": "stream",
     "text": [
      "\u001b[1m\tHamburgers are delicious\u001b[0m\n"
     ]
    },
    {
     "data": {
      "text/plain": [
       "'ListItem:'"
      ]
     },
     "metadata": {},
     "output_type": "display_data"
    },
    {
     "name": "stdout",
     "output_type": "stream",
     "text": [
      "\u001b[1m\tDogs are the best\u001b[0m\n"
     ]
    },
    {
     "data": {
      "text/plain": [
       "'ListItem:'"
      ]
     },
     "metadata": {},
     "output_type": "display_data"
    },
    {
     "name": "stdout",
     "output_type": "stream",
     "text": [
      "\u001b[1m\tI love fuzzy blankets\u001b[0m\n"
     ]
    }
   ],
   "source": [
    "# test partition: .txt\n",
    "elements = pipeline_api(file=open(txt_file, 'r'))\n",
    "for elem in elements:\n",
    "    display(elem['type']+ \":\")\n",
    "    print(f\"\\033[1m\\t{elem['text']}\\033[0m\")"
   ]
  },
  {
   "cell_type": "code",
   "execution_count": 24,
   "id": "a72792e4",
   "metadata": {},
   "outputs": [
    {
     "data": {
      "text/plain": [
       "'Title:'"
      ]
     },
     "metadata": {},
     "output_type": "display_data"
    },
    {
     "name": "stdout",
     "output_type": "stream",
     "text": [
      "\u001b[1m\tLorem ipsum dolor sit amet.\u001b[0m\n"
     ]
    }
   ],
   "source": [
    "# test partition: .docx\n",
    "elements = pipeline_api(file=open(docx_file, 'rb'))\n",
    "for elem in elements:\n",
    "    display(elem['type']+ \":\")\n",
    "    print(f\"\\033[1m\\t{elem['text']}\\033[0m\")"
   ]
  },
  {
   "cell_type": "code",
   "execution_count": 25,
   "id": "807412d3",
   "metadata": {},
   "outputs": [
    {
     "data": {
      "text/plain": [
       "'Title:'"
      ]
     },
     "metadata": {},
     "output_type": "display_data"
    },
    {
     "name": "stdout",
     "output_type": "stream",
     "text": [
      "\u001b[1m\tLayoutParser: A Unified Toolkit for Deep\n",
      "Learning Based Document Image Analysis\n",
      "\u001b[0m\n"
     ]
    },
    {
     "data": {
      "text/plain": [
       "'NarrativeText:'"
      ]
     },
     "metadata": {},
     "output_type": "display_data"
    },
    {
     "name": "stdout",
     "output_type": "stream",
     "text": [
      "\u001b[1m\t‘Zxjiang Shen' (F3}, Ruochen Zhang”, Melissa Dell*, Benjamin Charles Germain\n",
      "Leet, Jacob Carlson, and Weining LiF\n",
      "\u001b[0m\n"
     ]
    },
    {
     "data": {
      "text/plain": [
       "'ListItem:'"
      ]
     },
     "metadata": {},
     "output_type": "display_data"
    },
    {
     "name": "stdout",
     "output_type": "stream",
     "text": [
      "\u001b[1m\tsugehen\u001b[0m\n"
     ]
    },
    {
     "data": {
      "text/plain": [
       "'ListItem:'"
      ]
     },
     "metadata": {},
     "output_type": "display_data"
    },
    {
     "name": "stdout",
     "output_type": "stream",
     "text": [
      "\u001b[1m\tshangthrows, et\u001b[0m\n"
     ]
    },
    {
     "data": {
      "text/plain": [
       "'NarrativeText:'"
      ]
     },
     "metadata": {},
     "output_type": "display_data"
    },
    {
     "name": "stdout",
     "output_type": "stream",
     "text": [
      "\u001b[1m\t“Abstract. Recent advanocs in document image analysis (DIA) have been\n",
      "‘pimarliy driven bythe application of neural networks dell roar\n",
      "{uteomer could be aly deployed in production and extended fo farther\n",
      "[nvetigtion. However, various factory ke lcely organize codebanee\n",
      "snd sophisticated modal cnigurations compat the ey ree of\n",
      "‘erin! innovation by wide sence, Though there have been sng\n",
      "‘Hors to improve reuablty and simplify deep lees (DL) mode\n",
      "‘aon, sone of them ae optimized for challenge inthe demain of DIA,\n",
      "This roprscte a major gap in the extng fol, sw DIA i eal to\n",
      "scademic research acon wie range of dpi in the social ssencee\n",
      "[rary for streamlining the sage of DL in DIA research and appicn\n",
      "‘tons The core LayoutFaraer brary comes with a sch of simple and\n",
      "Intative interfaee or applying and eutomiing DI. odel fr Inyo de\n",
      "pltfom for sharing both protrined modes an fal document dist\n",
      "{ation pipeline We demonutate that LayootPareer shea fr both\n",
      "lightweight and lrgeseledgtieation pipelines in eal-word uae ces\n",
      "The leary pblely smal at Btspe://layost-pareergsthab So\n",
      "\n",
      "\u001b[0m\n"
     ]
    },
    {
     "data": {
      "text/plain": [
       "'NarrativeText:'"
      ]
     },
     "metadata": {},
     "output_type": "display_data"
    },
    {
     "name": "stdout",
     "output_type": "stream",
     "text": [
      "\u001b[1m\t‘Keywords: Document Image Analysis» Deep Learning Layout Analysis\n",
      "‘Character Renguition - Open Serres dary « Tol\n",
      "\u001b[0m\n"
     ]
    },
    {
     "data": {
      "text/plain": [
       "'Title:'"
      ]
     },
     "metadata": {},
     "output_type": "display_data"
    },
    {
     "name": "stdout",
     "output_type": "stream",
     "text": [
      "\u001b[1m\tIntroduction\n",
      "\u001b[0m\n"
     ]
    },
    {
     "data": {
      "text/plain": [
       "'NarrativeText:'"
      ]
     },
     "metadata": {},
     "output_type": "display_data"
    },
    {
     "name": "stdout",
     "output_type": "stream",
     "text": [
      "\u001b[1m\t‘Deep Learning(DL)-based approaches are the state-of-the-art for a wide range of\n",
      "doctiment image analysis (DIA) tea including document image clasiffeation [I]\n",
      "\u001b[0m\n"
     ]
    }
   ],
   "source": [
    "# test partition: .jpg (pdf_image)\n",
    "elements = pipeline_api(file=open(img_file, 'rb'))\n",
    "for elem in elements:\n",
    "    display(elem['type']+ \":\")\n",
    "    print(f\"\\033[1m\\t{elem['text']}\\033[0m\")"
   ]
  },
  {
   "cell_type": "code",
   "execution_count": 26,
   "id": "2984ccfd",
   "metadata": {},
   "outputs": [
    {
     "data": {
      "text/plain": [
       "'Title:'"
      ]
     },
     "metadata": {},
     "output_type": "display_data"
    },
    {
     "name": "stdout",
     "output_type": "stream",
     "text": [
      "\u001b[1m\tLayoutParser : A Uniﬁed Toolkit for Deep Learning Based Document Image Analysis\u001b[0m\n"
     ]
    },
    {
     "data": {
      "text/plain": [
       "'NarrativeText:'"
      ]
     },
     "metadata": {},
     "output_type": "display_data"
    },
    {
     "name": "stdout",
     "output_type": "stream",
     "text": [
      "\u001b[1m\tZejiang Shen 1 ( (ea)\n",
      " ), Ruochen Zhang 2 , Melissa Dell 3 , Benjamin Charles Germain Lee 4 , Jacob Carlson 3 , and Weining Li 5\u001b[0m\n"
     ]
    },
    {
     "data": {
      "text/plain": [
       "'ListItem:'"
      ]
     },
     "metadata": {},
     "output_type": "display_data"
    },
    {
     "name": "stdout",
     "output_type": "stream",
     "text": [
      "\u001b[1m\tAllen Institute for AI shannons@allenai.org\u001b[0m\n"
     ]
    },
    {
     "data": {
      "text/plain": [
       "'ListItem:'"
      ]
     },
     "metadata": {},
     "output_type": "display_data"
    },
    {
     "name": "stdout",
     "output_type": "stream",
     "text": [
      "\u001b[1m\tBrown University ruochen zhang@brown.edu\u001b[0m\n"
     ]
    },
    {
     "data": {
      "text/plain": [
       "'ListItem:'"
      ]
     },
     "metadata": {},
     "output_type": "display_data"
    },
    {
     "name": "stdout",
     "output_type": "stream",
     "text": [
      "\u001b[1m\tHarvard University { melissadell,jacob carlson } @fas.harvard.edu\u001b[0m\n"
     ]
    },
    {
     "data": {
      "text/plain": [
       "'ListItem:'"
      ]
     },
     "metadata": {},
     "output_type": "display_data"
    },
    {
     "name": "stdout",
     "output_type": "stream",
     "text": [
      "\u001b[1m\tUniversity of Washington bcgl@cs.washington.edu\u001b[0m\n"
     ]
    },
    {
     "data": {
      "text/plain": [
       "'ListItem:'"
      ]
     },
     "metadata": {},
     "output_type": "display_data"
    },
    {
     "name": "stdout",
     "output_type": "stream",
     "text": [
      "\u001b[1m\tUniversity of Waterloo w\u001b[0m\n"
     ]
    },
    {
     "data": {
      "text/plain": [
       "'ListItem:'"
      ]
     },
     "metadata": {},
     "output_type": "display_data"
    },
    {
     "name": "stdout",
     "output_type": "stream",
     "text": [
      "\u001b[1m\tli@uwaterloo.ca\u001b[0m\n"
     ]
    },
    {
     "data": {
      "text/plain": [
       "'NarrativeText:'"
      ]
     },
     "metadata": {},
     "output_type": "display_data"
    },
    {
     "name": "stdout",
     "output_type": "stream",
     "text": [
      "\u001b[1m\tAbstract. Recent advances in document image analysis (DIA) have been primarily driven by the application of neural networks. Ideally, research outcomes could be easily deployed in production and extended for further investigation. However, various factors like loosely organized codebases and sophisticated model conﬁgurations complicate the easy reuse of im- portant innovations by a wide audience. Though there have been on-going eﬀorts to improve reusability and simplify deep learning (DL) model development in disciplines like natural language processing and computer vision, none of them are optimized for challenges in the domain of DIA. This represents a major gap in the existing toolkit, as DIA is central to academic research across a wide range of disciplines in the social sciences and humanities. This paper introduces LayoutParser , an open-source library for streamlining the usage of DL in DIA research and applica- tions. The core LayoutParser library comes with a set of simple and intuitive interfaces for applying and customizing DL models for layout de- tection, character recognition, and many other document processing tasks. To promote extensibility, LayoutParser also incorporates a community platform for sharing both pre-trained models and full document digiti- zation pipelines. We demonstrate that LayoutParser is helpful for both lightweight and large-scale digitization pipelines in real-word use cases. The library is publicly available at https://layout-parser.github.io\u001b[0m\n"
     ]
    },
    {
     "data": {
      "text/plain": [
       "'NarrativeText:'"
      ]
     },
     "metadata": {},
     "output_type": "display_data"
    },
    {
     "name": "stdout",
     "output_type": "stream",
     "text": [
      "\u001b[1m\tKeywords: Document Image Analysis · Deep Learning · Layout Analysis · Character Recognition · Open Source library · Toolkit.\u001b[0m\n"
     ]
    },
    {
     "data": {
      "text/plain": [
       "'Title:'"
      ]
     },
     "metadata": {},
     "output_type": "display_data"
    },
    {
     "name": "stdout",
     "output_type": "stream",
     "text": [
      "\u001b[1m\tIntroduction\u001b[0m\n"
     ]
    },
    {
     "data": {
      "text/plain": [
       "'NarrativeText:'"
      ]
     },
     "metadata": {},
     "output_type": "display_data"
    },
    {
     "name": "stdout",
     "output_type": "stream",
     "text": [
      "\u001b[1m\tDeep Learning(DL)-based approaches are the state-of-the-art for a wide range of document image analysis (DIA) tasks including document image classiﬁcation [11,\u001b[0m\n"
     ]
    },
    {
     "data": {
      "text/plain": [
       "'NarrativeText:'"
      ]
     },
     "metadata": {},
     "output_type": "display_data"
    },
    {
     "name": "stdout",
     "output_type": "stream",
     "text": [
      "\u001b[1m\t37], layout detection [38, 22], table detection [26], and scene text detection [4]. A generalized learning-based framework dramatically reduces the need for the manual speciﬁcation of complicated rules, which is the status quo with traditional methods. DL has the potential to transform DIA pipelines and beneﬁt a broad spectrum of large-scale document digitization projects.\u001b[0m\n"
     ]
    },
    {
     "data": {
      "text/plain": [
       "'NarrativeText:'"
      ]
     },
     "metadata": {},
     "output_type": "display_data"
    },
    {
     "name": "stdout",
     "output_type": "stream",
     "text": [
      "\u001b[1m\tHowever, there are several practical diﬃculties for taking advantages of re- cent advances in DL-based methods: 1) DL models are notoriously convoluted for reuse and extension. Existing models are developed using distinct frame- works like TensorFlow [1] or PyTorch [24], and the high-level parameters can be obfuscated by implementation details [8]. It can be a time-consuming and frustrating experience to debug, reproduce, and adapt existing models for DIA, and many researchers who would beneﬁt the most from using these methods lack the technical background to implement them from scratch. 2) Document images contain diverse and disparate patterns across domains, and customized training is often required to achieve a desirable detection accuracy. Currently there is no full-ﬂedged infrastructure for easily curating the target document image datasets and ﬁne-tuning or re-training the models. 3) DIA usually requires a sequence of models and other processing to obtain the ﬁnal outputs. Often research teams use DL models and then perform further document analyses in separate processes, and these pipelines are not documented in any central location (and often not documented at all). This makes it diﬃcult for research teams to learn about how full pipelines are implemented and leads them to invest signiﬁcant resources in reinventing the DIA wheel .\u001b[0m\n"
     ]
    },
    {
     "data": {
      "text/plain": [
       "'NarrativeText:'"
      ]
     },
     "metadata": {},
     "output_type": "display_data"
    },
    {
     "name": "stdout",
     "output_type": "stream",
     "text": [
      "\u001b[1m\tLayoutParser provides a uniﬁed toolkit to support DL-based document image analysis and processing. To address the aforementioned challenges, LayoutParser is built with the following components:\u001b[0m\n"
     ]
    },
    {
     "data": {
      "text/plain": [
       "'ListItem:'"
      ]
     },
     "metadata": {},
     "output_type": "display_data"
    },
    {
     "name": "stdout",
     "output_type": "stream",
     "text": [
      "\u001b[1m\tAn oﬀ-the-shelf toolkit for applying DL models for layout detection, character recognition, and other DIA tasks (Section\u001b[0m\n"
     ]
    },
    {
     "data": {
      "text/plain": [
       "'ListItem:'"
      ]
     },
     "metadata": {},
     "output_type": "display_data"
    },
    {
     "name": "stdout",
     "output_type": "stream",
     "text": [
      "\u001b[1m\t)\u001b[0m\n"
     ]
    },
    {
     "data": {
      "text/plain": [
       "'ListItem:'"
      ]
     },
     "metadata": {},
     "output_type": "display_data"
    },
    {
     "name": "stdout",
     "output_type": "stream",
     "text": [
      "\u001b[1m\tA rich repository of pre-trained neural network models (Model Zoo) that underlies the oﬀ-the-shelf usage\u001b[0m\n"
     ]
    },
    {
     "data": {
      "text/plain": [
       "'ListItem:'"
      ]
     },
     "metadata": {},
     "output_type": "display_data"
    },
    {
     "name": "stdout",
     "output_type": "stream",
     "text": [
      "\u001b[1m\tComprehensive tools for eﬃcient document image data annotation and model tuning to support diﬀerent levels of customization\u001b[0m\n"
     ]
    },
    {
     "data": {
      "text/plain": [
       "'ListItem:'"
      ]
     },
     "metadata": {},
     "output_type": "display_data"
    },
    {
     "name": "stdout",
     "output_type": "stream",
     "text": [
      "\u001b[1m\tA DL model hub and community platform for the easy sharing, distribu- tion, and discussion of DIA models and pipelines, to promote reusability, reproducibility, and extensibility (Section\u001b[0m\n"
     ]
    },
    {
     "data": {
      "text/plain": [
       "'ListItem:'"
      ]
     },
     "metadata": {},
     "output_type": "display_data"
    },
    {
     "name": "stdout",
     "output_type": "stream",
     "text": [
      "\u001b[1m\t)\u001b[0m\n"
     ]
    },
    {
     "data": {
      "text/plain": [
       "'NarrativeText:'"
      ]
     },
     "metadata": {},
     "output_type": "display_data"
    },
    {
     "name": "stdout",
     "output_type": "stream",
     "text": [
      "\u001b[1m\tThe library implements simple and intuitive Python APIs without sacriﬁcing generalizability and versatility, and can be easily installed via pip. Its convenient functions for handling document image data can be seamlessly integrated with existing DIA pipelines. With detailed documentations and carefully curated tutorials, we hope this tool will beneﬁt a variety of end-users, and will lead to advances in applications in both industry and academic research.\u001b[0m\n"
     ]
    },
    {
     "data": {
      "text/plain": [
       "'NarrativeText:'"
      ]
     },
     "metadata": {},
     "output_type": "display_data"
    },
    {
     "name": "stdout",
     "output_type": "stream",
     "text": [
      "\u001b[1m\tLayoutParser is well aligned with recent eﬀorts for improving DL model reusability in other disciplines like natural language processing [8, 34] and com- puter vision [35], but with a focus on unique challenges in DIA. We show LayoutParser can be applied in sophisticated and large-scale digitization projects\u001b[0m\n"
     ]
    },
    {
     "data": {
      "text/plain": [
       "'NarrativeText:'"
      ]
     },
     "metadata": {},
     "output_type": "display_data"
    },
    {
     "name": "stdout",
     "output_type": "stream",
     "text": [
      "\u001b[1m\tLayoutParser : A Uniﬁed Toolkit for DL-Based DIA\u001b[0m\n"
     ]
    },
    {
     "data": {
      "text/plain": [
       "'NarrativeText:'"
      ]
     },
     "metadata": {},
     "output_type": "display_data"
    },
    {
     "name": "stdout",
     "output_type": "stream",
     "text": [
      "\u001b[1m\tthat require precision, eﬃciency, and robustness, as well as simple and light- weight document processing tasks focusing on eﬃcacy and ﬂexibility (Section 5). LayoutParser is being actively maintained, and support for more deep learning models and novel methods in text-based layout analysis methods [37, 34] is planned.\u001b[0m\n"
     ]
    },
    {
     "data": {
      "text/plain": [
       "'NarrativeText:'"
      ]
     },
     "metadata": {},
     "output_type": "display_data"
    },
    {
     "name": "stdout",
     "output_type": "stream",
     "text": [
      "\u001b[1m\tThe rest of the paper is organized as follows. Section 2 provides an overview of related work. The core LayoutParser library, DL Model Zoo, and customized model training are described in Section 3, and the DL model hub and commu- nity platform are detailed in Section 4. Section 5 shows two examples of how LayoutParser can be used in practical DIA projects, and Section 6 concludes.\u001b[0m\n"
     ]
    },
    {
     "data": {
      "text/plain": [
       "'Title:'"
      ]
     },
     "metadata": {},
     "output_type": "display_data"
    },
    {
     "name": "stdout",
     "output_type": "stream",
     "text": [
      "\u001b[1m\t2 Related Work\u001b[0m\n"
     ]
    },
    {
     "data": {
      "text/plain": [
       "'NarrativeText:'"
      ]
     },
     "metadata": {},
     "output_type": "display_data"
    },
    {
     "name": "stdout",
     "output_type": "stream",
     "text": [
      "\u001b[1m\tRecently, various DL models and datasets have been developed for layout analysis tasks. The dhSegment [22] utilizes fully convolutional networks [20] for segmen- tation tasks on historical documents. Object detection-based methods like Faster R-CNN [28] and Mask R-CNN [12] are used for identifying document elements [38] and detecting tables [30, 26]. Most recently, Graph Neural Networks [29] have also been used in table detection [27]. However, these models are usually implemented individually and there is no uniﬁed framework to load and use such models.\u001b[0m\n"
     ]
    },
    {
     "data": {
      "text/plain": [
       "'NarrativeText:'"
      ]
     },
     "metadata": {},
     "output_type": "display_data"
    },
    {
     "name": "stdout",
     "output_type": "stream",
     "text": [
      "\u001b[1m\tThere has been a surge of interest in creating open-source tools for document image processing: a search of document image analysis in Github leads to 5M relevant code pieces 6 ; yet most of them rely on traditional rule-based methods or provide limited functionalities. The closest prior research to our work is the OCR-D project 7 , which also tries to build a complete toolkit for DIA. However, similar to the platform developed by Neudecker et al. [21], it is designed for analyzing historical documents, and provides no supports for recent DL models. The DocumentLayoutAnalysis project 8 focuses on processing born-digital PDF documents via analyzing the stored PDF data. Repositories like DeepLayout 9 and Detectron2-PubLayNet 10 are individual deep learning models trained on layout analysis datasets without support for the full DIA pipeline. The Document Analysis and Exploitation (DAE) platform [15] and the DeepDIVA project [2] aim to improve the reproducibility of DIA methods (or DL models), yet they are not actively maintained. OCR engines like Tesseract [14], easyOCR 11 and paddleOCR 12 usually do not come with comprehensive functionalities for other DIA tasks like layout analysis.\u001b[0m\n"
     ]
    },
    {
     "data": {
      "text/plain": [
       "'NarrativeText:'"
      ]
     },
     "metadata": {},
     "output_type": "display_data"
    },
    {
     "name": "stdout",
     "output_type": "stream",
     "text": [
      "\u001b[1m\tRecent years have also seen numerous eﬀorts to create libraries for promoting reproducibility and reusability in the ﬁeld of DL. Libraries like Dectectron2 [35],\u001b[0m\n"
     ]
    },
    {
     "data": {
      "text/plain": [
       "'ListItem:'"
      ]
     },
     "metadata": {},
     "output_type": "display_data"
    },
    {
     "name": "stdout",
     "output_type": "stream",
     "text": [
      "\u001b[1m\tThe number shown is obtained by specifying the search type\u001b[0m\n"
     ]
    },
    {
     "data": {
      "text/plain": [
       "'ListItem:'"
      ]
     },
     "metadata": {},
     "output_type": "display_data"
    },
    {
     "name": "stdout",
     "output_type": "stream",
     "text": [
      "\u001b[1m\thttps://ocr-d.de/en/about\u001b[0m\n"
     ]
    },
    {
     "data": {
      "text/plain": [
       "'ListItem:'"
      ]
     },
     "metadata": {},
     "output_type": "display_data"
    },
    {
     "name": "stdout",
     "output_type": "stream",
     "text": [
      "\u001b[1m\thttps://github.com/Bo\u001b[0m\n"
     ]
    },
    {
     "data": {
      "text/plain": [
       "'ListItem:'"
      ]
     },
     "metadata": {},
     "output_type": "display_data"
    },
    {
     "name": "stdout",
     "output_type": "stream",
     "text": [
      "\u001b[1m\td/Documen\u001b[0m\n"
     ]
    },
    {
     "data": {
      "text/plain": [
       "'ListItem:'"
      ]
     },
     "metadata": {},
     "output_type": "display_data"
    },
    {
     "name": "stdout",
     "output_type": "stream",
     "text": [
      "\u001b[1m\tayou\u001b[0m\n"
     ]
    },
    {
     "data": {
      "text/plain": [
       "'ListItem:'"
      ]
     },
     "metadata": {},
     "output_type": "display_data"
    },
    {
     "name": "stdout",
     "output_type": "stream",
     "text": [
      "\u001b[1m\tnalysis\u001b[0m\n"
     ]
    },
    {
     "data": {
      "text/plain": [
       "'ListItem:'"
      ]
     },
     "metadata": {},
     "output_type": "display_data"
    },
    {
     "name": "stdout",
     "output_type": "stream",
     "text": [
      "\u001b[1m\thttps://github.com/leonlulu/Dee\u001b[0m\n"
     ]
    },
    {
     "data": {
      "text/plain": [
       "'ListItem:'"
      ]
     },
     "metadata": {},
     "output_type": "display_data"
    },
    {
     "name": "stdout",
     "output_type": "stream",
     "text": [
      "\u001b[1m\tayout\u001b[0m\n"
     ]
    },
    {
     "data": {
      "text/plain": [
       "'ListItem:'"
      ]
     },
     "metadata": {},
     "output_type": "display_data"
    },
    {
     "name": "stdout",
     "output_type": "stream",
     "text": [
      "\u001b[1m\thttps://github.com/hpanwar\u001b[0m\n"
     ]
    },
    {
     "data": {
      "text/plain": [
       "'ListItem:'"
      ]
     },
     "metadata": {},
     "output_type": "display_data"
    },
    {
     "name": "stdout",
     "output_type": "stream",
     "text": [
      "\u001b[1m\t/detectron\u001b[0m\n"
     ]
    },
    {
     "data": {
      "text/plain": [
       "'ListItem:'"
      ]
     },
     "metadata": {},
     "output_type": "display_data"
    },
    {
     "name": "stdout",
     "output_type": "stream",
     "text": [
      "\u001b[1m\thttps://github.com/Jaide\u001b[0m\n"
     ]
    },
    {
     "data": {
      "text/plain": [
       "'ListItem:'"
      ]
     },
     "metadata": {},
     "output_type": "display_data"
    },
    {
     "name": "stdout",
     "output_type": "stream",
     "text": [
      "\u001b[1m\tI/Eas\u001b[0m\n"
     ]
    },
    {
     "data": {
      "text/plain": [
       "'ListItem:'"
      ]
     },
     "metadata": {},
     "output_type": "display_data"
    },
    {
     "name": "stdout",
     "output_type": "stream",
     "text": [
      "\u001b[1m\tCR\u001b[0m\n"
     ]
    },
    {
     "data": {
      "text/plain": [
       "'ListItem:'"
      ]
     },
     "metadata": {},
     "output_type": "display_data"
    },
    {
     "name": "stdout",
     "output_type": "stream",
     "text": [
      "\u001b[1m\thttps://github.com/Paddl\u001b[0m\n"
     ]
    },
    {
     "data": {
      "text/plain": [
       "'ListItem:'"
      ]
     },
     "metadata": {},
     "output_type": "display_data"
    },
    {
     "name": "stdout",
     "output_type": "stream",
     "text": [
      "\u001b[1m\taddle/Paddl\u001b[0m\n"
     ]
    },
    {
     "data": {
      "text/plain": [
       "'ListItem:'"
      ]
     },
     "metadata": {},
     "output_type": "display_data"
    },
    {
     "name": "stdout",
     "output_type": "stream",
     "text": [
      "\u001b[1m\tCR\u001b[0m\n"
     ]
    },
    {
     "data": {
      "text/plain": [
       "'FigureCaption:'"
      ]
     },
     "metadata": {},
     "output_type": "display_data"
    },
    {
     "name": "stdout",
     "output_type": "stream",
     "text": [
      "\u001b[1m\tEfficient Data Annotation Customized Model Training Model Customization DIA Model Hub DIA Pipeline Sharing Community Platform Layout Detection Models Document Images The Core LayoutParser Library OCR Module Storage & Visualization Layout Data Structure\u001b[0m\n"
     ]
    },
    {
     "data": {
      "text/plain": [
       "'NarrativeText:'"
      ]
     },
     "metadata": {},
     "output_type": "display_data"
    },
    {
     "name": "stdout",
     "output_type": "stream",
     "text": [
      "\u001b[1m\tFig. 1: The overall architecture of LayoutParser . For an input document image, the core LayoutParser library provides a set of oﬀ-the-shelf tools for layout detection, OCR, visualization, and storage, backed by a carefully designed layout data structure. LayoutParser also supports high level customization via eﬃcient layout annotation and model training functions. These improve model accuracy on the target samples. The community platform enables the easy sharing of DIA models and whole digitization pipelines to promote reusability and reproducibility. A collection of detailed documentation, tutorials and exemplar projects make LayoutParser easy to learn and use.\u001b[0m\n"
     ]
    },
    {
     "data": {
      "text/plain": [
       "'NarrativeText:'"
      ]
     },
     "metadata": {},
     "output_type": "display_data"
    },
    {
     "name": "stdout",
     "output_type": "stream",
     "text": [
      "\u001b[1m\tAllenNLP [8] and transformers [34] have provided the community with complete DL-based support for developing and deploying models for general computer vision and natural language processing problems. LayoutParser , on the other hand, specializes speciﬁcally in DIA tasks. LayoutParser is also equipped with a community platform inspired by established model hubs such as Torch Hub [23] and TensorFlow Hub [1]. It enables the sharing of pretrained models as well as full document processing pipelines that are unique to DIA tasks.\u001b[0m\n"
     ]
    },
    {
     "data": {
      "text/plain": [
       "'NarrativeText:'"
      ]
     },
     "metadata": {},
     "output_type": "display_data"
    },
    {
     "name": "stdout",
     "output_type": "stream",
     "text": [
      "\u001b[1m\tThere have been a variety of document data collections to facilitate the development of DL models. Some examples include PRImA [3](magazine layouts), PubLayNet [38](academic paper layouts), Table Bank [18](tables in academic papers), Newspaper Navigator Dataset [16, 17](newspaper ﬁgure layouts) and HJDataset [31](historical Japanese document layouts). A spectrum of models trained on these datasets are currently available in the LayoutParser model zoo to support diﬀerent use cases.\u001b[0m\n"
     ]
    },
    {
     "data": {
      "text/plain": [
       "'Title:'"
      ]
     },
     "metadata": {},
     "output_type": "display_data"
    },
    {
     "name": "stdout",
     "output_type": "stream",
     "text": [
      "\u001b[1m\tThe Core LayoutParser Library\u001b[0m\n"
     ]
    },
    {
     "data": {
      "text/plain": [
       "'NarrativeText:'"
      ]
     },
     "metadata": {},
     "output_type": "display_data"
    },
    {
     "name": "stdout",
     "output_type": "stream",
     "text": [
      "\u001b[1m\tAt the core of LayoutParser is an oﬀ-the-shelf toolkit that streamlines DL- based document image analysis. Five components support a simple interface with comprehensive functionalities: 1) The layout detection models enable using pre-trained or self-trained DL models for layout detection with just four lines of code. 2) The detected layout information is stored in carefully engineered\u001b[0m\n"
     ]
    },
    {
     "data": {
      "text/plain": [
       "'NarrativeText:'"
      ]
     },
     "metadata": {},
     "output_type": "display_data"
    },
    {
     "name": "stdout",
     "output_type": "stream",
     "text": [
      "\u001b[1m\tLayoutParser : A Uniﬁed Toolkit for DL-Based DIA\u001b[0m\n"
     ]
    },
    {
     "data": {
      "text/plain": [
       "'NarrativeText:'"
      ]
     },
     "metadata": {},
     "output_type": "display_data"
    },
    {
     "name": "stdout",
     "output_type": "stream",
     "text": [
      "\u001b[1m\tTable 1: Current layout detection models in the LayoutParser model zoo\u001b[0m\n"
     ]
    },
    {
     "data": {
      "text/plain": [
       "'UncategorizedText:'"
      ]
     },
     "metadata": {},
     "output_type": "display_data"
    },
    {
     "name": "stdout",
     "output_type": "stream",
     "text": [
      "\u001b[1m\tDataset Base Model 1 Large Model Notes PubLayNet [38] F / M M Layouts of modern scientiﬁc documents PRImA [3] M - Layouts of scanned modern magazines and scientiﬁc reports Newspaper [17] F - Layouts of scanned US newspapers from the 20th century TableBank [18] F F Table region on modern scientiﬁc and business document HJDataset [31] F / M - Layouts of history Japanese documents\u001b[0m\n"
     ]
    },
    {
     "data": {
      "text/plain": [
       "'NarrativeText:'"
      ]
     },
     "metadata": {},
     "output_type": "display_data"
    },
    {
     "name": "stdout",
     "output_type": "stream",
     "text": [
      "\u001b[1m\tFor each dataset, we train several models of diﬀerent sizes for diﬀerent needs (the trade-oﬀ between accuracy vs. computational cost). For “base model” and “large model”, we refer to using the ResNet 50 or ResNet 101 backbones [13], respectively. One can train models of diﬀerent architectures, like Faster R-CNN [28] (F) and Mask R-CNN [12] (M). For example, an F in the Large Model column indicates it has a Faster R-CNN model trained using the ResNet 101 backbone. The platform is maintained and a number of additions will be made to the model zoo in coming months.\u001b[0m\n"
     ]
    },
    {
     "data": {
      "text/plain": [
       "'NarrativeText:'"
      ]
     },
     "metadata": {},
     "output_type": "display_data"
    },
    {
     "name": "stdout",
     "output_type": "stream",
     "text": [
      "\u001b[1m\tlayout data structures , which are optimized for eﬃciency and versatility. 3) When necessary, users can employ existing or customized OCR models via the uniﬁed API provided in the OCR module . 4) LayoutParser comes with a set of utility functions for the visualization and storage of the layout data. 5) LayoutParser is also highly customizable, via its integration with functions for layout data annotation and model training . We now provide detailed descriptions for each component.\u001b[0m\n"
     ]
    },
    {
     "data": {
      "text/plain": [
       "'Title:'"
      ]
     },
     "metadata": {},
     "output_type": "display_data"
    },
    {
     "name": "stdout",
     "output_type": "stream",
     "text": [
      "\u001b[1m\tLayout Detection Models\u001b[0m\n"
     ]
    },
    {
     "data": {
      "text/plain": [
       "'NarrativeText:'"
      ]
     },
     "metadata": {},
     "output_type": "display_data"
    },
    {
     "name": "stdout",
     "output_type": "stream",
     "text": [
      "\u001b[1m\tIn LayoutParser , a layout model takes a document image as an input and generates a list of rectangular boxes for the target content regions. Diﬀerent from traditional methods, it relies on deep convolutional neural networks rather than manually curated rules to identify content regions. It is formulated as an object detection problem and state-of-the-art models like Faster R-CNN [28] and Mask R-CNN [12] are used. This yields prediction results of high accuracy and makes it possible to build a concise, generalized interface for layout detection. LayoutParser , built upon Detectron2 [35], provides a minimal API that can perform layout detection with only four lines of code in Python:\u001b[0m\n"
     ]
    },
    {
     "data": {
      "text/plain": [
       "'ListItem:'"
      ]
     },
     "metadata": {},
     "output_type": "display_data"
    },
    {
     "name": "stdout",
     "output_type": "stream",
     "text": [
      "\u001b[1m\timport layoutparser as lp image = cv\u001b[0m\n"
     ]
    },
    {
     "data": {
      "text/plain": [
       "'ListItem:'"
      ]
     },
     "metadata": {},
     "output_type": "display_data"
    },
    {
     "name": "stdout",
     "output_type": "stream",
     "text": [
      "\u001b[1m\timread(\"image_file\") # load images model = lp.Detectron\u001b[0m\n"
     ]
    },
    {
     "data": {
      "text/plain": [
       "'ListItem:'"
      ]
     },
     "metadata": {},
     "output_type": "display_data"
    },
    {
     "name": "stdout",
     "output_type": "stream",
     "text": [
      "\u001b[1m\tLayou\u001b[0m\n"
     ]
    },
    {
     "data": {
      "text/plain": [
       "'ListItem:'"
      ]
     },
     "metadata": {},
     "output_type": "display_data"
    },
    {
     "name": "stdout",
     "output_type": "stream",
     "text": [
      "\u001b[1m\todel( \"lp:// Pu\u001b[0m\n"
     ]
    },
    {
     "data": {
      "text/plain": [
       "'ListItem:'"
      ]
     },
     "metadata": {},
     "output_type": "display_data"
    },
    {
     "name": "stdout",
     "output_type": "stream",
     "text": [
      "\u001b[1m\ta\u001b[0m\n"
     ]
    },
    {
     "data": {
      "text/plain": [
       "'ListItem:'"
      ]
     },
     "metadata": {},
     "output_type": "display_data"
    },
    {
     "name": "stdout",
     "output_type": "stream",
     "text": [
      "\u001b[1m\tet/faster_rcnn_R_\u001b[0m\n"
     ]
    },
    {
     "data": {
      "text/plain": [
       "'ListItem:'"
      ]
     },
     "metadata": {},
     "output_type": "display_data"
    },
    {
     "name": "stdout",
     "output_type": "stream",
     "text": [
      "\u001b[1m\t_FPN_\u001b[0m\n"
     ]
    },
    {
     "data": {
      "text/plain": [
       "'ListItem:'"
      ]
     },
     "metadata": {},
     "output_type": "display_data"
    },
    {
     "name": "stdout",
     "output_type": "stream",
     "text": [
      "\u001b[1m\tx/config\") layout = model.detect(image)\u001b[0m\n"
     ]
    },
    {
     "data": {
      "text/plain": [
       "'NarrativeText:'"
      ]
     },
     "metadata": {},
     "output_type": "display_data"
    },
    {
     "name": "stdout",
     "output_type": "stream",
     "text": [
      "\u001b[1m\tLayoutParser provides a wealth of pre-trained model weights using various datasets covering diﬀerent languages, time periods, and document types. Due to domain shift [7], the prediction performance can notably drop when models are ap- plied to target samples that are signiﬁcantly diﬀerent from the training dataset. As document structures and layouts vary greatly in diﬀerent domains, it is important to select models trained on a dataset similar to the test samples. A semantic syntax is used for initializing the model weights in LayoutParser , using both the dataset name and model name lp://<dataset-name>/<model-architecture-name>\u001b[0m\n"
     ]
    },
    {
     "data": {
      "text/plain": [
       "'FigureCaption:'"
      ]
     },
     "metadata": {},
     "output_type": "display_data"
    },
    {
     "name": "stdout",
     "output_type": "stream",
     "text": [
      "\u001b[1m\t\u001b[0m\n"
     ]
    },
    {
     "data": {
      "text/plain": [
       "'NarrativeText:'"
      ]
     },
     "metadata": {},
     "output_type": "display_data"
    },
    {
     "name": "stdout",
     "output_type": "stream",
     "text": [
      "\u001b[1m\tFig. 2: The relationship between the three types of layout data structures. Coordinate supports three kinds of variation; TextBlock consists of the co- ordinate information and extra features like block text, types, and reading orders; a Layout object is a list of all possible layout elements, including other Layout objects. They all support the same set of transformation and operation APIs for maximum ﬂexibility.\u001b[0m\n"
     ]
    },
    {
     "data": {
      "text/plain": [
       "'NarrativeText:'"
      ]
     },
     "metadata": {},
     "output_type": "display_data"
    },
    {
     "name": "stdout",
     "output_type": "stream",
     "text": [
      "\u001b[1m\tShown in Table 1, LayoutParser currently hosts 9 pre-trained models trained on 5 diﬀerent datasets. Description of the training dataset is provided alongside with the trained models such that users can quickly identify the most suitable models for their tasks. Additionally, when such a model is not readily available, LayoutParser also supports training customized layout models and community sharing of the models (detailed in Section 3.5).\u001b[0m\n"
     ]
    },
    {
     "data": {
      "text/plain": [
       "'Title:'"
      ]
     },
     "metadata": {},
     "output_type": "display_data"
    },
    {
     "name": "stdout",
     "output_type": "stream",
     "text": [
      "\u001b[1m\tLayout Data Structures\u001b[0m\n"
     ]
    },
    {
     "data": {
      "text/plain": [
       "'NarrativeText:'"
      ]
     },
     "metadata": {},
     "output_type": "display_data"
    },
    {
     "name": "stdout",
     "output_type": "stream",
     "text": [
      "\u001b[1m\tA critical feature of LayoutParser is the implementation of a series of data structures and operations that can be used to eﬃciently process and manipulate the layout elements. In document image analysis pipelines, various post-processing on the layout analysis model outputs is usually required to obtain the ﬁnal outputs. Traditionally, this requires exporting DL model outputs and then loading the results into other pipelines. All model outputs from LayoutParser will be stored in carefully engineered data types optimized for further processing, which makes it possible to build an end-to-end document digitization pipeline within LayoutParser . There are three key components in the data structure, namely the Coordinate system, the TextBlock , and the Layout . They provide diﬀerent levels of abstraction for the layout data, and a set of APIs are supported for transformations or operations on these classes.\u001b[0m\n"
     ]
    },
    {
     "data": {
      "text/plain": [
       "'NarrativeText:'"
      ]
     },
     "metadata": {},
     "output_type": "display_data"
    },
    {
     "name": "stdout",
     "output_type": "stream",
     "text": [
      "\u001b[1m\tLayoutParser : A Uniﬁed Toolkit for DL-Based DIA\u001b[0m\n"
     ]
    },
    {
     "data": {
      "text/plain": [
       "'NarrativeText:'"
      ]
     },
     "metadata": {},
     "output_type": "display_data"
    },
    {
     "name": "stdout",
     "output_type": "stream",
     "text": [
      "\u001b[1m\tCoordinates are the cornerstones for storing layout information. Currently, three types of Coordinate data structures are provided in LayoutParser , shown in Figure 2. Interval and Rectangle are the most common data types and support specifying 1D or 2D regions within a document. They are parameterized with 2 and 4 parameters. A Quadrilateral class is also implemented to support a more generalized representation of rectangular regions when the document is skewed or distorted, where the 4 corner points can be speciﬁed and a total of 8 degrees of freedom are supported. A wide collection of transformations like shift , pad , and scale , and operations like intersect , union , and is_in , are supported for these classes. Notably, it is common to separate a segment of the image and analyze it individually. LayoutParser provides full support for this scenario via image cropping operations crop_image and coordinate transformations like relative_to and condition_on that transform coordinates to and from their relative representations. We refer readers to Table 2 for a more detailed description of these operations 13 .\u001b[0m\n"
     ]
    },
    {
     "data": {
      "text/plain": [
       "'NarrativeText:'"
      ]
     },
     "metadata": {},
     "output_type": "display_data"
    },
    {
     "name": "stdout",
     "output_type": "stream",
     "text": [
      "\u001b[1m\tBased on Coordinate s, we implement the TextBlock class that stores both the positional and extra features of individual layout elements. It also supports specifying the reading orders via setting the parent ﬁeld to the index of the parent object. A Layout class is built that takes in a list of TextBlock s and supports processing the elements in batch. Layout can also be nested to support hierarchical layout structures. They support the same operations and transformations as the Coordinate classes, minimizing both learning and deployment eﬀort.\u001b[0m\n"
     ]
    },
    {
     "data": {
      "text/plain": [
       "'Title:'"
      ]
     },
     "metadata": {},
     "output_type": "display_data"
    },
    {
     "name": "stdout",
     "output_type": "stream",
     "text": [
      "\u001b[1m\t3.3 OCR\u001b[0m\n"
     ]
    },
    {
     "data": {
      "text/plain": [
       "'NarrativeText:'"
      ]
     },
     "metadata": {},
     "output_type": "display_data"
    },
    {
     "name": "stdout",
     "output_type": "stream",
     "text": [
      "\u001b[1m\tLayoutParser provides a uniﬁed interface for existing OCR tools. Though there are many OCR tools available, they are usually conﬁgured diﬀerently with distinct APIs or protocols for using them. It can be ineﬃcient to add new OCR tools into an existing pipeline, and diﬃcult to make direct comparisons among the available tools to ﬁnd the best option for a particular project. To this end, LayoutParser builds a series of wrappers among existing OCR engines, and provides nearly the same syntax for using them. It supports a plug-and-play style of using OCR engines, making it eﬀortless to switch, evaluate, and compare diﬀerent OCR modules:\u001b[0m\n"
     ]
    },
    {
     "data": {
      "text/plain": [
       "'ListItem:'"
      ]
     },
     "metadata": {},
     "output_type": "display_data"
    },
    {
     "name": "stdout",
     "output_type": "stream",
     "text": [
      "\u001b[1m\tocr_agent = lp.Tesserac\u001b[0m\n"
     ]
    },
    {
     "data": {
      "text/plain": [
       "'ListItem:'"
      ]
     },
     "metadata": {},
     "output_type": "display_data"
    },
    {
     "name": "stdout",
     "output_type": "stream",
     "text": [
      "\u001b[1m\tgent () # Can be easily switched to other OCR software tokens = ocr_agent.detect(image)\u001b[0m\n"
     ]
    },
    {
     "data": {
      "text/plain": [
       "'NarrativeText:'"
      ]
     },
     "metadata": {},
     "output_type": "display_data"
    },
    {
     "name": "stdout",
     "output_type": "stream",
     "text": [
      "\u001b[1m\tThe OCR outputs will also be stored in the aforementioned layout data structures and can be seamlessly incorporated into the digitization pipeline. Currently LayoutParser supports the Tesseract and Google Cloud Vision OCR engines.\u001b[0m\n"
     ]
    },
    {
     "data": {
      "text/plain": [
       "'NarrativeText:'"
      ]
     },
     "metadata": {},
     "output_type": "display_data"
    },
    {
     "name": "stdout",
     "output_type": "stream",
     "text": [
      "\u001b[1m\tLayoutParser also comes with a DL-based CNN-RNN OCR model [6] trained with the Connectionist Temporal Classiﬁcation (CTC) loss [10]. It can be used like the other OCR modules, and can be easily trained on customized datasets.\u001b[0m\n"
     ]
    },
    {
     "data": {
      "text/plain": [
       "'NarrativeText:'"
      ]
     },
     "metadata": {},
     "output_type": "display_data"
    },
    {
     "name": "stdout",
     "output_type": "stream",
     "text": [
      "\u001b[1m\t13 This is also available in the LayoutParser documentation pages.\u001b[0m\n"
     ]
    },
    {
     "data": {
      "text/plain": [
       "'NarrativeText:'"
      ]
     },
     "metadata": {},
     "output_type": "display_data"
    },
    {
     "name": "stdout",
     "output_type": "stream",
     "text": [
      "\u001b[1m\tTable 2: All operations supported by the layout elements. The same APIs are supported across diﬀerent layout element classes including Coordinate types, TextBlock and Layout .\u001b[0m\n"
     ]
    },
    {
     "data": {
      "text/plain": [
       "'UncategorizedText:'"
      ]
     },
     "metadata": {},
     "output_type": "display_data"
    },
    {
     "name": "stdout",
     "output_type": "stream",
     "text": [
      "\u001b[1m\tOperation Name Description block.pad(top, bottom, right, left) Enlarge the current block according to the input block.scale(fx, fy) Scale the current block given the ratio in x and y direction block.shift(dx, dy) Move the current block with the shift distances in x and y direction block1.is in(block2) Whether block1 is inside of block2 block1.intersect(block2) Return the intersection region of block1 and block2. Coordinate type to be determined based on the inputs. block1.union(block2) Return the union region of block1 and block2. Coordinate type to be determined based on the inputs. block1.relative to(block2) Convert the absolute coordinates of block1 to relative coordinates to block2 block1.condition on(block2) Calculate the absolute coordinates of block1 given the canvas block2’s absolute coordinates block.crop image(image) Obtain the image segments in the block region\u001b[0m\n"
     ]
    },
    {
     "data": {
      "text/plain": [
       "'Title:'"
      ]
     },
     "metadata": {},
     "output_type": "display_data"
    },
    {
     "name": "stdout",
     "output_type": "stream",
     "text": [
      "\u001b[1m\tStorage and visualization\u001b[0m\n"
     ]
    },
    {
     "data": {
      "text/plain": [
       "'NarrativeText:'"
      ]
     },
     "metadata": {},
     "output_type": "display_data"
    },
    {
     "name": "stdout",
     "output_type": "stream",
     "text": [
      "\u001b[1m\tThe end goal of DIA is to transform the image-based document data into a structured database. LayoutParser supports exporting layout data into diﬀerent formats like JSON , csv , and will add the support for the METS/ALTO XML format 14 . It can also load datasets from layout analysis-speciﬁc formats like COCO [38] and the Page Format [25] for training layout models (Section 3.5).\u001b[0m\n"
     ]
    },
    {
     "data": {
      "text/plain": [
       "'NarrativeText:'"
      ]
     },
     "metadata": {},
     "output_type": "display_data"
    },
    {
     "name": "stdout",
     "output_type": "stream",
     "text": [
      "\u001b[1m\tVisualization of the layout detection results is critical for both presentation and debugging. LayoutParser is built with an integrated API for displaying the layout information along with the original document image. Shown in Figure 3, it enables presenting layout data with rich meta information and features in diﬀerent modes. More detailed information can be found in the online LayoutParser documentation page.\u001b[0m\n"
     ]
    },
    {
     "data": {
      "text/plain": [
       "'Title:'"
      ]
     },
     "metadata": {},
     "output_type": "display_data"
    },
    {
     "name": "stdout",
     "output_type": "stream",
     "text": [
      "\u001b[1m\t3.5 Customized Model Training\u001b[0m\n"
     ]
    },
    {
     "data": {
      "text/plain": [
       "'NarrativeText:'"
      ]
     },
     "metadata": {},
     "output_type": "display_data"
    },
    {
     "name": "stdout",
     "output_type": "stream",
     "text": [
      "\u001b[1m\tBesides the oﬀ-the-shelf library, LayoutParser is also highly customizable with supports for highly unique and challenging document analysis tasks. Target document images can be vastly diﬀerent from the existing datasets for train- ing layout models, which leads to low layout detection accuracy. Training data\u001b[0m\n"
     ]
    },
    {
     "data": {
      "text/plain": [
       "'NarrativeText:'"
      ]
     },
     "metadata": {},
     "output_type": "display_data"
    },
    {
     "name": "stdout",
     "output_type": "stream",
     "text": [
      "\u001b[1m\t14 https://altoxml.github.io\u001b[0m\n"
     ]
    },
    {
     "data": {
      "text/plain": [
       "'NarrativeText:'"
      ]
     },
     "metadata": {},
     "output_type": "display_data"
    },
    {
     "name": "stdout",
     "output_type": "stream",
     "text": [
      "\u001b[1m\tLayoutParser : A Uniﬁed Toolkit for DL-Based DIA\u001b[0m\n"
     ]
    },
    {
     "data": {
      "text/plain": [
       "'FigureCaption:'"
      ]
     },
     "metadata": {},
     "output_type": "display_data"
    },
    {
     "name": "stdout",
     "output_type": "stream",
     "text": [
      "\u001b[1m\t\u001b[0m\n"
     ]
    },
    {
     "data": {
      "text/plain": [
       "'NarrativeText:'"
      ]
     },
     "metadata": {},
     "output_type": "display_data"
    },
    {
     "name": "stdout",
     "output_type": "stream",
     "text": [
      "\u001b[1m\t\u001b[0m\n"
     ]
    },
    {
     "data": {
      "text/plain": [
       "'NarrativeText:'"
      ]
     },
     "metadata": {},
     "output_type": "display_data"
    },
    {
     "name": "stdout",
     "output_type": "stream",
     "text": [
      "\u001b[1m\t\u001b[0m\n"
     ]
    },
    {
     "data": {
      "text/plain": [
       "'NarrativeText:'"
      ]
     },
     "metadata": {},
     "output_type": "display_data"
    },
    {
     "name": "stdout",
     "output_type": "stream",
     "text": [
      "\u001b[1m\tFig. 3: Layout detection and OCR results visualization generated by the LayoutParser APIs. Mode I directly overlays the layout region bounding boxes and categories over the original image. Mode II recreates the original document via drawing the OCR’d texts at their corresponding positions on the image canvas. In this ﬁgure, tokens in textual regions are ﬁltered using the API and then displayed.\u001b[0m\n"
     ]
    },
    {
     "data": {
      "text/plain": [
       "'NarrativeText:'"
      ]
     },
     "metadata": {},
     "output_type": "display_data"
    },
    {
     "name": "stdout",
     "output_type": "stream",
     "text": [
      "\u001b[1m\tcan also be highly sensitive and not sharable publicly. To overcome these chal- lenges, LayoutParser is built with rich features for eﬃcient data annotation and customized model training.\u001b[0m\n"
     ]
    },
    {
     "data": {
      "text/plain": [
       "'NarrativeText:'"
      ]
     },
     "metadata": {},
     "output_type": "display_data"
    },
    {
     "name": "stdout",
     "output_type": "stream",
     "text": [
      "\u001b[1m\tLayoutParser incorporates a toolkit optimized for annotating document lay- outs using object-level active learning [32]. With the help from a layout detection model trained along with labeling, only the most important layout objects within each image, rather than the whole image, are required for labeling. The rest of the regions are automatically annotated with high conﬁdence predictions from the layout detection model. This allows a layout dataset to be created more eﬃciently with only around 60% of the labeling budget.\u001b[0m\n"
     ]
    },
    {
     "data": {
      "text/plain": [
       "'NarrativeText:'"
      ]
     },
     "metadata": {},
     "output_type": "display_data"
    },
    {
     "name": "stdout",
     "output_type": "stream",
     "text": [
      "\u001b[1m\tAfter the training dataset is curated, LayoutParser supports diﬀerent modes for training the layout models. Fine-tuning can be used for training models on a small newly-labeled dataset by initializing the model with existing pre-trained weights. Training from scratch can be helpful when the source dataset and target are signiﬁcantly diﬀerent and a large training set is available. However, as suggested in Studer et al.’s work[33], loading pre-trained weights on large-scale datasets like ImageNet [5], even from totally diﬀerent domains, can still boost model performance. Through the integrated API provided by LayoutParser , users can easily compare model performances on the benchmark datasets.\u001b[0m\n"
     ]
    },
    {
     "data": {
      "text/plain": [
       "'FigureCaption:'"
      ]
     },
     "metadata": {},
     "output_type": "display_data"
    },
    {
     "name": "stdout",
     "output_type": "stream",
     "text": [
      "\u001b[1m\t\u001b[0m\n"
     ]
    },
    {
     "data": {
      "text/plain": [
       "'NarrativeText:'"
      ]
     },
     "metadata": {},
     "output_type": "display_data"
    },
    {
     "name": "stdout",
     "output_type": "stream",
     "text": [
      "\u001b[1m\tFig. 4: Illustration of (a) the original historical Japanese document with layout detection results and (b) a recreated version of the document image that achieves much better character recognition recall. The reorganization algorithm rearranges the tokens based on the their detected bounding boxes given a maximum allowed height.\u001b[0m\n"
     ]
    },
    {
     "data": {
      "text/plain": [
       "'Title:'"
      ]
     },
     "metadata": {},
     "output_type": "display_data"
    },
    {
     "name": "stdout",
     "output_type": "stream",
     "text": [
      "\u001b[1m\tLayoutParser Community Platform\u001b[0m\n"
     ]
    },
    {
     "data": {
      "text/plain": [
       "'NarrativeText:'"
      ]
     },
     "metadata": {},
     "output_type": "display_data"
    },
    {
     "name": "stdout",
     "output_type": "stream",
     "text": [
      "\u001b[1m\tAnother focus of LayoutParser is promoting the reusability of layout detection models and full digitization pipelines. Similar to many existing deep learning libraries, LayoutParser comes with a community model hub for distributing layout models. End-users can upload their self-trained models to the model hub, and these models can be loaded into a similar interface as the currently available LayoutParser pre-trained models. For example, the model trained on the News Navigator dataset [17] has been incorporated in the model hub.\u001b[0m\n"
     ]
    },
    {
     "data": {
      "text/plain": [
       "'NarrativeText:'"
      ]
     },
     "metadata": {},
     "output_type": "display_data"
    },
    {
     "name": "stdout",
     "output_type": "stream",
     "text": [
      "\u001b[1m\tBeyond DL models, LayoutParser also promotes the sharing of entire doc- ument digitization pipelines. For example, sometimes the pipeline requires the combination of multiple DL models to achieve better accuracy. Currently, pipelines are mainly described in academic papers and implementations are often not pub- licly available. To this end, the LayoutParser community platform also enables the sharing of layout pipelines to promote the discussion and reuse of techniques. For each shared pipeline, it has a dedicated project page, with links to the source code, documentation, and an outline of the approaches. A discussion panel is provided for exchanging ideas. Combined with the core LayoutParser library, users can easily build reusable components based on the shared pipelines and apply them to solve their unique problems.\u001b[0m\n"
     ]
    },
    {
     "data": {
      "text/plain": [
       "'Title:'"
      ]
     },
     "metadata": {},
     "output_type": "display_data"
    },
    {
     "name": "stdout",
     "output_type": "stream",
     "text": [
      "\u001b[1m\tUse Cases\u001b[0m\n"
     ]
    },
    {
     "data": {
      "text/plain": [
       "'NarrativeText:'"
      ]
     },
     "metadata": {},
     "output_type": "display_data"
    },
    {
     "name": "stdout",
     "output_type": "stream",
     "text": [
      "\u001b[1m\tThe core objective of LayoutParser is to make it easier to create both large-scale and light-weight document digitization pipelines. Large-scale document processing\u001b[0m\n"
     ]
    },
    {
     "data": {
      "text/plain": [
       "'NarrativeText:'"
      ]
     },
     "metadata": {},
     "output_type": "display_data"
    },
    {
     "name": "stdout",
     "output_type": "stream",
     "text": [
      "\u001b[1m\tfocuses on precision, eﬃciency, and robustness. The target documents may have complicated structures, and may require training multiple layout detection models to achieve the optimal accuracy. Light-weight pipelines are built for relatively simple documents, with an emphasis on development ease, speed and ﬂexibility. Ideally one only needs to use existing resources, and model training should be avoided. Through two exemplar projects, we show how practitioners in both academia and industry can easily build such pipelines using LayoutParser and extract high-quality structured document data for their downstream tasks. The source code for these projects will be publicly available in the LayoutParser community hub.\u001b[0m\n"
     ]
    },
    {
     "data": {
      "text/plain": [
       "'Title:'"
      ]
     },
     "metadata": {},
     "output_type": "display_data"
    },
    {
     "name": "stdout",
     "output_type": "stream",
     "text": [
      "\u001b[1m\tA Comprehensive Historical Document Digitization Pipeline\u001b[0m\n"
     ]
    },
    {
     "data": {
      "text/plain": [
       "'NarrativeText:'"
      ]
     },
     "metadata": {},
     "output_type": "display_data"
    },
    {
     "name": "stdout",
     "output_type": "stream",
     "text": [
      "\u001b[1m\tThe digitization of historical documents can unlock valuable data that can shed light on many important social, economic, and historical questions. Yet due to scan noises, page wearing, and the prevalence of complicated layout structures, ob- taining a structured representation of historical document scans is often extremely complicated.\u001b[0m\n"
     ]
    },
    {
     "data": {
      "text/plain": [
       "'NarrativeText:'"
      ]
     },
     "metadata": {},
     "output_type": "display_data"
    },
    {
     "name": "stdout",
     "output_type": "stream",
     "text": [
      "\u001b[1m\tIn this example, LayoutParser was used to develop a comprehensive pipeline, shown in Figure 5, to gener- ate high-quality structured data from historical Japanese ﬁrm ﬁnancial ta- bles with complicated layouts. The pipeline applies two layout models to identify diﬀerent levels of document structures and two customized OCR engines for optimized character recog- nition accuracy.\u001b[0m\n"
     ]
    },
    {
     "data": {
      "text/plain": [
       "'FigureCaption:'"
      ]
     },
     "metadata": {},
     "output_type": "display_data"
    },
    {
     "name": "stdout",
     "output_type": "stream",
     "text": [
      "\u001b[1m\t\u001b[0m\n"
     ]
    },
    {
     "data": {
      "text/plain": [
       "'NarrativeText:'"
      ]
     },
     "metadata": {},
     "output_type": "display_data"
    },
    {
     "name": "stdout",
     "output_type": "stream",
     "text": [
      "\u001b[1m\tAs shown in Figure 4 (a), the document contains columns of text written vertically 15 , a common style in Japanese. Due to scanning noise and archaic printing technology, the columns can be skewed or have vari- able widths, and hence cannot be eas- ily identiﬁed via rule-based methods. Within each column, words are sepa- rated by white spaces of variable size, and the vertical positions of objects can be an indicator of their layout type.\u001b[0m\n"
     ]
    },
    {
     "data": {
      "text/plain": [
       "'NarrativeText:'"
      ]
     },
     "metadata": {},
     "output_type": "display_data"
    },
    {
     "name": "stdout",
     "output_type": "stream",
     "text": [
      "\u001b[1m\tFig. 5: Illustration of how LayoutParser helps with the historical document digi- tization pipeline.\u001b[0m\n"
     ]
    },
    {
     "data": {
      "text/plain": [
       "'NarrativeText:'"
      ]
     },
     "metadata": {},
     "output_type": "display_data"
    },
    {
     "name": "stdout",
     "output_type": "stream",
     "text": [
      "\u001b[1m\tA document page consists of eight rows like this. For simplicity we skip the row segmentation discussion and refer readers to the source code when available.\u001b[0m\n"
     ]
    },
    {
     "data": {
      "text/plain": [
       "'Title:'"
      ]
     },
     "metadata": {},
     "output_type": "display_data"
    },
    {
     "name": "stdout",
     "output_type": "stream",
     "text": [
      "\u001b[1m\tTo decipher the complicated layout\u001b[0m\n"
     ]
    },
    {
     "data": {
      "text/plain": [
       "'NarrativeText:'"
      ]
     },
     "metadata": {},
     "output_type": "display_data"
    },
    {
     "name": "stdout",
     "output_type": "stream",
     "text": [
      "\u001b[1m\tstructure, two object detection models have been trained to recognize individual columns and tokens, respectively. A small training set (400 images with approxi- mately 100 annotations each) is curated via the active learning based annotation tool [32] in LayoutParser . The models learn to identify both the categories and regions for each token or column via their distinct visual features. The layout data structure enables easy grouping of the tokens within each column, and rearranging columns to achieve the correct reading orders based on the horizontal position. Errors are identiﬁed and rectiﬁed via checking the consistency of the model predictions. Therefore, though trained on a small dataset, the pipeline achieves a high level of layout detection accuracy: it achieves a 96.97 AP [19] score across 5 categories for the column detection model, and a 89.23 AP across 4 categories for the token detection model.\u001b[0m\n"
     ]
    },
    {
     "data": {
      "text/plain": [
       "'NarrativeText:'"
      ]
     },
     "metadata": {},
     "output_type": "display_data"
    },
    {
     "name": "stdout",
     "output_type": "stream",
     "text": [
      "\u001b[1m\tA combination of character recognition methods is developed to tackle the unique challenges in this document. In our experiments, we found that irregular spacing between the tokens led to a low character recognition recall rate, whereas existing OCR models tend to perform better on densely-arranged texts. To overcome this challenge, we create a document reorganization algorithm that rearranges the text based on the token bounding boxes detected in the layout analysis step. Figure 4 (b) illustrates the generated image of dense text, which is sent to the OCR APIs as a whole to reduce the transaction costs. The ﬂexible coordinate system in LayoutParser is used to transform the OCR results relative to their original positions on the page.\u001b[0m\n"
     ]
    },
    {
     "data": {
      "text/plain": [
       "'NarrativeText:'"
      ]
     },
     "metadata": {},
     "output_type": "display_data"
    },
    {
     "name": "stdout",
     "output_type": "stream",
     "text": [
      "\u001b[1m\tAdditionally, it is common for historical documents to use unique fonts with diﬀerent glyphs, which signiﬁcantly degrades the accuracy of OCR models trained on modern texts. In this document, a special ﬂat font is used for printing numbers and could not be detected by oﬀ-the-shelf OCR engines. Using the highly ﬂexible functionalities from LayoutParser , a pipeline approach is constructed that achieves a high recognition accuracy with minimal eﬀort. As the characters have unique visual structures and are usually clustered together, we train the layout model to identify number regions with a dedicated category. Subsequently, LayoutParser crops images within these regions, and identiﬁes characters within them using a self-trained OCR model based on a CNN-RNN [6]. The model detects a total of 15 possible categories, and achieves a 0.98 Jaccard score 16 and a 0.17 average Levinstein distances 17 for token prediction on the test set.\u001b[0m\n"
     ]
    },
    {
     "data": {
      "text/plain": [
       "'NarrativeText:'"
      ]
     },
     "metadata": {},
     "output_type": "display_data"
    },
    {
     "name": "stdout",
     "output_type": "stream",
     "text": [
      "\u001b[1m\tOverall, it is possible to create an intricate and highly accurate digitization pipeline for large-scale digitization using LayoutParser . The pipeline avoids specifying the complicated rules used in traditional methods, is straightforward to develop, and is robust to outliers. The DL models also generate ﬁne-grained results that enable creative approaches like page reorganization for OCR.\u001b[0m\n"
     ]
    },
    {
     "data": {
      "text/plain": [
       "'FigureCaption:'"
      ]
     },
     "metadata": {},
     "output_type": "display_data"
    },
    {
     "name": "stdout",
     "output_type": "stream",
     "text": [
      "\u001b[1m\t\u001b[0m\n"
     ]
    },
    {
     "data": {
      "text/plain": [
       "'NarrativeText:'"
      ]
     },
     "metadata": {},
     "output_type": "display_data"
    },
    {
     "name": "stdout",
     "output_type": "stream",
     "text": [
      "\u001b[1m\tFig. 6: This lightweight table detector can identify tables (outlined in red) and cells (shaded in blue) in diﬀerent locations on a page. In very few cases (d), it might generate minor error predictions, e.g, failing to capture the top text line of a table.\u001b[0m\n"
     ]
    },
    {
     "data": {
      "text/plain": [
       "'NarrativeText:'"
      ]
     },
     "metadata": {},
     "output_type": "display_data"
    },
    {
     "name": "stdout",
     "output_type": "stream",
     "text": [
      "\u001b[1m\tDetecting tables and parsing their structures (table extraction) are of central im- portance for many document digitization tasks. Many previous works [26, 30, 27] and tools 18 have been developed to identify and parse table structures. Yet they might require training complicated models from scratch, or are only applicable for born-digital PDF documents. In this section, we show how LayoutParser can help build a light-weight accurate visual table extractor for legal docket tables using the existing resources with minimal eﬀort.\u001b[0m\n"
     ]
    },
    {
     "data": {
      "text/plain": [
       "'NarrativeText:'"
      ]
     },
     "metadata": {},
     "output_type": "display_data"
    },
    {
     "name": "stdout",
     "output_type": "stream",
     "text": [
      "\u001b[1m\tThe extractor uses a pre-trained layout detection model for identifying the table regions and some simple rules for pairing the rows and the columns in the PDF image. Mask R-CNN [12] trained on the PubLayNet dataset [38] from the LayoutParser Model Zoo can be used for detecting table regions. By ﬁltering out model predictions of low conﬁdence and removing overlapping predictions, LayoutParser can identify the tabular regions on each page, which signiﬁcantly simpliﬁes the subsequent steps. By applying the line detection functions within the tabular segments, provided in the utility module from LayoutParser , the pipeline can identify the three distinct columns in the tables. A row clustering method is then applied via analyzing the y coordinates of token bounding boxes in the left-most column, which are obtained from the OCR engines. A non-maximal suppression algorithm is used to remove duplicated rows with extremely small gaps. Shown in Figure 6, the built pipeline can detect tables at diﬀerent positions on a page accurately. Continued tables from diﬀerent pages are concatenated, and a structured table representation has been easily created.\u001b[0m\n"
     ]
    },
    {
     "data": {
      "text/plain": [
       "'NarrativeText:'"
      ]
     },
     "metadata": {},
     "output_type": "display_data"
    },
    {
     "name": "stdout",
     "output_type": "stream",
     "text": [
      "\u001b[1m\t18 https://github.com/atlanhq/camelot, https://github.com/tabulapdf/tabula\u001b[0m\n"
     ]
    },
    {
     "data": {
      "text/plain": [
       "'Title:'"
      ]
     },
     "metadata": {},
     "output_type": "display_data"
    },
    {
     "name": "stdout",
     "output_type": "stream",
     "text": [
      "\u001b[1m\tConclusion\u001b[0m\n"
     ]
    },
    {
     "data": {
      "text/plain": [
       "'NarrativeText:'"
      ]
     },
     "metadata": {},
     "output_type": "display_data"
    },
    {
     "name": "stdout",
     "output_type": "stream",
     "text": [
      "\u001b[1m\tLayoutParser provides a comprehensive toolkit for deep learning-based document image analysis. The oﬀ-the-shelf library is easy to install, and can be used to build ﬂexible and accurate pipelines for processing documents with complicated structures. It also supports high-level customization and enables easy labeling and training of DL models on unique document image datasets. The LayoutParser community platform facilitates sharing DL models and DIA pipelines, inviting discussion and promoting code reproducibility and reusability. The LayoutParser team is committed to keeping the library updated continuously and bringing the most recent advances in DL-based DIA, such as multi-modal document modeling [37, 36, 9] (an upcoming priority), to a diverse audience of end-users.\u001b[0m\n"
     ]
    },
    {
     "data": {
      "text/plain": [
       "'NarrativeText:'"
      ]
     },
     "metadata": {},
     "output_type": "display_data"
    },
    {
     "name": "stdout",
     "output_type": "stream",
     "text": [
      "\u001b[1m\tAcknowledgements We thank the anonymous reviewers for their comments and suggestions. This project is supported in part by NSF Grant OIA-2033558 and funding from the Harvard Data Science Initiative and Harvard Catalyst. Zejiang Shen thanks Doug Downey for suggestions.\u001b[0m\n"
     ]
    },
    {
     "data": {
      "text/plain": [
       "'Title:'"
      ]
     },
     "metadata": {},
     "output_type": "display_data"
    },
    {
     "name": "stdout",
     "output_type": "stream",
     "text": [
      "\u001b[1m\tReferences\u001b[0m\n"
     ]
    },
    {
     "data": {
      "text/plain": [
       "'ListItem:'"
      ]
     },
     "metadata": {},
     "output_type": "display_data"
    },
    {
     "name": "stdout",
     "output_type": "stream",
     "text": [
      "\u001b[1m\t[\u001b[0m\n"
     ]
    },
    {
     "data": {
      "text/plain": [
       "'ListItem:'"
      ]
     },
     "metadata": {},
     "output_type": "display_data"
    },
    {
     "name": "stdout",
     "output_type": "stream",
     "text": [
      "\u001b[1m\t] Abadi, M., Agarwal, A., Barham, P., Brevdo, E., Chen, Z., Citro, C., Corrado, G.S., Davis, A., Dean, J., Devin, M., Ghemawat, S., Goodfellow, I., Harp, Irving, G., Isard, M., Jia, Y., Jozefowicz, R., Kaiser, L., Kudlur, M., Levenberg, J., Man´e, D., Monga, R., Moore, S., Murray, D., Olah, C., Schuster, M., Shlens, Steiner, B., Sutskever, I., Talwar, K., Tucker, P., Vanhoucke, V., Vasudevan, Vi´egas, F., Vinyals, O., Warden, P., Wattenberg, M., Wicke, M., Yu, Y., Zheng, X.: Tenso\u001b[0m\n"
     ]
    },
    {
     "data": {
      "text/plain": [
       "'ListItem:'"
      ]
     },
     "metadata": {},
     "output_type": "display_data"
    },
    {
     "name": "stdout",
     "output_type": "stream",
     "text": [
      "\u001b[1m\tlow: Large-scale machine learning on heterogeneous systems (\u001b[0m\n"
     ]
    },
    {
     "data": {
      "text/plain": [
       "'ListItem:'"
      ]
     },
     "metadata": {},
     "output_type": "display_data"
    },
    {
     "name": "stdout",
     "output_type": "stream",
     "text": [
      "\u001b[1m\t), https://www.tensorflow.org/ , software available from tensorﬂow.org [\u001b[0m\n"
     ]
    },
    {
     "data": {
      "text/plain": [
       "'ListItem:'"
      ]
     },
     "metadata": {},
     "output_type": "display_data"
    },
    {
     "name": "stdout",
     "output_type": "stream",
     "text": [
      "\u001b[1m\t] Alberti, M., Pondenkandath, V., W¨ursch, M., Ingold, R., Liwicki, M.: Deepdiva: highly-functional python framework for reproducible experiments. In:\u001b[0m\n"
     ]
    },
    {
     "data": {
      "text/plain": [
       "'ListItem:'"
      ]
     },
     "metadata": {},
     "output_type": "display_data"
    },
    {
     "name": "stdout",
     "output_type": "stream",
     "text": [
      "\u001b[1m\tth International Conference on Frontiers in Handwriting Recognition (ICFHR).\u001b[0m\n"
     ]
    },
    {
     "data": {
      "text/plain": [
       "'ListItem:'"
      ]
     },
     "metadata": {},
     "output_type": "display_data"
    },
    {
     "name": "stdout",
     "output_type": "stream",
     "text": [
      "\u001b[1m\t–\u001b[0m\n"
     ]
    },
    {
     "data": {
      "text/plain": [
       "'ListItem:'"
      ]
     },
     "metadata": {},
     "output_type": "display_data"
    },
    {
     "name": "stdout",
     "output_type": "stream",
     "text": [
      "\u001b[1m\tIEEE (\u001b[0m\n"
     ]
    },
    {
     "data": {
      "text/plain": [
       "'ListItem:'"
      ]
     },
     "metadata": {},
     "output_type": "display_data"
    },
    {
     "name": "stdout",
     "output_type": "stream",
     "text": [
      "\u001b[1m\t) [\u001b[0m\n"
     ]
    },
    {
     "data": {
      "text/plain": [
       "'ListItem:'"
      ]
     },
     "metadata": {},
     "output_type": "display_data"
    },
    {
     "name": "stdout",
     "output_type": "stream",
     "text": [
      "\u001b[1m\t] Antonacopoulos, A., Bridson, D., Papadopoulos, C., Pletschacher, S.: A realistic dataset for performance evaluation of document layout analysis. In:\u001b[0m\n"
     ]
    },
    {
     "data": {
      "text/plain": [
       "'ListItem:'"
      ]
     },
     "metadata": {},
     "output_type": "display_data"
    },
    {
     "name": "stdout",
     "output_type": "stream",
     "text": [
      "\u001b[1m\tth International Conference on Document Analysis and Recognition. pp.\u001b[0m\n"
     ]
    },
    {
     "data": {
      "text/plain": [
       "'ListItem:'"
      ]
     },
     "metadata": {},
     "output_type": "display_data"
    },
    {
     "name": "stdout",
     "output_type": "stream",
     "text": [
      "\u001b[1m\t–\u001b[0m\n"
     ]
    },
    {
     "data": {
      "text/plain": [
       "'ListItem:'"
      ]
     },
     "metadata": {},
     "output_type": "display_data"
    },
    {
     "name": "stdout",
     "output_type": "stream",
     "text": [
      "\u001b[1m\tIEEE (\u001b[0m\n"
     ]
    },
    {
     "data": {
      "text/plain": [
       "'ListItem:'"
      ]
     },
     "metadata": {},
     "output_type": "display_data"
    },
    {
     "name": "stdout",
     "output_type": "stream",
     "text": [
      "\u001b[1m\t) [\u001b[0m\n"
     ]
    },
    {
     "data": {
      "text/plain": [
       "'ListItem:'"
      ]
     },
     "metadata": {},
     "output_type": "display_data"
    },
    {
     "name": "stdout",
     "output_type": "stream",
     "text": [
      "\u001b[1m\t] Baek, Y., Lee, B., Han, D., Yun, S., Lee, H.: Character region awareness for text detection. In: Proceedings of the IEEE/CVF Conference on Computer Vision and Pattern Recognition. pp.\u001b[0m\n"
     ]
    },
    {
     "data": {
      "text/plain": [
       "'ListItem:'"
      ]
     },
     "metadata": {},
     "output_type": "display_data"
    },
    {
     "name": "stdout",
     "output_type": "stream",
     "text": [
      "\u001b[1m\t–\u001b[0m\n"
     ]
    },
    {
     "data": {
      "text/plain": [
       "'ListItem:'"
      ]
     },
     "metadata": {},
     "output_type": "display_data"
    },
    {
     "name": "stdout",
     "output_type": "stream",
     "text": [
      "\u001b[1m\t(\u001b[0m\n"
     ]
    },
    {
     "data": {
      "text/plain": [
       "'ListItem:'"
      ]
     },
     "metadata": {},
     "output_type": "display_data"
    },
    {
     "name": "stdout",
     "output_type": "stream",
     "text": [
      "\u001b[1m\t) [\u001b[0m\n"
     ]
    },
    {
     "data": {
      "text/plain": [
       "'ListItem:'"
      ]
     },
     "metadata": {},
     "output_type": "display_data"
    },
    {
     "name": "stdout",
     "output_type": "stream",
     "text": [
      "\u001b[1m\t] Deng, J., Dong, W., Socher, R., Li, L.J., Li, K., Fei-Fei, L.: Imag\u001b[0m\n"
     ]
    },
    {
     "data": {
      "text/plain": [
       "'ListItem:'"
      ]
     },
     "metadata": {},
     "output_type": "display_data"
    },
    {
     "name": "stdout",
     "output_type": "stream",
     "text": [
      "\u001b[1m\tet: A Large-Scale Hierarchical Image Database. In: CVPR\u001b[0m\n"
     ]
    },
    {
     "data": {
      "text/plain": [
       "'ListItem:'"
      ]
     },
     "metadata": {},
     "output_type": "display_data"
    },
    {
     "name": "stdout",
     "output_type": "stream",
     "text": [
      "\u001b[1m\t(\u001b[0m\n"
     ]
    },
    {
     "data": {
      "text/plain": [
       "'ListItem:'"
      ]
     },
     "metadata": {},
     "output_type": "display_data"
    },
    {
     "name": "stdout",
     "output_type": "stream",
     "text": [
      "\u001b[1m\t) [\u001b[0m\n"
     ]
    },
    {
     "data": {
      "text/plain": [
       "'ListItem:'"
      ]
     },
     "metadata": {},
     "output_type": "display_data"
    },
    {
     "name": "stdout",
     "output_type": "stream",
     "text": [
      "\u001b[1m\t] Deng, Y., Kanervisto, A., Ling, J., Rush, A.M.: Image-to-markup generation with coarse-to-ﬁne attention. In: International Conference on Machine Learning.\u001b[0m\n"
     ]
    },
    {
     "data": {
      "text/plain": [
       "'ListItem:'"
      ]
     },
     "metadata": {},
     "output_type": "display_data"
    },
    {
     "name": "stdout",
     "output_type": "stream",
     "text": [
      "\u001b[1m\t–\u001b[0m\n"
     ]
    },
    {
     "data": {
      "text/plain": [
       "'ListItem:'"
      ]
     },
     "metadata": {},
     "output_type": "display_data"
    },
    {
     "name": "stdout",
     "output_type": "stream",
     "text": [
      "\u001b[1m\tPMLR (\u001b[0m\n"
     ]
    },
    {
     "data": {
      "text/plain": [
       "'ListItem:'"
      ]
     },
     "metadata": {},
     "output_type": "display_data"
    },
    {
     "name": "stdout",
     "output_type": "stream",
     "text": [
      "\u001b[1m\t) [\u001b[0m\n"
     ]
    },
    {
     "data": {
      "text/plain": [
       "'ListItem:'"
      ]
     },
     "metadata": {},
     "output_type": "display_data"
    },
    {
     "name": "stdout",
     "output_type": "stream",
     "text": [
      "\u001b[1m\t] Ganin, Y., Lempitsky, V.: Unsupervised domain adaptation by backpropagation. In: International conference on machine learning. pp.\u001b[0m\n"
     ]
    },
    {
     "data": {
      "text/plain": [
       "'ListItem:'"
      ]
     },
     "metadata": {},
     "output_type": "display_data"
    },
    {
     "name": "stdout",
     "output_type": "stream",
     "text": [
      "\u001b[1m\t–\u001b[0m\n"
     ]
    },
    {
     "data": {
      "text/plain": [
       "'ListItem:'"
      ]
     },
     "metadata": {},
     "output_type": "display_data"
    },
    {
     "name": "stdout",
     "output_type": "stream",
     "text": [
      "\u001b[1m\tPMLR (\u001b[0m\n"
     ]
    },
    {
     "data": {
      "text/plain": [
       "'ListItem:'"
      ]
     },
     "metadata": {},
     "output_type": "display_data"
    },
    {
     "name": "stdout",
     "output_type": "stream",
     "text": [
      "\u001b[1m\t)\u001b[0m\n"
     ]
    },
    {
     "data": {
      "text/plain": [
       "'NarrativeText:'"
      ]
     },
     "metadata": {},
     "output_type": "display_data"
    },
    {
     "name": "stdout",
     "output_type": "stream",
     "text": [
      "\u001b[1m\tGanin, Y., Lempitsky, V.: Unsupervised domain adaptation by backpropagation. In: International conference on machine learning. pp. 1180–1189. PMLR (2015)\u001b[0m\n"
     ]
    },
    {
     "data": {
      "text/plain": [
       "'NarrativeText:'"
      ]
     },
     "metadata": {},
     "output_type": "display_data"
    },
    {
     "name": "stdout",
     "output_type": "stream",
     "text": [
      "\u001b[1m\tLayoutParser : A Uniﬁed Toolkit for DL-Based DIA\u001b[0m\n"
     ]
    },
    {
     "data": {
      "text/plain": [
       "'ListItem:'"
      ]
     },
     "metadata": {},
     "output_type": "display_data"
    },
    {
     "name": "stdout",
     "output_type": "stream",
     "text": [
      "\u001b[1m\t[\u001b[0m\n"
     ]
    },
    {
     "data": {
      "text/plain": [
       "'ListItem:'"
      ]
     },
     "metadata": {},
     "output_type": "display_data"
    },
    {
     "name": "stdout",
     "output_type": "stream",
     "text": [
      "\u001b[1m\t] Gardner, M., Grus, J., Neumann, M., Tafjord, O., Dasigi, P., Liu, N., Peters, M., Schmitz, M., Zettlemoyer, L.: Allennlp: A deep semantic natural language processing platform. a\u001b[0m\n"
     ]
    },
    {
     "data": {
      "text/plain": [
       "'ListItem:'"
      ]
     },
     "metadata": {},
     "output_type": "display_data"
    },
    {
     "name": "stdout",
     "output_type": "stream",
     "text": [
      "\u001b[1m\tiv preprint a\u001b[0m\n"
     ]
    },
    {
     "data": {
      "text/plain": [
       "'ListItem:'"
      ]
     },
     "metadata": {},
     "output_type": "display_data"
    },
    {
     "name": "stdout",
     "output_type": "stream",
     "text": [
      "\u001b[1m\tiv:\u001b[0m\n"
     ]
    },
    {
     "data": {
      "text/plain": [
       "'ListItem:'"
      ]
     },
     "metadata": {},
     "output_type": "display_data"
    },
    {
     "name": "stdout",
     "output_type": "stream",
     "text": [
      "\u001b[1m\t(\u001b[0m\n"
     ]
    },
    {
     "data": {
      "text/plain": [
       "'ListItem:'"
      ]
     },
     "metadata": {},
     "output_type": "display_data"
    },
    {
     "name": "stdout",
     "output_type": "stream",
     "text": [
      "\u001b[1m\t) [\u001b[0m\n"
     ]
    },
    {
     "data": {
      "text/plain": [
       "'ListItem:'"
      ]
     },
     "metadata": {},
     "output_type": "display_data"
    },
    {
     "name": "stdout",
     "output_type": "stream",
     "text": [
      "\u001b[1m\t] (cid:\u001b[0m\n"
     ]
    },
    {
     "data": {
      "text/plain": [
       "'ListItem:'"
      ]
     },
     "metadata": {},
     "output_type": "display_data"
    },
    {
     "name": "stdout",
     "output_type": "stream",
     "text": [
      "\u001b[1m\t)Lukasz Garncarek, Powalski, R., Stanis(cid:\u001b[0m\n"
     ]
    },
    {
     "data": {
      "text/plain": [
       "'ListItem:'"
      ]
     },
     "metadata": {},
     "output_type": "display_data"
    },
    {
     "name": "stdout",
     "output_type": "stream",
     "text": [
      "\u001b[1m\t)lawek, T., Topolski, B., Halama, P., Grali´nski, F.: Lambert: Layout-aware (language) modeling using bert for in- formation extraction (\u001b[0m\n"
     ]
    },
    {
     "data": {
      "text/plain": [
       "'ListItem:'"
      ]
     },
     "metadata": {},
     "output_type": "display_data"
    },
    {
     "name": "stdout",
     "output_type": "stream",
     "text": [
      "\u001b[1m\t) [\u001b[0m\n"
     ]
    },
    {
     "data": {
      "text/plain": [
       "'ListItem:'"
      ]
     },
     "metadata": {},
     "output_type": "display_data"
    },
    {
     "name": "stdout",
     "output_type": "stream",
     "text": [
      "\u001b[1m\t] Graves, A., Fern´andez, S., Gomez, F., Schmidhuber, J.: Connectionist temporal classiﬁcation: labelling unsegmented sequence data with recurrent neural networks. In: Proceedings of the\u001b[0m\n"
     ]
    },
    {
     "data": {
      "text/plain": [
       "'ListItem:'"
      ]
     },
     "metadata": {},
     "output_type": "display_data"
    },
    {
     "name": "stdout",
     "output_type": "stream",
     "text": [
      "\u001b[1m\trd international conference on Machine learning. pp.\u001b[0m\n"
     ]
    },
    {
     "data": {
      "text/plain": [
       "'ListItem:'"
      ]
     },
     "metadata": {},
     "output_type": "display_data"
    },
    {
     "name": "stdout",
     "output_type": "stream",
     "text": [
      "\u001b[1m\t–\u001b[0m\n"
     ]
    },
    {
     "data": {
      "text/plain": [
       "'ListItem:'"
      ]
     },
     "metadata": {},
     "output_type": "display_data"
    },
    {
     "name": "stdout",
     "output_type": "stream",
     "text": [
      "\u001b[1m\t(\u001b[0m\n"
     ]
    },
    {
     "data": {
      "text/plain": [
       "'ListItem:'"
      ]
     },
     "metadata": {},
     "output_type": "display_data"
    },
    {
     "name": "stdout",
     "output_type": "stream",
     "text": [
      "\u001b[1m\t) [\u001b[0m\n"
     ]
    },
    {
     "data": {
      "text/plain": [
       "'ListItem:'"
      ]
     },
     "metadata": {},
     "output_type": "display_data"
    },
    {
     "name": "stdout",
     "output_type": "stream",
     "text": [
      "\u001b[1m\t] Harley, A.W., Ufkes, A., Derpanis, K.G.: Evaluation of deep convolutional nets for document image classiﬁcation and retrieval. In:\u001b[0m\n"
     ]
    },
    {
     "data": {
      "text/plain": [
       "'ListItem:'"
      ]
     },
     "metadata": {},
     "output_type": "display_data"
    },
    {
     "name": "stdout",
     "output_type": "stream",
     "text": [
      "\u001b[1m\tth International Conference on Document Analysis and Recognition (ICDAR). pp.\u001b[0m\n"
     ]
    },
    {
     "data": {
      "text/plain": [
       "'ListItem:'"
      ]
     },
     "metadata": {},
     "output_type": "display_data"
    },
    {
     "name": "stdout",
     "output_type": "stream",
     "text": [
      "\u001b[1m\t–\u001b[0m\n"
     ]
    },
    {
     "data": {
      "text/plain": [
       "'ListItem:'"
      ]
     },
     "metadata": {},
     "output_type": "display_data"
    },
    {
     "name": "stdout",
     "output_type": "stream",
     "text": [
      "\u001b[1m\tIEEE (\u001b[0m\n"
     ]
    },
    {
     "data": {
      "text/plain": [
       "'ListItem:'"
      ]
     },
     "metadata": {},
     "output_type": "display_data"
    },
    {
     "name": "stdout",
     "output_type": "stream",
     "text": [
      "\u001b[1m\t) [\u001b[0m\n"
     ]
    },
    {
     "data": {
      "text/plain": [
       "'ListItem:'"
      ]
     },
     "metadata": {},
     "output_type": "display_data"
    },
    {
     "name": "stdout",
     "output_type": "stream",
     "text": [
      "\u001b[1m\t] He, K., Gkioxari, G., Doll´ar, P., Girshick, R.: Mask r-cnn. In: Proceedings of the IEEE international conference on computer vision. pp.\u001b[0m\n"
     ]
    },
    {
     "data": {
      "text/plain": [
       "'ListItem:'"
      ]
     },
     "metadata": {},
     "output_type": "display_data"
    },
    {
     "name": "stdout",
     "output_type": "stream",
     "text": [
      "\u001b[1m\t–\u001b[0m\n"
     ]
    },
    {
     "data": {
      "text/plain": [
       "'ListItem:'"
      ]
     },
     "metadata": {},
     "output_type": "display_data"
    },
    {
     "name": "stdout",
     "output_type": "stream",
     "text": [
      "\u001b[1m\t(\u001b[0m\n"
     ]
    },
    {
     "data": {
      "text/plain": [
       "'ListItem:'"
      ]
     },
     "metadata": {},
     "output_type": "display_data"
    },
    {
     "name": "stdout",
     "output_type": "stream",
     "text": [
      "\u001b[1m\t) [\u001b[0m\n"
     ]
    },
    {
     "data": {
      "text/plain": [
       "'ListItem:'"
      ]
     },
     "metadata": {},
     "output_type": "display_data"
    },
    {
     "name": "stdout",
     "output_type": "stream",
     "text": [
      "\u001b[1m\t] He, K., Zhang, X., Ren, S., Sun, J.: Deep residual learning for image recognition. In: Proceedings of the IEEE conference on computer vision and pattern recognition. pp.\u001b[0m\n"
     ]
    },
    {
     "data": {
      "text/plain": [
       "'ListItem:'"
      ]
     },
     "metadata": {},
     "output_type": "display_data"
    },
    {
     "name": "stdout",
     "output_type": "stream",
     "text": [
      "\u001b[1m\t–\u001b[0m\n"
     ]
    },
    {
     "data": {
      "text/plain": [
       "'ListItem:'"
      ]
     },
     "metadata": {},
     "output_type": "display_data"
    },
    {
     "name": "stdout",
     "output_type": "stream",
     "text": [
      "\u001b[1m\t(\u001b[0m\n"
     ]
    },
    {
     "data": {
      "text/plain": [
       "'ListItem:'"
      ]
     },
     "metadata": {},
     "output_type": "display_data"
    },
    {
     "name": "stdout",
     "output_type": "stream",
     "text": [
      "\u001b[1m\t) [\u001b[0m\n"
     ]
    },
    {
     "data": {
      "text/plain": [
       "'ListItem:'"
      ]
     },
     "metadata": {},
     "output_type": "display_data"
    },
    {
     "name": "stdout",
     "output_type": "stream",
     "text": [
      "\u001b[1m\t] Kay, A.: Tesseract: An open-source optical character recognition engine. Linux J.\u001b[0m\n"
     ]
    },
    {
     "data": {
      "text/plain": [
       "'ListItem:'"
      ]
     },
     "metadata": {},
     "output_type": "display_data"
    },
    {
     "name": "stdout",
     "output_type": "stream",
     "text": [
      "\u001b[1m\t(\u001b[0m\n"
     ]
    },
    {
     "data": {
      "text/plain": [
       "'ListItem:'"
      ]
     },
     "metadata": {},
     "output_type": "display_data"
    },
    {
     "name": "stdout",
     "output_type": "stream",
     "text": [
      "\u001b[1m\t),\u001b[0m\n"
     ]
    },
    {
     "data": {
      "text/plain": [
       "'ListItem:'"
      ]
     },
     "metadata": {},
     "output_type": "display_data"
    },
    {
     "name": "stdout",
     "output_type": "stream",
     "text": [
      "\u001b[1m\t(Jul\u001b[0m\n"
     ]
    },
    {
     "data": {
      "text/plain": [
       "'ListItem:'"
      ]
     },
     "metadata": {},
     "output_type": "display_data"
    },
    {
     "name": "stdout",
     "output_type": "stream",
     "text": [
      "\u001b[1m\t) [\u001b[0m\n"
     ]
    },
    {
     "data": {
      "text/plain": [
       "'ListItem:'"
      ]
     },
     "metadata": {},
     "output_type": "display_data"
    },
    {
     "name": "stdout",
     "output_type": "stream",
     "text": [
      "\u001b[1m\t] Lamiroy, B., Lopresti, D.: An open architecture for end-to-end document analysis benchmarking. In:\u001b[0m\n"
     ]
    },
    {
     "data": {
      "text/plain": [
       "'ListItem:'"
      ]
     },
     "metadata": {},
     "output_type": "display_data"
    },
    {
     "name": "stdout",
     "output_type": "stream",
     "text": [
      "\u001b[1m\tInternational Conference on Document Analysis and Recognition. pp.\u001b[0m\n"
     ]
    },
    {
     "data": {
      "text/plain": [
       "'ListItem:'"
      ]
     },
     "metadata": {},
     "output_type": "display_data"
    },
    {
     "name": "stdout",
     "output_type": "stream",
     "text": [
      "\u001b[1m\t–\u001b[0m\n"
     ]
    },
    {
     "data": {
      "text/plain": [
       "'ListItem:'"
      ]
     },
     "metadata": {},
     "output_type": "display_data"
    },
    {
     "name": "stdout",
     "output_type": "stream",
     "text": [
      "\u001b[1m\tIEEE (\u001b[0m\n"
     ]
    },
    {
     "data": {
      "text/plain": [
       "'ListItem:'"
      ]
     },
     "metadata": {},
     "output_type": "display_data"
    },
    {
     "name": "stdout",
     "output_type": "stream",
     "text": [
      "\u001b[1m\t) [\u001b[0m\n"
     ]
    },
    {
     "data": {
      "text/plain": [
       "'ListItem:'"
      ]
     },
     "metadata": {},
     "output_type": "display_data"
    },
    {
     "name": "stdout",
     "output_type": "stream",
     "text": [
      "\u001b[1m\t] Lee, B.C., Weld, D.S.: Newspaper navigator: Open faceted search for\u001b[0m\n"
     ]
    },
    {
     "data": {
      "text/plain": [
       "'ListItem:'"
      ]
     },
     "metadata": {},
     "output_type": "display_data"
    },
    {
     "name": "stdout",
     "output_type": "stream",
     "text": [
      "\u001b[1m\tmillion images. In: Adjunct Publication of the\u001b[0m\n"
     ]
    },
    {
     "data": {
      "text/plain": [
       "'ListItem:'"
      ]
     },
     "metadata": {},
     "output_type": "display_data"
    },
    {
     "name": "stdout",
     "output_type": "stream",
     "text": [
      "\u001b[1m\trd Annual ACM Sym- posium on User Interface Software and Technology. p.\u001b[0m\n"
     ]
    },
    {
     "data": {
      "text/plain": [
       "'ListItem:'"
      ]
     },
     "metadata": {},
     "output_type": "display_data"
    },
    {
     "name": "stdout",
     "output_type": "stream",
     "text": [
      "\u001b[1m\t–\u001b[0m\n"
     ]
    },
    {
     "data": {
      "text/plain": [
       "'ListItem:'"
      ]
     },
     "metadata": {},
     "output_type": "display_data"
    },
    {
     "name": "stdout",
     "output_type": "stream",
     "text": [
      "\u001b[1m\tUIST ’\u001b[0m\n"
     ]
    },
    {
     "data": {
      "text/plain": [
       "'ListItem:'"
      ]
     },
     "metadata": {},
     "output_type": "display_data"
    },
    {
     "name": "stdout",
     "output_type": "stream",
     "text": [
      "\u001b[1m\tAdjunct, Association for Computing Machinery, New York, NY, USA (\u001b[0m\n"
     ]
    },
    {
     "data": {
      "text/plain": [
       "'ListItem:'"
      ]
     },
     "metadata": {},
     "output_type": "display_data"
    },
    {
     "name": "stdout",
     "output_type": "stream",
     "text": [
      "\u001b[1m\t). https://doi.org/\u001b[0m\n"
     ]
    },
    {
     "data": {
      "text/plain": [
       "'ListItem:'"
      ]
     },
     "metadata": {},
     "output_type": "display_data"
    },
    {
     "name": "stdout",
     "output_type": "stream",
     "text": [
      "\u001b[1m\t/\u001b[0m\n"
     ]
    },
    {
     "data": {
      "text/plain": [
       "'ListItem:'"
      ]
     },
     "metadata": {},
     "output_type": "display_data"
    },
    {
     "name": "stdout",
     "output_type": "stream",
     "text": [
      "\u001b[1m\t, https://doi-org.offcampus. lib.washington.edu/\u001b[0m\n"
     ]
    },
    {
     "data": {
      "text/plain": [
       "'ListItem:'"
      ]
     },
     "metadata": {},
     "output_type": "display_data"
    },
    {
     "name": "stdout",
     "output_type": "stream",
     "text": [
      "\u001b[1m\t/\u001b[0m\n"
     ]
    },
    {
     "data": {
      "text/plain": [
       "'ListItem:'"
      ]
     },
     "metadata": {},
     "output_type": "display_data"
    },
    {
     "name": "stdout",
     "output_type": "stream",
     "text": [
      "\u001b[1m\t[\u001b[0m\n"
     ]
    },
    {
     "data": {
      "text/plain": [
       "'ListItem:'"
      ]
     },
     "metadata": {},
     "output_type": "display_data"
    },
    {
     "name": "stdout",
     "output_type": "stream",
     "text": [
      "\u001b[1m\t] Lee, B.C.G., Mears, J., Jakeway, E., Ferriter, M., Adams, C., Yarasavage, N., Thomas, D., Zwaard, K., Weld, D.S.: The Newspaper Navigator Dataset: Extracting Headlines and Visual Content from\u001b[0m\n"
     ]
    },
    {
     "data": {
      "text/plain": [
       "'ListItem:'"
      ]
     },
     "metadata": {},
     "output_type": "display_data"
    },
    {
     "name": "stdout",
     "output_type": "stream",
     "text": [
      "\u001b[1m\tMillion Historic Newspaper Pages in Chronicling America, p.\u001b[0m\n"
     ]
    },
    {
     "data": {
      "text/plain": [
       "'ListItem:'"
      ]
     },
     "metadata": {},
     "output_type": "display_data"
    },
    {
     "name": "stdout",
     "output_type": "stream",
     "text": [
      "\u001b[1m\t–\u001b[0m\n"
     ]
    },
    {
     "data": {
      "text/plain": [
       "'ListItem:'"
      ]
     },
     "metadata": {},
     "output_type": "display_data"
    },
    {
     "name": "stdout",
     "output_type": "stream",
     "text": [
      "\u001b[1m\tAssociation for Computing Machinery, New York, NY, USA (\u001b[0m\n"
     ]
    },
    {
     "data": {
      "text/plain": [
       "'ListItem:'"
      ]
     },
     "metadata": {},
     "output_type": "display_data"
    },
    {
     "name": "stdout",
     "output_type": "stream",
     "text": [
      "\u001b[1m\t), https://doi.org/\u001b[0m\n"
     ]
    },
    {
     "data": {
      "text/plain": [
       "'ListItem:'"
      ]
     },
     "metadata": {},
     "output_type": "display_data"
    },
    {
     "name": "stdout",
     "output_type": "stream",
     "text": [
      "\u001b[1m\t/\u001b[0m\n"
     ]
    },
    {
     "data": {
      "text/plain": [
       "'ListItem:'"
      ]
     },
     "metadata": {},
     "output_type": "display_data"
    },
    {
     "name": "stdout",
     "output_type": "stream",
     "text": [
      "\u001b[1m\t[\u001b[0m\n"
     ]
    },
    {
     "data": {
      "text/plain": [
       "'ListItem:'"
      ]
     },
     "metadata": {},
     "output_type": "display_data"
    },
    {
     "name": "stdout",
     "output_type": "stream",
     "text": [
      "\u001b[1m\t] Li, M., Cui, L., Huang, S., Wei, F., Zhou, M., Li, Z.: Tablebank: Table benchmark for image-based table detection and recognition. a\u001b[0m\n"
     ]
    },
    {
     "data": {
      "text/plain": [
       "'ListItem:'"
      ]
     },
     "metadata": {},
     "output_type": "display_data"
    },
    {
     "name": "stdout",
     "output_type": "stream",
     "text": [
      "\u001b[1m\tiv preprint a\u001b[0m\n"
     ]
    },
    {
     "data": {
      "text/plain": [
       "'ListItem:'"
      ]
     },
     "metadata": {},
     "output_type": "display_data"
    },
    {
     "name": "stdout",
     "output_type": "stream",
     "text": [
      "\u001b[1m\tiv:\u001b[0m\n"
     ]
    },
    {
     "data": {
      "text/plain": [
       "'ListItem:'"
      ]
     },
     "metadata": {},
     "output_type": "display_data"
    },
    {
     "name": "stdout",
     "output_type": "stream",
     "text": [
      "\u001b[1m\t(\u001b[0m\n"
     ]
    },
    {
     "data": {
      "text/plain": [
       "'ListItem:'"
      ]
     },
     "metadata": {},
     "output_type": "display_data"
    },
    {
     "name": "stdout",
     "output_type": "stream",
     "text": [
      "\u001b[1m\t) [\u001b[0m\n"
     ]
    },
    {
     "data": {
      "text/plain": [
       "'ListItem:'"
      ]
     },
     "metadata": {},
     "output_type": "display_data"
    },
    {
     "name": "stdout",
     "output_type": "stream",
     "text": [
      "\u001b[1m\t] Lin, T.Y., Maire, M., Belongie, S., Hays, J., Perona, P., Ramanan, D., Doll´ar, P., Zitnick, C.L.: Microsoft coco: Common objects in context. In: European conference on computer vision. pp.\u001b[0m\n"
     ]
    },
    {
     "data": {
      "text/plain": [
       "'ListItem:'"
      ]
     },
     "metadata": {},
     "output_type": "display_data"
    },
    {
     "name": "stdout",
     "output_type": "stream",
     "text": [
      "\u001b[1m\t–\u001b[0m\n"
     ]
    },
    {
     "data": {
      "text/plain": [
       "'ListItem:'"
      ]
     },
     "metadata": {},
     "output_type": "display_data"
    },
    {
     "name": "stdout",
     "output_type": "stream",
     "text": [
      "\u001b[1m\tSpringer (\u001b[0m\n"
     ]
    },
    {
     "data": {
      "text/plain": [
       "'ListItem:'"
      ]
     },
     "metadata": {},
     "output_type": "display_data"
    },
    {
     "name": "stdout",
     "output_type": "stream",
     "text": [
      "\u001b[1m\t) [\u001b[0m\n"
     ]
    },
    {
     "data": {
      "text/plain": [
       "'ListItem:'"
      ]
     },
     "metadata": {},
     "output_type": "display_data"
    },
    {
     "name": "stdout",
     "output_type": "stream",
     "text": [
      "\u001b[1m\t] Long, J., Shelhamer, E., Darrell, T.: Fully convolutional networks for semantic segmentation. In: Proceedings of the IEEE conference on computer vision and pattern recognition. pp.\u001b[0m\n"
     ]
    },
    {
     "data": {
      "text/plain": [
       "'ListItem:'"
      ]
     },
     "metadata": {},
     "output_type": "display_data"
    },
    {
     "name": "stdout",
     "output_type": "stream",
     "text": [
      "\u001b[1m\t–\u001b[0m\n"
     ]
    },
    {
     "data": {
      "text/plain": [
       "'ListItem:'"
      ]
     },
     "metadata": {},
     "output_type": "display_data"
    },
    {
     "name": "stdout",
     "output_type": "stream",
     "text": [
      "\u001b[1m\t(\u001b[0m\n"
     ]
    },
    {
     "data": {
      "text/plain": [
       "'ListItem:'"
      ]
     },
     "metadata": {},
     "output_type": "display_data"
    },
    {
     "name": "stdout",
     "output_type": "stream",
     "text": [
      "\u001b[1m\t) [\u001b[0m\n"
     ]
    },
    {
     "data": {
      "text/plain": [
       "'ListItem:'"
      ]
     },
     "metadata": {},
     "output_type": "display_data"
    },
    {
     "name": "stdout",
     "output_type": "stream",
     "text": [
      "\u001b[1m\t] Neudecker, C., Schlarb, S., Dogan, Z.M., Missier, P., Suﬁ, S., Williams, A., Wolsten- croft, K.: An experimental workﬂow development platform for historical document digitisation and analysis. In: Proceedings of the\u001b[0m\n"
     ]
    },
    {
     "data": {
      "text/plain": [
       "'ListItem:'"
      ]
     },
     "metadata": {},
     "output_type": "display_data"
    },
    {
     "name": "stdout",
     "output_type": "stream",
     "text": [
      "\u001b[1m\tworkshop on historical document imaging and processing. pp.\u001b[0m\n"
     ]
    },
    {
     "data": {
      "text/plain": [
       "'ListItem:'"
      ]
     },
     "metadata": {},
     "output_type": "display_data"
    },
    {
     "name": "stdout",
     "output_type": "stream",
     "text": [
      "\u001b[1m\t–\u001b[0m\n"
     ]
    },
    {
     "data": {
      "text/plain": [
       "'ListItem:'"
      ]
     },
     "metadata": {},
     "output_type": "display_data"
    },
    {
     "name": "stdout",
     "output_type": "stream",
     "text": [
      "\u001b[1m\t(\u001b[0m\n"
     ]
    },
    {
     "data": {
      "text/plain": [
       "'ListItem:'"
      ]
     },
     "metadata": {},
     "output_type": "display_data"
    },
    {
     "name": "stdout",
     "output_type": "stream",
     "text": [
      "\u001b[1m\t) [\u001b[0m\n"
     ]
    },
    {
     "data": {
      "text/plain": [
       "'ListItem:'"
      ]
     },
     "metadata": {},
     "output_type": "display_data"
    },
    {
     "name": "stdout",
     "output_type": "stream",
     "text": [
      "\u001b[1m\t] Oliveira, S.A., Seguin, B., Kaplan, F.: dhsegment: A generic deep-learning approach for document segmentation. In:\u001b[0m\n"
     ]
    },
    {
     "data": {
      "text/plain": [
       "'ListItem:'"
      ]
     },
     "metadata": {},
     "output_type": "display_data"
    },
    {
     "name": "stdout",
     "output_type": "stream",
     "text": [
      "\u001b[1m\tth International Conference on Frontiers in Handwriting Recognition (ICFHR). pp.\u001b[0m\n"
     ]
    },
    {
     "data": {
      "text/plain": [
       "'ListItem:'"
      ]
     },
     "metadata": {},
     "output_type": "display_data"
    },
    {
     "name": "stdout",
     "output_type": "stream",
     "text": [
      "\u001b[1m\t–\u001b[0m\n"
     ]
    },
    {
     "data": {
      "text/plain": [
       "'ListItem:'"
      ]
     },
     "metadata": {},
     "output_type": "display_data"
    },
    {
     "name": "stdout",
     "output_type": "stream",
     "text": [
      "\u001b[1m\tIEEE (\u001b[0m\n"
     ]
    },
    {
     "data": {
      "text/plain": [
       "'ListItem:'"
      ]
     },
     "metadata": {},
     "output_type": "display_data"
    },
    {
     "name": "stdout",
     "output_type": "stream",
     "text": [
      "\u001b[1m\t)\u001b[0m\n"
     ]
    },
    {
     "data": {
      "text/plain": [
       "'ListItem:'"
      ]
     },
     "metadata": {},
     "output_type": "display_data"
    },
    {
     "name": "stdout",
     "output_type": "stream",
     "text": [
      "\u001b[1m\t[\u001b[0m\n"
     ]
    },
    {
     "data": {
      "text/plain": [
       "'ListItem:'"
      ]
     },
     "metadata": {},
     "output_type": "display_data"
    },
    {
     "name": "stdout",
     "output_type": "stream",
     "text": [
      "\u001b[1m\t] Paszke, A., Gross, S., Chintala, S., Chanan, G., Yang, E., D\u001b[0m\n"
     ]
    },
    {
     "data": {
      "text/plain": [
       "'ListItem:'"
      ]
     },
     "metadata": {},
     "output_type": "display_data"
    },
    {
     "name": "stdout",
     "output_type": "stream",
     "text": [
      "\u001b[1m\tito, Z., Lin, Z., Desmaison, A., Antiga, L., Lerer, A.: Automatic diﬀerentiation in pytorch (\u001b[0m\n"
     ]
    },
    {
     "data": {
      "text/plain": [
       "'ListItem:'"
      ]
     },
     "metadata": {},
     "output_type": "display_data"
    },
    {
     "name": "stdout",
     "output_type": "stream",
     "text": [
      "\u001b[1m\t) [\u001b[0m\n"
     ]
    },
    {
     "data": {
      "text/plain": [
       "'ListItem:'"
      ]
     },
     "metadata": {},
     "output_type": "display_data"
    },
    {
     "name": "stdout",
     "output_type": "stream",
     "text": [
      "\u001b[1m\t] Paszke, A., Gross, S., Massa, F., Lerer, A., Bradbury, J., Chanan, G., Killeen, T., Lin, Z., Gimelshein, N., Antiga, L., et al.: Pytorch: An imperative style, high-performance deep learning library. a\u001b[0m\n"
     ]
    },
    {
     "data": {
      "text/plain": [
       "'ListItem:'"
      ]
     },
     "metadata": {},
     "output_type": "display_data"
    },
    {
     "name": "stdout",
     "output_type": "stream",
     "text": [
      "\u001b[1m\tiv preprint a\u001b[0m\n"
     ]
    },
    {
     "data": {
      "text/plain": [
       "'ListItem:'"
      ]
     },
     "metadata": {},
     "output_type": "display_data"
    },
    {
     "name": "stdout",
     "output_type": "stream",
     "text": [
      "\u001b[1m\tiv:\u001b[0m\n"
     ]
    },
    {
     "data": {
      "text/plain": [
       "'ListItem:'"
      ]
     },
     "metadata": {},
     "output_type": "display_data"
    },
    {
     "name": "stdout",
     "output_type": "stream",
     "text": [
      "\u001b[1m\t(\u001b[0m\n"
     ]
    },
    {
     "data": {
      "text/plain": [
       "'ListItem:'"
      ]
     },
     "metadata": {},
     "output_type": "display_data"
    },
    {
     "name": "stdout",
     "output_type": "stream",
     "text": [
      "\u001b[1m\t) [\u001b[0m\n"
     ]
    },
    {
     "data": {
      "text/plain": [
       "'ListItem:'"
      ]
     },
     "metadata": {},
     "output_type": "display_data"
    },
    {
     "name": "stdout",
     "output_type": "stream",
     "text": [
      "\u001b[1m\t] Pletschacher, S., Antonacopoulos, A.: The page (page analysis and ground-truth elements) format framework. In:\u001b[0m\n"
     ]
    },
    {
     "data": {
      "text/plain": [
       "'ListItem:'"
      ]
     },
     "metadata": {},
     "output_type": "display_data"
    },
    {
     "name": "stdout",
     "output_type": "stream",
     "text": [
      "\u001b[1m\tth International Conference on Pattern Recognition. pp.\u001b[0m\n"
     ]
    },
    {
     "data": {
      "text/plain": [
       "'ListItem:'"
      ]
     },
     "metadata": {},
     "output_type": "display_data"
    },
    {
     "name": "stdout",
     "output_type": "stream",
     "text": [
      "\u001b[1m\t–\u001b[0m\n"
     ]
    },
    {
     "data": {
      "text/plain": [
       "'ListItem:'"
      ]
     },
     "metadata": {},
     "output_type": "display_data"
    },
    {
     "name": "stdout",
     "output_type": "stream",
     "text": [
      "\u001b[1m\tIEEE (\u001b[0m\n"
     ]
    },
    {
     "data": {
      "text/plain": [
       "'ListItem:'"
      ]
     },
     "metadata": {},
     "output_type": "display_data"
    },
    {
     "name": "stdout",
     "output_type": "stream",
     "text": [
      "\u001b[1m\t) [\u001b[0m\n"
     ]
    },
    {
     "data": {
      "text/plain": [
       "'ListItem:'"
      ]
     },
     "metadata": {},
     "output_type": "display_data"
    },
    {
     "name": "stdout",
     "output_type": "stream",
     "text": [
      "\u001b[1m\t] Prasad, D., Gadpal, A., Kapadni, K., Visave, M., Sultanpure, K.: Cascadetabnet: An approach for end to end table detection and structure recognition from image- based documents. In: Proceedings of the IEEE/CVF Conference on Computer Vision and Pattern Recognition Workshops. pp.\u001b[0m\n"
     ]
    },
    {
     "data": {
      "text/plain": [
       "'ListItem:'"
      ]
     },
     "metadata": {},
     "output_type": "display_data"
    },
    {
     "name": "stdout",
     "output_type": "stream",
     "text": [
      "\u001b[1m\t–\u001b[0m\n"
     ]
    },
    {
     "data": {
      "text/plain": [
       "'ListItem:'"
      ]
     },
     "metadata": {},
     "output_type": "display_data"
    },
    {
     "name": "stdout",
     "output_type": "stream",
     "text": [
      "\u001b[1m\t(\u001b[0m\n"
     ]
    },
    {
     "data": {
      "text/plain": [
       "'ListItem:'"
      ]
     },
     "metadata": {},
     "output_type": "display_data"
    },
    {
     "name": "stdout",
     "output_type": "stream",
     "text": [
      "\u001b[1m\t) [\u001b[0m\n"
     ]
    },
    {
     "data": {
      "text/plain": [
       "'ListItem:'"
      ]
     },
     "metadata": {},
     "output_type": "display_data"
    },
    {
     "name": "stdout",
     "output_type": "stream",
     "text": [
      "\u001b[1m\t] Qasim, S.R., Mahmood, H., Shafait, F.: Rethinking table recognition using graph neural networks. In:\u001b[0m\n"
     ]
    },
    {
     "data": {
      "text/plain": [
       "'ListItem:'"
      ]
     },
     "metadata": {},
     "output_type": "display_data"
    },
    {
     "name": "stdout",
     "output_type": "stream",
     "text": [
      "\u001b[1m\tInternational Conference on Document Analysis and Recognition (ICDAR). pp.\u001b[0m\n"
     ]
    },
    {
     "data": {
      "text/plain": [
       "'ListItem:'"
      ]
     },
     "metadata": {},
     "output_type": "display_data"
    },
    {
     "name": "stdout",
     "output_type": "stream",
     "text": [
      "\u001b[1m\t–\u001b[0m\n"
     ]
    },
    {
     "data": {
      "text/plain": [
       "'ListItem:'"
      ]
     },
     "metadata": {},
     "output_type": "display_data"
    },
    {
     "name": "stdout",
     "output_type": "stream",
     "text": [
      "\u001b[1m\tIEEE (\u001b[0m\n"
     ]
    },
    {
     "data": {
      "text/plain": [
       "'ListItem:'"
      ]
     },
     "metadata": {},
     "output_type": "display_data"
    },
    {
     "name": "stdout",
     "output_type": "stream",
     "text": [
      "\u001b[1m\t) [\u001b[0m\n"
     ]
    },
    {
     "data": {
      "text/plain": [
       "'ListItem:'"
      ]
     },
     "metadata": {},
     "output_type": "display_data"
    },
    {
     "name": "stdout",
     "output_type": "stream",
     "text": [
      "\u001b[1m\t] Ren, S., He, K., Girshick, R., Sun, J.: Faster r-cnn: Towards real-time object detection with region proposal networks. In: Advances in neural information processing systems. pp.\u001b[0m\n"
     ]
    },
    {
     "data": {
      "text/plain": [
       "'ListItem:'"
      ]
     },
     "metadata": {},
     "output_type": "display_data"
    },
    {
     "name": "stdout",
     "output_type": "stream",
     "text": [
      "\u001b[1m\t–\u001b[0m\n"
     ]
    },
    {
     "data": {
      "text/plain": [
       "'ListItem:'"
      ]
     },
     "metadata": {},
     "output_type": "display_data"
    },
    {
     "name": "stdout",
     "output_type": "stream",
     "text": [
      "\u001b[1m\t(\u001b[0m\n"
     ]
    },
    {
     "data": {
      "text/plain": [
       "'ListItem:'"
      ]
     },
     "metadata": {},
     "output_type": "display_data"
    },
    {
     "name": "stdout",
     "output_type": "stream",
     "text": [
      "\u001b[1m\t) [\u001b[0m\n"
     ]
    },
    {
     "data": {
      "text/plain": [
       "'ListItem:'"
      ]
     },
     "metadata": {},
     "output_type": "display_data"
    },
    {
     "name": "stdout",
     "output_type": "stream",
     "text": [
      "\u001b[1m\t] Scarselli, F., Gori, M., Tsoi, A.C., Hagenbuchner, M., Monfardini, G.: The graph neural network model. IEEE transactions on neural networks\u001b[0m\n"
     ]
    },
    {
     "data": {
      "text/plain": [
       "'ListItem:'"
      ]
     },
     "metadata": {},
     "output_type": "display_data"
    },
    {
     "name": "stdout",
     "output_type": "stream",
     "text": [
      "\u001b[1m\t(\u001b[0m\n"
     ]
    },
    {
     "data": {
      "text/plain": [
       "'ListItem:'"
      ]
     },
     "metadata": {},
     "output_type": "display_data"
    },
    {
     "name": "stdout",
     "output_type": "stream",
     "text": [
      "\u001b[1m\t),\u001b[0m\n"
     ]
    },
    {
     "data": {
      "text/plain": [
       "'ListItem:'"
      ]
     },
     "metadata": {},
     "output_type": "display_data"
    },
    {
     "name": "stdout",
     "output_type": "stream",
     "text": [
      "\u001b[1m\t–\u001b[0m\n"
     ]
    },
    {
     "data": {
      "text/plain": [
       "'ListItem:'"
      ]
     },
     "metadata": {},
     "output_type": "display_data"
    },
    {
     "name": "stdout",
     "output_type": "stream",
     "text": [
      "\u001b[1m\t(\u001b[0m\n"
     ]
    },
    {
     "data": {
      "text/plain": [
       "'ListItem:'"
      ]
     },
     "metadata": {},
     "output_type": "display_data"
    },
    {
     "name": "stdout",
     "output_type": "stream",
     "text": [
      "\u001b[1m\t) [\u001b[0m\n"
     ]
    },
    {
     "data": {
      "text/plain": [
       "'ListItem:'"
      ]
     },
     "metadata": {},
     "output_type": "display_data"
    },
    {
     "name": "stdout",
     "output_type": "stream",
     "text": [
      "\u001b[1m\t] Schreiber, S., Agne, S., Wolf, I., Dengel, A., Ahmed, S.: Deepdesrt: Deep learning for detection and structure recognition of tables in document images. In:\u001b[0m\n"
     ]
    },
    {
     "data": {
      "text/plain": [
       "'ListItem:'"
      ]
     },
     "metadata": {},
     "output_type": "display_data"
    },
    {
     "name": "stdout",
     "output_type": "stream",
     "text": [
      "\u001b[1m\tth IAPR international conference on document analysis and recognition (ICDAR). vol.\u001b[0m\n"
     ]
    },
    {
     "data": {
      "text/plain": [
       "'ListItem:'"
      ]
     },
     "metadata": {},
     "output_type": "display_data"
    },
    {
     "name": "stdout",
     "output_type": "stream",
     "text": [
      "\u001b[1m\t, pp.\u001b[0m\n"
     ]
    },
    {
     "data": {
      "text/plain": [
       "'ListItem:'"
      ]
     },
     "metadata": {},
     "output_type": "display_data"
    },
    {
     "name": "stdout",
     "output_type": "stream",
     "text": [
      "\u001b[1m\t–\u001b[0m\n"
     ]
    },
    {
     "data": {
      "text/plain": [
       "'ListItem:'"
      ]
     },
     "metadata": {},
     "output_type": "display_data"
    },
    {
     "name": "stdout",
     "output_type": "stream",
     "text": [
      "\u001b[1m\tIEEE (\u001b[0m\n"
     ]
    },
    {
     "data": {
      "text/plain": [
       "'ListItem:'"
      ]
     },
     "metadata": {},
     "output_type": "display_data"
    },
    {
     "name": "stdout",
     "output_type": "stream",
     "text": [
      "\u001b[1m\t) [\u001b[0m\n"
     ]
    },
    {
     "data": {
      "text/plain": [
       "'ListItem:'"
      ]
     },
     "metadata": {},
     "output_type": "display_data"
    },
    {
     "name": "stdout",
     "output_type": "stream",
     "text": [
      "\u001b[1m\t] Shen, Z., Zhang, K., Dell, M.: A large dataset of historical japanese documents with complex layouts. In: Proceedings of the IEEE/CVF Conference on Computer Vision and Pattern Recognition Workshops. pp.\u001b[0m\n"
     ]
    },
    {
     "data": {
      "text/plain": [
       "'ListItem:'"
      ]
     },
     "metadata": {},
     "output_type": "display_data"
    },
    {
     "name": "stdout",
     "output_type": "stream",
     "text": [
      "\u001b[1m\t–\u001b[0m\n"
     ]
    },
    {
     "data": {
      "text/plain": [
       "'ListItem:'"
      ]
     },
     "metadata": {},
     "output_type": "display_data"
    },
    {
     "name": "stdout",
     "output_type": "stream",
     "text": [
      "\u001b[1m\t(\u001b[0m\n"
     ]
    },
    {
     "data": {
      "text/plain": [
       "'ListItem:'"
      ]
     },
     "metadata": {},
     "output_type": "display_data"
    },
    {
     "name": "stdout",
     "output_type": "stream",
     "text": [
      "\u001b[1m\t) [\u001b[0m\n"
     ]
    },
    {
     "data": {
      "text/plain": [
       "'ListItem:'"
      ]
     },
     "metadata": {},
     "output_type": "display_data"
    },
    {
     "name": "stdout",
     "output_type": "stream",
     "text": [
      "\u001b[1m\t] Shen, Z., Zhao, J., Dell, M., Yu, Y., Li, W.: Olala: Object-level active learning based layout annotation. a\u001b[0m\n"
     ]
    },
    {
     "data": {
      "text/plain": [
       "'ListItem:'"
      ]
     },
     "metadata": {},
     "output_type": "display_data"
    },
    {
     "name": "stdout",
     "output_type": "stream",
     "text": [
      "\u001b[1m\tiv preprint a\u001b[0m\n"
     ]
    },
    {
     "data": {
      "text/plain": [
       "'ListItem:'"
      ]
     },
     "metadata": {},
     "output_type": "display_data"
    },
    {
     "name": "stdout",
     "output_type": "stream",
     "text": [
      "\u001b[1m\tiv:\u001b[0m\n"
     ]
    },
    {
     "data": {
      "text/plain": [
       "'ListItem:'"
      ]
     },
     "metadata": {},
     "output_type": "display_data"
    },
    {
     "name": "stdout",
     "output_type": "stream",
     "text": [
      "\u001b[1m\t(\u001b[0m\n"
     ]
    },
    {
     "data": {
      "text/plain": [
       "'ListItem:'"
      ]
     },
     "metadata": {},
     "output_type": "display_data"
    },
    {
     "name": "stdout",
     "output_type": "stream",
     "text": [
      "\u001b[1m\t) [\u001b[0m\n"
     ]
    },
    {
     "data": {
      "text/plain": [
       "'ListItem:'"
      ]
     },
     "metadata": {},
     "output_type": "display_data"
    },
    {
     "name": "stdout",
     "output_type": "stream",
     "text": [
      "\u001b[1m\t] Studer, L., Alberti, M., Pondenkandath, V., Goktepe, P., Kolonko, T., Fischer, A., Liwicki, M., Ingold, R.: A comprehensive study of imagenet pre-training for historical document image analysis. In:\u001b[0m\n"
     ]
    },
    {
     "data": {
      "text/plain": [
       "'ListItem:'"
      ]
     },
     "metadata": {},
     "output_type": "display_data"
    },
    {
     "name": "stdout",
     "output_type": "stream",
     "text": [
      "\u001b[1m\tInternational Conference on Document Analysis and Recognition (ICDAR). pp.\u001b[0m\n"
     ]
    },
    {
     "data": {
      "text/plain": [
       "'ListItem:'"
      ]
     },
     "metadata": {},
     "output_type": "display_data"
    },
    {
     "name": "stdout",
     "output_type": "stream",
     "text": [
      "\u001b[1m\t–\u001b[0m\n"
     ]
    },
    {
     "data": {
      "text/plain": [
       "'ListItem:'"
      ]
     },
     "metadata": {},
     "output_type": "display_data"
    },
    {
     "name": "stdout",
     "output_type": "stream",
     "text": [
      "\u001b[1m\tIEEE (\u001b[0m\n"
     ]
    },
    {
     "data": {
      "text/plain": [
       "'ListItem:'"
      ]
     },
     "metadata": {},
     "output_type": "display_data"
    },
    {
     "name": "stdout",
     "output_type": "stream",
     "text": [
      "\u001b[1m\t) [\u001b[0m\n"
     ]
    },
    {
     "data": {
      "text/plain": [
       "'ListItem:'"
      ]
     },
     "metadata": {},
     "output_type": "display_data"
    },
    {
     "name": "stdout",
     "output_type": "stream",
     "text": [
      "\u001b[1m\t] Wolf, T., Debut, L., Sanh, V., Chaumond, J., Delangue, C., Moi, A., Cistac, P., Rault, T., Louf, R., Funtowicz, M., et al.: Huggingface’s transformers: State-of- the-art natural language processing. a\u001b[0m\n"
     ]
    },
    {
     "data": {
      "text/plain": [
       "'ListItem:'"
      ]
     },
     "metadata": {},
     "output_type": "display_data"
    },
    {
     "name": "stdout",
     "output_type": "stream",
     "text": [
      "\u001b[1m\tiv preprint a\u001b[0m\n"
     ]
    },
    {
     "data": {
      "text/plain": [
       "'ListItem:'"
      ]
     },
     "metadata": {},
     "output_type": "display_data"
    },
    {
     "name": "stdout",
     "output_type": "stream",
     "text": [
      "\u001b[1m\tiv:\u001b[0m\n"
     ]
    },
    {
     "data": {
      "text/plain": [
       "'ListItem:'"
      ]
     },
     "metadata": {},
     "output_type": "display_data"
    },
    {
     "name": "stdout",
     "output_type": "stream",
     "text": [
      "\u001b[1m\t(\u001b[0m\n"
     ]
    },
    {
     "data": {
      "text/plain": [
       "'ListItem:'"
      ]
     },
     "metadata": {},
     "output_type": "display_data"
    },
    {
     "name": "stdout",
     "output_type": "stream",
     "text": [
      "\u001b[1m\t) [\u001b[0m\n"
     ]
    },
    {
     "data": {
      "text/plain": [
       "'ListItem:'"
      ]
     },
     "metadata": {},
     "output_type": "display_data"
    },
    {
     "name": "stdout",
     "output_type": "stream",
     "text": [
      "\u001b[1m\t] Wu, Y., Kirillov, A., Massa, F., Lo, W.Y., Girshick, R.: Detectron\u001b[0m\n"
     ]
    },
    {
     "data": {
      "text/plain": [
       "'ListItem:'"
      ]
     },
     "metadata": {},
     "output_type": "display_data"
    },
    {
     "name": "stdout",
     "output_type": "stream",
     "text": [
      "\u001b[1m\thttps:// github.com/facebookresearch/detectron\u001b[0m\n"
     ]
    },
    {
     "data": {
      "text/plain": [
       "'ListItem:'"
      ]
     },
     "metadata": {},
     "output_type": "display_data"
    },
    {
     "name": "stdout",
     "output_type": "stream",
     "text": [
      "\u001b[1m\t(\u001b[0m\n"
     ]
    },
    {
     "data": {
      "text/plain": [
       "'ListItem:'"
      ]
     },
     "metadata": {},
     "output_type": "display_data"
    },
    {
     "name": "stdout",
     "output_type": "stream",
     "text": [
      "\u001b[1m\t) [\u001b[0m\n"
     ]
    },
    {
     "data": {
      "text/plain": [
       "'ListItem:'"
      ]
     },
     "metadata": {},
     "output_type": "display_data"
    },
    {
     "name": "stdout",
     "output_type": "stream",
     "text": [
      "\u001b[1m\t] Xu, Y., Xu, Y., Lv, T., Cui, L., Wei, F., Wang, G., Lu, Y., Florencio, D., Zhang, C., Che, W., et al.: Layoutlmv\u001b[0m\n"
     ]
    },
    {
     "data": {
      "text/plain": [
       "'ListItem:'"
      ]
     },
     "metadata": {},
     "output_type": "display_data"
    },
    {
     "name": "stdout",
     "output_type": "stream",
     "text": [
      "\u001b[1m\t: Multi-modal pre-training for visually-rich document understanding. a\u001b[0m\n"
     ]
    },
    {
     "data": {
      "text/plain": [
       "'ListItem:'"
      ]
     },
     "metadata": {},
     "output_type": "display_data"
    },
    {
     "name": "stdout",
     "output_type": "stream",
     "text": [
      "\u001b[1m\tiv preprint a\u001b[0m\n"
     ]
    },
    {
     "data": {
      "text/plain": [
       "'ListItem:'"
      ]
     },
     "metadata": {},
     "output_type": "display_data"
    },
    {
     "name": "stdout",
     "output_type": "stream",
     "text": [
      "\u001b[1m\tiv:\u001b[0m\n"
     ]
    },
    {
     "data": {
      "text/plain": [
       "'ListItem:'"
      ]
     },
     "metadata": {},
     "output_type": "display_data"
    },
    {
     "name": "stdout",
     "output_type": "stream",
     "text": [
      "\u001b[1m\t(\u001b[0m\n"
     ]
    },
    {
     "data": {
      "text/plain": [
       "'ListItem:'"
      ]
     },
     "metadata": {},
     "output_type": "display_data"
    },
    {
     "name": "stdout",
     "output_type": "stream",
     "text": [
      "\u001b[1m\t) [\u001b[0m\n"
     ]
    },
    {
     "data": {
      "text/plain": [
       "'ListItem:'"
      ]
     },
     "metadata": {},
     "output_type": "display_data"
    },
    {
     "name": "stdout",
     "output_type": "stream",
     "text": [
      "\u001b[1m\t] Xu, Y., Li, M., Cui, L., Huang, S., Wei, F., Zhou, M.: Layoutlm: Pre-training of text and layout for document image understanding (\u001b[0m\n"
     ]
    },
    {
     "data": {
      "text/plain": [
       "'ListItem:'"
      ]
     },
     "metadata": {},
     "output_type": "display_data"
    },
    {
     "name": "stdout",
     "output_type": "stream",
     "text": [
      "\u001b[1m\t) [\u001b[0m\n"
     ]
    },
    {
     "data": {
      "text/plain": [
       "'ListItem:'"
      ]
     },
     "metadata": {},
     "output_type": "display_data"
    },
    {
     "name": "stdout",
     "output_type": "stream",
     "text": [
      "\u001b[1m\t] Zhong, X., Tang, J., Yepes, A.J.: Publaynet: largest dataset ever for doc- ument layout analysis. In:\u001b[0m\n"
     ]
    },
    {
     "data": {
      "text/plain": [
       "'ListItem:'"
      ]
     },
     "metadata": {},
     "output_type": "display_data"
    },
    {
     "name": "stdout",
     "output_type": "stream",
     "text": [
      "\u001b[1m\tInternational Conference on Document Analysis and Recognition (ICDAR). pp.\u001b[0m\n"
     ]
    },
    {
     "data": {
      "text/plain": [
       "'ListItem:'"
      ]
     },
     "metadata": {},
     "output_type": "display_data"
    },
    {
     "name": "stdout",
     "output_type": "stream",
     "text": [
      "\u001b[1m\t–\u001b[0m\n"
     ]
    },
    {
     "data": {
      "text/plain": [
       "'ListItem:'"
      ]
     },
     "metadata": {},
     "output_type": "display_data"
    },
    {
     "name": "stdout",
     "output_type": "stream",
     "text": [
      "\u001b[1m\tIEEE (Sep\u001b[0m\n"
     ]
    },
    {
     "data": {
      "text/plain": [
       "'ListItem:'"
      ]
     },
     "metadata": {},
     "output_type": "display_data"
    },
    {
     "name": "stdout",
     "output_type": "stream",
     "text": [
      "\u001b[1m\t). https://doi.org/\u001b[0m\n"
     ]
    },
    {
     "data": {
      "text/plain": [
       "'ListItem:'"
      ]
     },
     "metadata": {},
     "output_type": "display_data"
    },
    {
     "name": "stdout",
     "output_type": "stream",
     "text": [
      "\u001b[1m\t/ICDAR.\u001b[0m\n"
     ]
    }
   ],
   "source": [
    "# test partition: .pdf\n",
    "elements = pipeline_api(file=open(pdf_file, 'rb'))\n",
    "for elem in elements:\n",
    "    display(elem['type']+ \":\")\n",
    "    print(f\"\\033[1m\\t{elem['text']}\\033[0m\")"
   ]
  }
 ],
 "metadata": {
  "kernelspec": {
   "display_name": "Python 3 (ipykernel)",
   "language": "python",
   "name": "python3"
  },
  "language_info": {
   "codemirror_mode": {
    "name": "ipython",
    "version": 3
   },
   "file_extension": ".py",
   "mimetype": "text/x-python",
   "name": "python",
   "nbconvert_exporter": "python",
   "pygments_lexer": "ipython3",
   "version": "3.8.15"
  }
 },
 "nbformat": 4,
 "nbformat_minor": 5
}
