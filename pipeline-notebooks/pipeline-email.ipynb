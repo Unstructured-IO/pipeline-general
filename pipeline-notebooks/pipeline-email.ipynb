{
 "cells": [
  {
   "cell_type": "code",
   "execution_count": 1,
   "id": "35227754",
   "metadata": {},
   "outputs": [
    {
     "data": {
      "text/html": [
       "<!-- \n",
       "If you can see this code, this cell's output is not trusted.\n",
       "Please execute this cell and save the notebook, or click File -> Trust Notebook\n",
       "-->\n",
       "<script>\n",
       "var shown = true;\n",
       "\n",
       "function filter_cells_by_tag(tag) {\n",
       "    out = Array();\n",
       "    all_cells = Jupyter.notebook.get_cells()\n",
       "    for (var i=0; i<all_cells.length; i++) {\n",
       "        var curr_cell = all_cells[i];\n",
       "        var tags = curr_cell._metadata.tags;\n",
       "        if (tags != undefined) {\n",
       "            for (var j=0; j<tags.length; j++) {\n",
       "                var curr_tag = tags[j];\n",
       "                if (curr_tag == tag) {\n",
       "                    out.push(curr_cell);\n",
       "                    break;\n",
       "                }\n",
       "            }\n",
       "        }\n",
       "    }\n",
       "    return out;\n",
       "}\n",
       "\n",
       "function set_cell_visibility(tag, show, input_only) {\n",
       "    var cells = Jupyter.notebook.get_cells();\n",
       "    var marked_cells = filter_cells_by_tag(tag);\n",
       "    for (var i=0; i<marked_cells.length; i++) {\n",
       "        var curr_cell = marked_cells[i];\n",
       "        if (input_only) {\n",
       "            obj = curr_cell.input\n",
       "        } else {\n",
       "            obj = curr_cell.element\n",
       "        }\n",
       "        if (show) {\n",
       "            obj.show();\n",
       "        } else {\n",
       "            obj.hide();\n",
       "        }\n",
       "    }\n",
       "}\n",
       "\n",
       "function toggle_cell_visibility(tag) {\n",
       "    set_cell_visibility(tag, shown, false)\n",
       "    shown = ! shown;\n",
       "}\n",
       "\n",
       "set_cell_visibility('execution_cell', false, true);\n",
       "</script>\n",
       "To toggle visibility of explanation cells click <a href=\"javascript:toggle_cell_visibility('explanatory_cell')\">here</a>\n"
      ],
      "text/plain": [
       "<IPython.core.display.HTML object>"
      ]
     },
     "metadata": {},
     "output_type": "display_data"
    }
   ],
   "source": [
    "%%html\n",
    "<!-- \n",
    "If you can see this code, this cell's output is not trusted.\n",
    "Please execute this cell and save the notebook, or click File -> Trust Notebook\n",
    "-->\n",
    "<script>\n",
    "var shown = true;\n",
    "\n",
    "function filter_cells_by_tag(tag) {\n",
    "    out = Array();\n",
    "    all_cells = Jupyter.notebook.get_cells()\n",
    "    for (var i=0; i<all_cells.length; i++) {\n",
    "        var curr_cell = all_cells[i];\n",
    "        var tags = curr_cell._metadata.tags;\n",
    "        if (tags != undefined) {\n",
    "            for (var j=0; j<tags.length; j++) {\n",
    "                var curr_tag = tags[j];\n",
    "                if (curr_tag == tag) {\n",
    "                    out.push(curr_cell);\n",
    "                    break;\n",
    "                }\n",
    "            }\n",
    "        }\n",
    "    }\n",
    "    return out;\n",
    "}\n",
    "\n",
    "function set_cell_visibility(tag, show, input_only) {\n",
    "    var cells = Jupyter.notebook.get_cells();\n",
    "    var marked_cells = filter_cells_by_tag(tag);\n",
    "    for (var i=0; i<marked_cells.length; i++) {\n",
    "        var curr_cell = marked_cells[i];\n",
    "        if (input_only) {\n",
    "            obj = curr_cell.input\n",
    "        } else {\n",
    "            obj = curr_cell.element\n",
    "        }\n",
    "        if (show) {\n",
    "            obj.show();\n",
    "        } else {\n",
    "            obj.hide();\n",
    "        }\n",
    "    }\n",
    "}\n",
    "\n",
    "function toggle_cell_visibility(tag) {\n",
    "    set_cell_visibility(tag, shown, false)\n",
    "    shown = ! shown;\n",
    "}\n",
    "\n",
    "set_cell_visibility('execution_cell', false, true);\n",
    "</script>\n",
    "To toggle visibility of explanation cells click <a href=\"javascript:toggle_cell_visibility('explanatory_cell')\">here</a>\n"
   ]
  },
  {
   "cell_type": "markdown",
   "id": "e908195c",
   "metadata": {},
   "source": [
    "# Email Pipeline"
   ]
  },
  {
   "cell_type": "markdown",
   "id": "727614ba",
   "metadata": {},
   "source": [
    "This notebook defines the pipeline for extracting the different components (header, body, attachments, etc.) of an email (`.eml` file). This notebook contains both exploration code and the code for defining the API. Code cells marked with `#pipeline-api` are included in the API definition.\n",
    "\n",
    "To demonstrate how off-the-shelf Unstructured Bricks extract meaningful data from complex source documents, we will apply a series of Bricks with explanations before defining the API.\n",
    "\n",
    "#### Table of Contents\n",
    "\n",
    "1. [Take a Look at a Raw EML File](#explore)\n",
    "1. [Custom Partitioning Bricks](#custom)\n",
    "1. [Cleaning Bricks](#cleaning)\n",
    "1. [Staging Bricks](#staging)\n",
    "1. [Define the Pipeline API](#pipeline)"
   ]
  },
  {
   "cell_type": "markdown",
   "id": "3848e558",
   "metadata": {},
   "source": [
    "## Section 1: Take a Look at a Raw EML File <a id=\"explore\"></a>"
   ]
  },
  {
   "cell_type": "markdown",
   "id": "01a62fe4",
   "metadata": {},
   "source": [
    "Let's take a look at an email with an attachment. As you will see below there is metadata about the email at the top (sender, recipient, subject, etc.) and if you scroll down, you will will see there are different sections of the email and it's metadata. There is one part `X-MS-Has-Attach: yes` which indicates this email has an attachment. "
   ]
  },
  {
   "cell_type": "code",
   "execution_count": 94,
   "id": "71814e12",
   "metadata": {},
   "outputs": [],
   "source": [
    "import os\n",
    "import json\n",
    "\n",
    "\n",
    "def get_filename(directory, filename):\n",
    "    cwd = os.getcwd()\n",
    "    local_directory = os.path.join(os.path.split(cwd)[0], directory)\n",
    "    ci_directory = os.path.join(cwd, directory)\n",
    "\n",
    "    if os.path.exists(local_directory) and filename in os.listdir(local_directory):\n",
    "        return os.path.join(local_directory, filename)\n",
    "    elif os.path.exists(ci_directory) and filename in os.listdir(ci_directory):\n",
    "        return os.path.join(ci_directory, filename)\n",
    "    else:\n",
    "        raise FileNotFoundError"
   ]
  },
  {
   "cell_type": "code",
   "execution_count": 95,
   "id": "72f0ebc4",
   "metadata": {},
   "outputs": [],
   "source": [
    "filename = get_filename(\"sample-docs\", \"family_day.eml\")"
   ]
  },
  {
   "cell_type": "code",
   "execution_count": 96,
   "id": "ff34cce7",
   "metadata": {},
   "outputs": [],
   "source": [
    "import email\n",
    "\n",
    "# Take a look at file 2135.eml\n",
    "with open(filename) as f:\n",
    "    msg = email.message_from_file(f)"
   ]
  },
  {
   "cell_type": "markdown",
   "id": "63e3b32b",
   "metadata": {},
   "source": []
  },
  {
   "cell_type": "code",
   "execution_count": 97,
   "id": "9925f0bf",
   "metadata": {},
   "outputs": [
    {
     "name": "stdout",
     "output_type": "stream",
     "text": [
      "MIME-Version: 1.0\n",
      "Date: Wed, 21 Dec 2022 10:28:53 -0600\n",
      "Message-ID: <CAPgNNXQKR=o6AsOTr74VMrsDNhUJW0Keou9n3vLa2UO_Nv+tZw@mail.gmail.com>\n",
      "Subject: Family Day\n",
      "From: Mallori Harrell <mallori@unstructured.io>\n",
      "To: Mallori Harrell <mallori@unstructured.io>\n",
      "Content-Type: multipart/alternative; boundary=\"0000000000005c115405f0590ce4\"\n",
      "\n",
      "--0000000000005c115405f0590ce4\n",
      "Content-Type: text/plain; charset=\"UTF-8\"\n",
      "\n",
      "Hi All,\n",
      "\n",
      "Get excited for our first annual family day!\n",
      "\n",
      "They'll be face painting, a petting zoo, funnel cake and more.\n",
      "\n",
      "Make sure to RSVP!\n",
      "\n",
      "Best.\n",
      "\n",
      "-- \n",
      "Mallori Harrell\n",
      "Unstructured Technologies\n",
      "Data Scientist\n",
      "\n",
      "--0000000000005c115405f0590ce4\n",
      "Content-Type: text/html; charset=\"UTF-8\"\n",
      "Content-Transfer-Encoding: quoted-printable\n",
      "\n",
      "<div dir=3D\"ltr\">Hi All,<div><br></div><div>Get excited for our first annua=\n",
      "l family day!=C2=A0</div><div><br></div><div>They&#39;ll be face painting, =\n",
      "a petting zoo, funnel cake and more.</div><div><br></div><div>Make sure to =\n",
      "RSVP!</div><div><br></div><div>Best.<br clear=3D\"all\"><div><br></div>-- <br=\n",
      "><div dir=3D\"ltr\" class=3D\"gmail_signature\" data-smartmail=3D\"gmail_signatu=\n",
      "re\"><div dir=3D\"ltr\">Mallori Harrell<div>Unstructured Technologies<br><div>=\n",
      "Data Scientist</div><div><br></div></div></div></div></div></div>\n",
      "\n",
      "--0000000000005c115405f0590ce4--\n",
      "\n",
      "Content-Type: text/plain; charset=\"UTF-8\"\n",
      "\n",
      "Hi All,\n",
      "\n",
      "Get excited for our first annual family day!\n",
      "\n",
      "They'll be face painting, a petting zoo, funnel cake and more.\n",
      "\n",
      "Make sure to RSVP!\n",
      "\n",
      "Best.\n",
      "\n",
      "-- \n",
      "Mallori Harrell\n",
      "Unstructured Technologies\n",
      "Data Scientist\n",
      "\n",
      "Content-Type: text/html; charset=\"UTF-8\"\n",
      "Content-Transfer-Encoding: quoted-printable\n",
      "\n",
      "<div dir=3D\"ltr\">Hi All,<div><br></div><div>Get excited for our first annua=\n",
      "l family day!=C2=A0</div><div><br></div><div>They&#39;ll be face painting, =\n",
      "a petting zoo, funnel cake and more.</div><div><br></div><div>Make sure to =\n",
      "RSVP!</div><div><br></div><div>Best.<br clear=3D\"all\"><div><br></div>-- <br=\n",
      "><div dir=3D\"ltr\" class=3D\"gmail_signature\" data-smartmail=3D\"gmail_signatu=\n",
      "re\"><div dir=3D\"ltr\">Mallori Harrell<div>Unstructured Technologies<br><div>=\n",
      "Data Scientist</div><div><br></div></div></div></div></div></div>\n",
      "\n"
     ]
    }
   ],
   "source": [
    "# Take a look at the eml file with all the metadata and content\n",
    "for part in msg.walk():\n",
    "    print(part)"
   ]
  },
  {
   "cell_type": "code",
   "execution_count": 90,
   "id": "5769a88f",
   "metadata": {},
   "outputs": [
    {
     "name": "stdout",
     "output_type": "stream",
     "text": [
      "('MIME-Version', '1.0')\n",
      "('Date', 'Wed, 21 Dec 2022 10:28:53 -0600')\n",
      "('Message-ID', '<CAPgNNXQKR=o6AsOTr74VMrsDNhUJW0Keou9n3vLa2UO_Nv+tZw@mail.gmail.com>')\n",
      "('Subject', 'Family Day')\n",
      "('From', 'Mallori Harrell <mallori@unstructured.io>')\n",
      "('To', 'Mallori Harrell <mallori@unstructured.io>')\n",
      "('Content-Type', 'multipart/alternative; boundary=\"0000000000005c115405f0590ce4\"')\n"
     ]
    }
   ],
   "source": [
    "# Take a closer look at the header section of the eml file\n",
    "for part in msg.raw_items():\n",
    "    print(part)"
   ]
  },
  {
   "cell_type": "markdown",
   "id": "15d69b6b",
   "metadata": {},
   "source": [
    "## Section 2: Custom Partition Bricks"
   ]
  },
  {
   "cell_type": "markdown",
   "id": "5c9e618c",
   "metadata": {},
   "source": [
    "Let's take a look at the only the body text of the eml file."
   ]
  },
  {
   "cell_type": "code",
   "execution_count": 60,
   "id": "11573046",
   "metadata": {},
   "outputs": [],
   "source": [
    "from unstructured.partition.email import partition_email\n",
    "\n",
    "elements = partition_email(filename=filename)"
   ]
  },
  {
   "cell_type": "code",
   "execution_count": 61,
   "id": "ab65b4e5",
   "metadata": {},
   "outputs": [
    {
     "data": {
      "text/plain": [
       "[<unstructured.documents.html.HTMLTitle at 0x29837eca0>,\n",
       " <unstructured.documents.html.HTMLNarrativeText at 0x2983c70a0>,\n",
       " <unstructured.documents.html.HTMLNarrativeText at 0x2983c7550>,\n",
       " <unstructured.documents.html.HTMLTitle at 0x2983c7430>,\n",
       " <unstructured.documents.html.HTMLTitle at 0x2982c3a30>,\n",
       " <unstructured.documents.html.HTMLTitle at 0x297059220>,\n",
       " <unstructured.documents.html.HTMLTitle at 0x2970592b0>,\n",
       " <unstructured.documents.html.HTMLTitle at 0x2970593d0>]"
      ]
     },
     "execution_count": 61,
     "metadata": {},
     "output_type": "execute_result"
    }
   ],
   "source": [
    "elements"
   ]
  },
  {
   "cell_type": "code",
   "execution_count": 62,
   "id": "5eefd575",
   "metadata": {},
   "outputs": [
    {
     "name": "stdout",
     "output_type": "stream",
     "text": [
      "Hi All,\n",
      "Get excited for our first annual family day! \n",
      "They'll be face painting, a petting zoo, funnel cake and more.\n",
      "Make sure to RSVP!\n",
      "Best.\n",
      "Mallori Harrell\n",
      "Unstructured Technologies\n",
      "Data Scientist\n"
     ]
    }
   ],
   "source": [
    "for element in elements:\n",
    "    print(element)"
   ]
  },
  {
   "cell_type": "markdown",
   "id": "258531fe",
   "metadata": {},
   "source": [
    "We can use the same code with extra parameters to also extract the header of the eml file"
   ]
  },
  {
   "cell_type": "code",
   "execution_count": 63,
   "id": "9eca4b0f",
   "metadata": {},
   "outputs": [],
   "source": [
    "elements_with_header = partition_email(filename=filename, include_headers=True)"
   ]
  },
  {
   "cell_type": "markdown",
   "id": "9c77f127",
   "metadata": {},
   "source": [
    "Let's also extract the attachment from the eml file. We can extract the file metadata and payload. You can also save the actual attachment to your local drive by specifying a directory for the `output_dir` paramenter."
   ]
  },
  {
   "cell_type": "code",
   "execution_count": 64,
   "id": "42fd5970",
   "metadata": {},
   "outputs": [],
   "source": [
    "from unstructured.partition.email import extract_attachment_info\n",
    "with open(filename) as f:\n",
    "    msg = email.message_from_file(f)\n",
    "    \n",
    "attachments = extract_attachment_info(msg)"
   ]
  },
  {
   "cell_type": "code",
   "execution_count": 65,
   "id": "a9d6e28e",
   "metadata": {},
   "outputs": [
    {
     "data": {
      "text/plain": [
       "[]"
      ]
     },
     "execution_count": 65,
     "metadata": {},
     "output_type": "execute_result"
    }
   ],
   "source": [
    "attachments"
   ]
  },
  {
   "cell_type": "markdown",
   "id": "10e1d3df",
   "metadata": {},
   "source": [
    "## Section 3: Cleaning Bricks <a id=\"cleaning\"></a>"
   ]
  },
  {
   "cell_type": "markdown",
   "id": "52943c00",
   "metadata": {},
   "source": [
    "In addition to partitioning bricks, the Unstructured library has\n",
    "***cleaning*** bricks for removing unwanted content from text. In this\n",
    "case, we'll solve our whitespace problem by using the \n",
    "`clean_extra_whitespace`. Other uses for cleaning bricks include\n",
    "cleaning out boilerplate, sentence fragments, and other segments\n",
    "of text that could impact labeling tasks or the accuracy of\n",
    "machine learning models. As with partitioning bricks, users can\n",
    "include custom cleaning bricks in a pipeline."
   ]
  },
  {
   "cell_type": "code",
   "execution_count": 66,
   "id": "268e7dcd",
   "metadata": {},
   "outputs": [
    {
     "data": {
      "text/plain": [
       "'Hi All,'"
      ]
     },
     "execution_count": 66,
     "metadata": {},
     "output_type": "execute_result"
    }
   ],
   "source": [
    "#This element has a lot of new line characters\n",
    "elements[0].text"
   ]
  },
  {
   "cell_type": "code",
   "execution_count": 67,
   "id": "485198a5",
   "metadata": {},
   "outputs": [
    {
     "data": {
      "text/plain": [
       "'Hi All,'"
      ]
     },
     "execution_count": 67,
     "metadata": {},
     "output_type": "execute_result"
    }
   ],
   "source": [
    "from unstructured.cleaners.core import clean_extra_whitespace\n",
    "\n",
    "clean_extra_whitespace(elements[0].text)"
   ]
  },
  {
   "cell_type": "code",
   "execution_count": 68,
   "id": "ed0b4a60",
   "metadata": {},
   "outputs": [
    {
     "name": "stdout",
     "output_type": "stream",
     "text": [
      "['Hi All,']\n"
     ]
    }
   ],
   "source": [
    "# Or let's extract all information before a new line character\n",
    "from unstructured.cleaners.extract import extract_text_before, extract_text_after\n",
    "from unstructured.partition.text import split_by_paragraph\n",
    "\n",
    "print(split_by_paragraph(elements[0].text))"
   ]
  },
  {
   "cell_type": "markdown",
   "id": "0f7fea99",
   "metadata": {},
   "source": [
    "## Section 4: Staging Bricks<a id=\"staging\"></a>"
   ]
  },
  {
   "cell_type": "code",
   "execution_count": 69,
   "id": "a4cb2037",
   "metadata": {},
   "outputs": [
    {
     "data": {
      "text/plain": [
       "\"They'll be face painting, a petting zoo, funnel cake and more.\""
      ]
     },
     "execution_count": 69,
     "metadata": {},
     "output_type": "execute_result"
    }
   ],
   "source": [
    "elements[2].text"
   ]
  },
  {
   "cell_type": "code",
   "execution_count": 70,
   "id": "4f41f82c",
   "metadata": {},
   "outputs": [
    {
     "data": {
      "text/plain": [
       "[{'data': {'text': 'Hi All,', 'ref_id': 'db1ca22813f01feda8759ff04a844e56'}},\n",
       " {'data': {'text': 'Get excited for our first annual family day!\\xa0',\n",
       "   'ref_id': '9ec31559e889d2fd004f1911524143ba'}},\n",
       " {'data': {'text': \"They'll be face painting, a petting zoo, funnel cake and more.\",\n",
       "   'ref_id': '4d19bf9ea402b671245155098898964f'}},\n",
       " {'data': {'text': 'Make sure to RSVP!',\n",
       "   'ref_id': 'e945c67e6bca859e2d39c4ed33a02346'}},\n",
       " {'data': {'text': 'Best.', 'ref_id': '5550577db69c2c8aabcd90979698120a'}},\n",
       " {'data': {'text': 'Mallori Harrell',\n",
       "   'ref_id': 'ca1c571d993b6c1ed8ef56a06c16ba22'}},\n",
       " {'data': {'text': 'Unstructured Technologies',\n",
       "   'ref_id': 'd5b612de8cd918addd9569b0255b65b2'}},\n",
       " {'data': {'text': 'Data Scientist',\n",
       "   'ref_id': 'd69b468e295fa01cdb3b7c3f0bd34114'}}]"
      ]
     },
     "execution_count": 70,
     "metadata": {},
     "output_type": "execute_result"
    }
   ],
   "source": [
    "from unstructured.staging.label_studio import stage_for_label_studio\n",
    "\n",
    "label_studio_data = stage_for_label_studio(elements)\n",
    "label_studio_data"
   ]
  },
  {
   "cell_type": "markdown",
   "id": "cde38923",
   "metadata": {},
   "source": [
    "## Section 5: Defining the Pipeline API<a id=\"pipeline\"></a>"
   ]
  },
  {
   "cell_type": "code",
   "execution_count": 71,
   "id": "d079cb81",
   "metadata": {},
   "outputs": [],
   "source": [
    "# pipeline-api\n",
    "import email\n",
    "from unstructured.partition.email import partition_email, extract_attachment_info\n",
    "from unstructured.staging.base import convert_to_isd"
   ]
  },
  {
   "cell_type": "code",
   "execution_count": 72,
   "id": "ab359aa7",
   "metadata": {},
   "outputs": [],
   "source": [
    "# pipeline-api\n",
    "def pipeline_api(file, response_type=\"application/json\", m_include_headers=[], m_extract_attachment=[], m_output_dir=[]):\n",
    "    \n",
    "    if m_extract_attachment:\n",
    "        msg = email.message_from_file(file)\n",
    "        attachment = extract_attachment_info(msg, output_dir=m_output_dir)\n",
    "        \n",
    "    file.seek(0)\n",
    "    elements = partition_email(file=file, include_headers=m_include_headers)    \n",
    "\n",
    "    return elements, attachment"
   ]
  },
  {
   "cell_type": "code",
   "execution_count": 73,
   "id": "19018f5a",
   "metadata": {},
   "outputs": [],
   "source": [
    "with open(filename) as file:\n",
    "    email_data = pipeline_api(file=file, m_include_headers=True, m_extract_attachment=True)"
   ]
  },
  {
   "cell_type": "code",
   "execution_count": 74,
   "id": "aa9d633e",
   "metadata": {},
   "outputs": [
    {
     "data": {
      "text/plain": [
       "([<unstructured.documents.email_elements.MetaData at 0x296fe5460>,\n",
       "  <unstructured.documents.email_elements.MetaData at 0x2983c77f0>,\n",
       "  <unstructured.documents.email_elements.MetaData at 0x2983c73d0>,\n",
       "  <unstructured.documents.email_elements.Subject at 0x2970da6a0>,\n",
       "  <unstructured.documents.email_elements.Sender at 0x2970dae20>,\n",
       "  <unstructured.documents.email_elements.Recipient at 0x2970dabe0>,\n",
       "  <unstructured.documents.email_elements.MetaData at 0x297059610>,\n",
       "  <unstructured.documents.html.HTMLTitle at 0x2983c76d0>,\n",
       "  <unstructured.documents.html.HTMLNarrativeText at 0x2970df2e0>,\n",
       "  <unstructured.documents.html.HTMLNarrativeText at 0x2970df100>,\n",
       "  <unstructured.documents.html.HTMLTitle at 0x2970df190>,\n",
       "  <unstructured.documents.html.HTMLTitle at 0x2970df220>,\n",
       "  <unstructured.documents.html.HTMLTitle at 0x2970daa30>,\n",
       "  <unstructured.documents.html.HTMLTitle at 0x2970dadf0>,\n",
       "  <unstructured.documents.html.HTMLTitle at 0x2970da970>],\n",
       " [])"
      ]
     },
     "execution_count": 74,
     "metadata": {},
     "output_type": "execute_result"
    }
   ],
   "source": [
    "email_data"
   ]
  },
  {
   "cell_type": "code",
   "execution_count": 77,
   "id": "c967d88e",
   "metadata": {},
   "outputs": [
    {
     "name": "stdout",
     "output_type": "stream",
     "text": [
      "MIME-Version: 1.0\n",
      "Mallori Harrell: mallori@unstructured.io\n",
      "Make sure to RSVP!\n"
     ]
    }
   ],
   "source": [
    "print(email_data[0][0])\n",
    "print(email_data[0][5])\n",
    "print(email_data[0][10])"
   ]
  },
  {
   "cell_type": "code",
   "execution_count": null,
   "id": "0ec9e866",
   "metadata": {},
   "outputs": [],
   "source": []
  }
 ],
 "metadata": {
  "kernelspec": {
   "display_name": "Python 3 (ipykernel)",
   "language": "python",
   "name": "python3"
  },
  "language_info": {
   "codemirror_mode": {
    "name": "ipython",
    "version": 3
   },
   "file_extension": ".py",
   "mimetype": "text/x-python",
   "name": "python",
   "nbconvert_exporter": "python",
   "pygments_lexer": "ipython3",
   "version": "3.8.15"
  }
 },
 "nbformat": 4,
 "nbformat_minor": 5
}
