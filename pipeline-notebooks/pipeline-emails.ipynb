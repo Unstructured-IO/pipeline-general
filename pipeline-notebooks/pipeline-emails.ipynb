{
 "cells": [
  {
   "cell_type": "code",
   "execution_count": 53,
   "id": "c7cb6e58",
   "metadata": {},
   "outputs": [
    {
     "data": {
      "text/html": [
       "<!-- \n",
       "If you can see this code, this cell's output is not trusted.\n",
       "Please execute this cell and save the notebook, or click File -> Trust Notebook\n",
       "-->\n",
       "<script>\n",
       "var shown = true;\n",
       "\n",
       "function filter_cells_by_tag(tag) {\n",
       "    out = Array();\n",
       "    all_cells = Jupyter.notebook.get_cells()\n",
       "    for (var i=0; i<all_cells.length; i++) {\n",
       "        var curr_cell = all_cells[i];\n",
       "        var tags = curr_cell._metadata.tags;\n",
       "        if (tags != undefined) {\n",
       "            for (var j=0; j<tags.length; j++) {\n",
       "                var curr_tag = tags[j];\n",
       "                if (curr_tag == tag) {\n",
       "                    out.push(curr_cell);\n",
       "                    break;\n",
       "                }\n",
       "            }\n",
       "        }\n",
       "    }\n",
       "    return out;\n",
       "}\n",
       "\n",
       "function set_cell_visibility(tag, show, input_only) {\n",
       "    var cells = Jupyter.notebook.get_cells();\n",
       "    var marked_cells = filter_cells_by_tag(tag);\n",
       "    for (var i=0; i<marked_cells.length; i++) {\n",
       "        var curr_cell = marked_cells[i];\n",
       "        if (input_only) {\n",
       "            obj = curr_cell.input\n",
       "        } else {\n",
       "            obj = curr_cell.element\n",
       "        }\n",
       "        if (show) {\n",
       "            obj.show();\n",
       "        } else {\n",
       "            obj.hide();\n",
       "        }\n",
       "    }\n",
       "}\n",
       "\n",
       "function toggle_cell_visibility(tag) {\n",
       "    set_cell_visibility(tag, shown, false)\n",
       "    shown = ! shown;\n",
       "}\n",
       "\n",
       "set_cell_visibility('execution_cell', false, true);\n",
       "</script>\n",
       "To toggle visibility of explanation cells click <a href=\"javascript:toggle_cell_visibility('explanatory_cell')\">here</a>\n"
      ],
      "text/plain": [
       "<IPython.core.display.HTML object>"
      ]
     },
     "metadata": {},
     "output_type": "display_data"
    }
   ],
   "source": [
    "%%html\n",
    "<!-- \n",
    "If you can see this code, this cell's output is not trusted.\n",
    "Please execute this cell and save the notebook, or click File -> Trust Notebook\n",
    "-->\n",
    "<script>\n",
    "var shown = true;\n",
    "\n",
    "function filter_cells_by_tag(tag) {\n",
    "    out = Array();\n",
    "    all_cells = Jupyter.notebook.get_cells()\n",
    "    for (var i=0; i<all_cells.length; i++) {\n",
    "        var curr_cell = all_cells[i];\n",
    "        var tags = curr_cell._metadata.tags;\n",
    "        if (tags != undefined) {\n",
    "            for (var j=0; j<tags.length; j++) {\n",
    "                var curr_tag = tags[j];\n",
    "                if (curr_tag == tag) {\n",
    "                    out.push(curr_cell);\n",
    "                    break;\n",
    "                }\n",
    "            }\n",
    "        }\n",
    "    }\n",
    "    return out;\n",
    "}\n",
    "\n",
    "function set_cell_visibility(tag, show, input_only) {\n",
    "    var cells = Jupyter.notebook.get_cells();\n",
    "    var marked_cells = filter_cells_by_tag(tag);\n",
    "    for (var i=0; i<marked_cells.length; i++) {\n",
    "        var curr_cell = marked_cells[i];\n",
    "        if (input_only) {\n",
    "            obj = curr_cell.input\n",
    "        } else {\n",
    "            obj = curr_cell.element\n",
    "        }\n",
    "        if (show) {\n",
    "            obj.show();\n",
    "        } else {\n",
    "            obj.hide();\n",
    "        }\n",
    "    }\n",
    "}\n",
    "\n",
    "function toggle_cell_visibility(tag) {\n",
    "    set_cell_visibility(tag, shown, false)\n",
    "    shown = ! shown;\n",
    "}\n",
    "\n",
    "set_cell_visibility('execution_cell', false, true);\n",
    "</script>\n",
    "To toggle visibility of explanation cells click <a href=\"javascript:toggle_cell_visibility('explanatory_cell')\">here</a>\n"
   ]
  },
  {
   "cell_type": "markdown",
   "id": "5324361b",
   "metadata": {},
   "source": [
    "# SEC Filing Section Pipeline"
   ]
  },
  {
   "cell_type": "markdown",
   "id": "ce749c9c",
   "metadata": {},
   "source": [
    "This notebook defines the pipeline for extracting the narrative text sections\n",
    "from emails in `.eml` files. This notebook contains both\n",
    "exploration code and the code for defining the API. Code cells marked\n",
    "with `#pipeline-api` are included in the API definition.\n",
    "\n",
    "To demonstrate how off-the-shelf Unstructured Bricks extract\n",
    "meaningful data from complex source documents, we will apply\n",
    "a series of Bricks with explanations before defining the API.\n",
    "\n",
    "#### Table of Contents\n",
    "\n",
    "1. [Pulling and Reading the Document](#reading)\n",
    "1. [Custom Partitioning Bricks](#custom)\n",
    "1. [Cleaning Bricks](#cleaning)\n",
    "1. [Define the Pipeline API](#pipeline)"
   ]
  },
  {
   "cell_type": "markdown",
   "id": "8f34e4bc",
   "metadata": {},
   "source": [
    "## Section 1: Pulling and Reading the Emails <a id=\"reading\"></a>"
   ]
  },
  {
   "cell_type": "markdown",
   "id": "9e0bcb0e",
   "metadata": {},
   "source": [
    "First, let's pull in the `.eml` files from a local directory"
   ]
  },
  {
   "cell_type": "code",
   "execution_count": 222,
   "id": "eb705a60",
   "metadata": {},
   "outputs": [],
   "source": [
    "import os\n",
    "\n",
    "def get_filenames(directory, file_type, cwd=None):\n",
    "    if not cwd:\n",
    "        cwd = os.getcwd()\n",
    "        \n",
    "    local_directory = os.path.join(os.path.split(cwd)[0], directory)\n",
    "    \n",
    "    files = []\n",
    "    # Iterate directory\n",
    "    for file in os.listdir(local_directory):\n",
    "        # check only text files\n",
    "        if file.endswith(f'.{file_type}'):\n",
    "            files.append(local_directory + \"/\"+ file)\n",
    "    return files"
   ]
  },
  {
   "cell_type": "code",
   "execution_count": 234,
   "id": "a116369c",
   "metadata": {},
   "outputs": [],
   "source": [
    "import email\n",
    "\n",
    "filenames = get_filenames(\"sample-docs\", \"eml\")\n",
    "with open(filenames[1], \"r\") as f:\n",
    "    msg = email.message_from_file(f)"
   ]
  },
  {
   "cell_type": "code",
   "execution_count": 235,
   "id": "b82a4386",
   "metadata": {},
   "outputs": [
    {
     "name": "stdout",
     "output_type": "stream",
     "text": [
      "MIME-Version: 1.0\n",
      "Date: Wed, 21 Dec 2022 10:28:53 -0600\n",
      "Message-ID: <CAPgNNXQKR=o6AsOTr74VMrsDNhUJW0Keou9n3vLa2UO_Nv+tZw@mail.gmail.com>\n",
      "Subject: Family Day\n",
      "From: Mallori Harrell <mallori@unstructured.io>\n",
      "To: Mallori Harrell <mallori@unstructured.io>\n",
      "Content-Type: multipart/alternative; boundary=\"0000000000005c115405f0590ce4\"\n",
      "\n",
      "--0000000000005c115405f0590ce4\n",
      "Content-Type: text/plain; charset=\"UTF-8\"\n",
      "\n",
      "Hi All,\n",
      "\n",
      "Get excited for our first annual family day!\n",
      "\n",
      "They'll be face painting, a petting zoo, funnel cake and more.\n",
      "\n",
      "Make sure to RSVP!\n",
      "\n",
      "Best.\n",
      "\n",
      "-- \n",
      "Mallori Harrell\n",
      "Unstructured Technologies\n",
      "Data Scientist\n",
      "\n",
      "--0000000000005c115405f0590ce4\n",
      "Content-Type: text/html; charset=\"UTF-8\"\n",
      "Content-Transfer-Encoding: quoted-printable\n",
      "\n",
      "<div dir=3D\"ltr\">Hi All,<div><br></div><div>Get excited for our first annua=\n",
      "l family day!=C2=A0</div><div><br></div><div>They&#39;ll be face painting, =\n",
      "a petting zoo, funnel cake and more.</div><div><br></div><div>Make sure to =\n",
      "RSVP!</div><div><br></div><div>Best.<br clear=3D\"all\"><div><br></div>-- <br=\n",
      "><div dir=3D\"ltr\" class=3D\"gmail_signature\" data-smartmail=3D\"gmail_signatu=\n",
      "re\"><div dir=3D\"ltr\">Mallori Harrell<div>Unstructured Technologies<br><div>=\n",
      "Data Scientist</div><div><br></div></div></div></div></div></div>\n",
      "\n",
      "--0000000000005c115405f0590ce4--\n",
      "\n",
      "Content-Type: text/plain; charset=\"UTF-8\"\n",
      "\n",
      "Hi All,\n",
      "\n",
      "Get excited for our first annual family day!\n",
      "\n",
      "They'll be face painting, a petting zoo, funnel cake and more.\n",
      "\n",
      "Make sure to RSVP!\n",
      "\n",
      "Best.\n",
      "\n",
      "-- \n",
      "Mallori Harrell\n",
      "Unstructured Technologies\n",
      "Data Scientist\n",
      "\n",
      "Content-Type: text/html; charset=\"UTF-8\"\n",
      "Content-Transfer-Encoding: quoted-printable\n",
      "\n",
      "<div dir=3D\"ltr\">Hi All,<div><br></div><div>Get excited for our first annua=\n",
      "l family day!=C2=A0</div><div><br></div><div>They&#39;ll be face painting, =\n",
      "a petting zoo, funnel cake and more.</div><div><br></div><div>Make sure to =\n",
      "RSVP!</div><div><br></div><div>Best.<br clear=3D\"all\"><div><br></div>-- <br=\n",
      "><div dir=3D\"ltr\" class=3D\"gmail_signature\" data-smartmail=3D\"gmail_signatu=\n",
      "re\"><div dir=3D\"ltr\">Mallori Harrell<div>Unstructured Technologies<br><div>=\n",
      "Data Scientist</div><div><br></div></div></div></div></div></div>\n",
      "\n"
     ]
    }
   ],
   "source": [
    "for item in msg.walk():\n",
    "    print(item)"
   ]
  },
  {
   "cell_type": "markdown",
   "id": "04cf07e1",
   "metadata": {},
   "source": [
    "## Section 2: Custom Partitioning Bricks<a id=\"custom\"></a>"
   ]
  },
  {
   "cell_type": "code",
   "execution_count": 227,
   "id": "5f0a1160",
   "metadata": {},
   "outputs": [],
   "source": [
    "from unstructured.partition.email import partition_email\n",
    "\n",
    "msg_elements = []\n",
    "for filename in filenames:\n",
    "    msg_elements.append(partition_email(filename=filename))"
   ]
  },
  {
   "cell_type": "code",
   "execution_count": 228,
   "id": "130e2e5d",
   "metadata": {},
   "outputs": [
    {
     "data": {
      "text/plain": [
       "[[<unstructured.documents.html.HTMLNarrativeText at 0x13cddde50>,\n",
       "  <unstructured.documents.html.HTMLListItem at 0x13cdddd00>,\n",
       "  <unstructured.documents.html.HTMLListItem at 0x13cddd550>,\n",
       "  <unstructured.documents.html.HTMLListItem at 0x13cdc6b20>,\n",
       "  <unstructured.documents.html.HTMLTitle at 0x150381430>,\n",
       "  <unstructured.documents.html.HTMLTitle at 0x1503816a0>,\n",
       "  <unstructured.documents.html.HTMLTitle at 0x150381b50>],\n",
       " [<unstructured.documents.html.HTMLNarrativeText at 0x13cdc3a30>,\n",
       "  <unstructured.documents.html.HTMLNarrativeText at 0x150381f70>,\n",
       "  <unstructured.documents.html.HTMLTitle at 0x150381d60>,\n",
       "  <unstructured.documents.html.HTMLTitle at 0x1503819a0>],\n",
       " [<unstructured.documents.html.HTMLTitle at 0x13cdc3970>,\n",
       "  <unstructured.documents.html.HTMLNarrativeText at 0x1503816d0>,\n",
       "  <unstructured.documents.html.HTMLNarrativeText at 0x1503811f0>,\n",
       "  <unstructured.documents.html.HTMLNarrativeText at 0x150381fd0>,\n",
       "  <unstructured.documents.html.HTMLTitle at 0x150381520>,\n",
       "  <unstructured.documents.html.HTMLTitle at 0x1503813a0>]]"
      ]
     },
     "execution_count": 228,
     "metadata": {},
     "output_type": "execute_result"
    }
   ],
   "source": [
    "msg_elements"
   ]
  },
  {
   "cell_type": "code",
   "execution_count": 229,
   "id": "08bc030a",
   "metadata": {},
   "outputs": [
    {
     "name": "stdout",
     "output_type": "stream",
     "text": [
      "Hi,\n",
      "It has come to our attention that as of 9:00am this morning, Harold's lunch is missing. If this was done in error please return the lunch immediately to the fridge on the 2nd floor by noon.\n",
      "If the lunch has not been returned by noon, we will be reviewing camera footage to determine who stole Harold's lunch.\n",
      "The perpetrators will be PUNISHED to the full extent of our employee code of conduct handbook.\n"
     ]
    }
   ],
   "source": [
    "print(msg_elements[2][0].text)\n",
    "print(msg_elements[2][1].text)\n",
    "print(msg_elements[2][2].text)\n",
    "print(msg_elements[2][3].text)"
   ]
  },
  {
   "cell_type": "markdown",
   "id": "4b73357d",
   "metadata": {},
   "source": [
    "## Section 3: Cleaning Bricks<a id=\"cleaning\"></a>"
   ]
  },
  {
   "cell_type": "code",
   "execution_count": 230,
   "id": "c4e2a900",
   "metadata": {},
   "outputs": [
    {
     "name": "stdout",
     "output_type": "stream",
     "text": [
      "Hi,\n",
      "It has come to our attention that as of 9:00am this morning, Harold's lunch is missing. If this was done in error please return the lunch immediately to the fridge on the 2nd floor by noon.\n",
      "If the lunch has not been returned by noon, we will be reviewing camera footage to determine who stole Harold's lunch.\n",
      "The perpetrators will be PUNISHED to the full extent of our employee code of conduct handbook.\n",
      "Thank you for your time,\n",
      "Data Scientist\n"
     ]
    }
   ],
   "source": [
    "from unstructured.cleaners.core import clean_extra_whitespace\n",
    "clean_element = []\n",
    "\n",
    "for element in msg_elements[2]:\n",
    "    print(clean_extra_whitespace(element.text))"
   ]
  },
  {
   "cell_type": "markdown",
   "id": "b8e3f50b",
   "metadata": {},
   "source": [
    "## Section 4: Define the API<a id=\"pipeline\"></a>"
   ]
  },
  {
   "cell_type": "code",
   "execution_count": 240,
   "id": "84cfdeb7",
   "metadata": {},
   "outputs": [],
   "source": [
    "# pipeline-api\n",
    "# from unstructured.cleaners.core import clean_extra_whitespace\n",
    "# from unstructured.partition.email import partition_email"
   ]
  },
  {
   "cell_type": "code",
   "execution_count": 241,
   "id": "f8d19633",
   "metadata": {},
   "outputs": [],
   "source": [
    "# pipeline-api\n",
    "def pipeline_api(file):\n",
    "    pass\n",
    "#     if not file.endswith(\".eml\"):\n",
    "#         raise ValueError(\"This file type is not supported at the moment. Use a `.eml` file\")\n",
    "        \n",
    "#     elements = partition_email(filename=file)\n",
    "    \n",
    "#     results = []\n",
    "#     for element in elements:\n",
    "#         element.text = clean_extra_whitespace(element.text)\n",
    "#         results.append(element)\n",
    "#     return results"
   ]
  },
  {
   "cell_type": "code",
   "execution_count": 242,
   "id": "f96264c4",
   "metadata": {},
   "outputs": [],
   "source": [
    "# msg = pipeline_api(filenames[2])"
   ]
  },
  {
   "cell_type": "code",
   "execution_count": 243,
   "id": "157d8493",
   "metadata": {},
   "outputs": [
    {
     "data": {
      "text/plain": [
       "'Hi,'"
      ]
     },
     "execution_count": 243,
     "metadata": {},
     "output_type": "execute_result"
    }
   ],
   "source": [
    "# msg[0].text"
   ]
  },
  {
   "cell_type": "code",
   "execution_count": null,
   "id": "b097ec0f",
   "metadata": {},
   "outputs": [],
   "source": []
  }
 ],
 "metadata": {
  "kernelspec": {
   "display_name": "Python 3 (ipykernel)",
   "language": "python",
   "name": "python3"
  },
  "language_info": {
   "codemirror_mode": {
    "name": "ipython",
    "version": 3
   },
   "file_extension": ".py",
   "mimetype": "text/x-python",
   "name": "python",
   "nbconvert_exporter": "python",
   "pygments_lexer": "ipython3",
   "version": "3.8.15"
  }
 },
 "nbformat": 4,
 "nbformat_minor": 5
}
