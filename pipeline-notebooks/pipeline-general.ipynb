{
 "cells": [
  {
   "attachments": {},
   "cell_type": "markdown",
   "id": "e908195c",
   "metadata": {},
   "source": [
    "# Email Pipeline"
   ]
  },
  {
   "attachments": {},
   "cell_type": "markdown",
   "id": "727614ba",
   "metadata": {},
   "source": [
    "This notebook defines the pipeline for extracting the different components (header, body, attachments, etc.) of an email (`.eml` file). This notebook contains both exploration code and the code for defining the API. Code cells marked with `#pipeline-api` are included in the API definition.\n",
    "\n",
    "To demonstrate how off-the-shelf Unstructured Bricks extract meaningful data from complex source documents, we will apply a series of Bricks with explanations before defining the API.\n",
    "\n",
    "#### Table of Contents\n",
    "\n",
    "1. [Take a Look at a Raw EML File](#explore)\n",
    "1. [Custom Partitioning Bricks](#custom)\n",
    "1. [Cleaning Bricks](#cleaning)\n",
    "1. [Staging Bricks](#staging)\n",
    "1. [Define the Pipeline API](#pipeline)"
   ]
  },
  {
   "cell_type": "code",
   "execution_count": null,
   "id": "4e85ce4e",
   "metadata": {},
   "outputs": [],
   "source": []
  },
  {
   "attachments": {},
   "cell_type": "markdown",
   "id": "3848e558",
   "metadata": {},
   "source": [
    "## Section 1: Take a Look at a Raw EML File <a id=\"explore\"></a>"
   ]
  },
  {
   "attachments": {},
   "cell_type": "markdown",
   "id": "01a62fe4",
   "metadata": {},
   "source": [
    "Let's take a look at an email with an attachment. As you will see below there is metadata about the email at the top (sender, recipient, subject, etc.) and if you scroll down, you will will see there are different sections of the email and it's metadata.\n"
   ]
  },
  {
   "cell_type": "code",
   "execution_count": null,
   "id": "71814e12",
   "metadata": {},
   "outputs": [],
   "source": [
    "import json\n",
    "import os\n",
    "\n",
    "def get_filename(directory, filename):\n",
    "    cwd = os.getcwd()\n",
    "    local_directory = os.path.join(os.path.split(cwd)[0], directory)\n",
    "    ci_directory = os.path.join(cwd, directory)\n",
    "\n",
    "    if os.path.exists(local_directory) and filename in os.listdir(local_directory):\n",
    "        return os.path.join(local_directory, filename)\n",
    "    elif os.path.exists(ci_directory) and filename in os.listdir(ci_directory):\n",
    "        return os.path.join(ci_directory, filename)\n",
    "    else:\n",
    "        raise FileNotFoundError"
   ]
  },
  {
   "cell_type": "code",
   "execution_count": null,
   "id": "72f0ebc4",
   "metadata": {},
   "outputs": [],
   "source": [
    "filename = get_filename(\"sample-docs\", \"family-day.eml\")"
   ]
  },
  {
   "cell_type": "code",
   "execution_count": null,
   "id": "ff34cce7",
   "metadata": {},
   "outputs": [],
   "source": [
    "import email\n",
    "\n",
    "# Take a look at file 2135.eml\n",
    "with open(filename) as f:\n",
    "    msg = email.message_from_file(f)"
   ]
  },
  {
   "attachments": {},
   "cell_type": "markdown",
   "id": "63e3b32b",
   "metadata": {},
   "source": []
  },
  {
   "cell_type": "code",
   "execution_count": null,
   "id": "9925f0bf",
   "metadata": {},
   "outputs": [
    {
     "name": "stdout",
     "output_type": "stream",
     "text": [
      "MIME-Version: 1.0\n",
      "Date: Wed, 21 Dec 2022 10:28:53 -0600\n",
      "Message-ID: <CAPgNNXQKR=o6AsOTr74VMrsDNhUJW0Keou9n3vLa2UO_Nv+tZw@mail.gmail.com>\n",
      "Subject: Family Day\n",
      "From: Mallori Harrell <mallori@unstructured.io>\n",
      "To: Mallori Harrell <mallori@unstructured.io>\n",
      "Content-Type: multipart/alternative; boundary=\"0000000000005c115405f0590ce4\"\n",
      "\n",
      "--0000000000005c115405f0590ce4\n",
      "Content-Type: text/plain; charset=\"UTF-8\"\n",
      "\n",
      "Hi All,\n",
      "\n",
      "Get excited for our first annual family day!\n",
      "\n",
      "There will be face painting, a petting zoo, funnel cake and more.\n",
      "\n",
      "Make sure to RSVP!\n",
      "\n",
      "Best.\n",
      "\n",
      "-- \n",
      "Mallori Harrell\n",
      "Unstructured Technologies\n",
      "Data Scientist\n",
      "\n",
      "--0000000000005c115405f0590ce4\n",
      "Content-Type: text/html; charset=\"UTF-8\"\n",
      "Content-Transfer-Encoding: quoted-printable\n",
      "\n",
      "<div dir=3D\"ltr\">Hi All,<div><br></div><div>Get excited for our first annua=\n",
      "l family day!=C2=A0</div><div><br></div><div>There will be face painting, =\n",
      "a petting zoo, funnel cake and more.</div><div><br></div><div>Make sure to =\n",
      "RSVP!</div><div><br></div><div>Best.<br clear=3D\"all\"><div><br></div>-- <br=\n",
      "><div dir=3D\"ltr\" class=3D\"gmail_signature\" data-smartmail=3D\"gmail_signatu=\n",
      "re\"><div dir=3D\"ltr\">Mallori Harrell<div>Unstructured Technologies<br><div>=\n",
      "Data Scientist</div><div><br></div></div></div></div></div></div>\n",
      "\n",
      "--0000000000005c115405f0590ce4--\n",
      "\n",
      "Content-Type: text/plain; charset=\"UTF-8\"\n",
      "\n",
      "Hi All,\n",
      "\n",
      "Get excited for our first annual family day!\n",
      "\n",
      "There will be face painting, a petting zoo, funnel cake and more.\n",
      "\n",
      "Make sure to RSVP!\n",
      "\n",
      "Best.\n",
      "\n",
      "-- \n",
      "Mallori Harrell\n",
      "Unstructured Technologies\n",
      "Data Scientist\n",
      "\n",
      "Content-Type: text/html; charset=\"UTF-8\"\n",
      "Content-Transfer-Encoding: quoted-printable\n",
      "\n",
      "<div dir=3D\"ltr\">Hi All,<div><br></div><div>Get excited for our first annua=\n",
      "l family day!=C2=A0</div><div><br></div><div>There will be face painting, =\n",
      "a petting zoo, funnel cake and more.</div><div><br></div><div>Make sure to =\n",
      "RSVP!</div><div><br></div><div>Best.<br clear=3D\"all\"><div><br></div>-- <br=\n",
      "><div dir=3D\"ltr\" class=3D\"gmail_signature\" data-smartmail=3D\"gmail_signatu=\n",
      "re\"><div dir=3D\"ltr\">Mallori Harrell<div>Unstructured Technologies<br><div>=\n",
      "Data Scientist</div><div><br></div></div></div></div></div></div>\n",
      "\n"
     ]
    }
   ],
   "source": [
    "# Take a look at the eml file with all the metadata and content\n",
    "for part in msg.walk():\n",
    "    print(part)"
   ]
  },
  {
   "cell_type": "code",
   "execution_count": null,
   "id": "5769a88f",
   "metadata": {},
   "outputs": [
    {
     "name": "stdout",
     "output_type": "stream",
     "text": [
      "('MIME-Version', '1.0')\n",
      "('Date', 'Wed, 21 Dec 2022 10:28:53 -0600')\n",
      "('Message-ID', '<CAPgNNXQKR=o6AsOTr74VMrsDNhUJW0Keou9n3vLa2UO_Nv+tZw@mail.gmail.com>')\n",
      "('Subject', 'Family Day')\n",
      "('From', 'Mallori Harrell <mallori@unstructured.io>')\n",
      "('To', 'Mallori Harrell <mallori@unstructured.io>')\n",
      "('Content-Type', 'multipart/alternative; boundary=\"0000000000005c115405f0590ce4\"')\n"
     ]
    }
   ],
   "source": [
    "# Take a closer look at the header section of the eml file\n",
    "for part in msg.raw_items():\n",
    "    print(part)"
   ]
  },
  {
   "attachments": {},
   "cell_type": "markdown",
   "id": "15d69b6b",
   "metadata": {},
   "source": [
    "## Section 2: Custom Partition Bricks"
   ]
  },
  {
   "attachments": {},
   "cell_type": "markdown",
   "id": "5c9e618c",
   "metadata": {},
   "source": [
    "Let's take a look at the body text of the eml file."
   ]
  },
  {
   "cell_type": "code",
   "execution_count": null,
   "id": "11573046",
   "metadata": {},
   "outputs": [],
   "source": [
    "from unstructured.partition.email import partition_email\n",
    "\n",
    "elements = partition_email(filename=filename)"
   ]
  },
  {
   "cell_type": "code",
   "execution_count": null,
   "id": "ab65b4e5",
   "metadata": {},
   "outputs": [
    {
     "data": {
      "text/plain": [
       "[<unstructured.documents.html.HTMLText>,\n",
       " <unstructured.documents.html.HTMLNarrativeText>,\n",
       " <unstructured.documents.html.HTMLNarrativeText>,\n",
       " <unstructured.documents.html.HTMLNarrativeText>,\n",
       " <unstructured.documents.html.HTMLTitle>,\n",
       " <unstructured.documents.html.HTMLTitle>,\n",
       " <unstructured.documents.html.HTMLTitle>,\n",
       " <unstructured.documents.html.HTMLTitle>]"
      ]
     },
     "execution_count": null,
     "metadata": {},
     "output_type": "execute_result"
    }
   ],
   "source": [
    "elements"
   ]
  },
  {
   "cell_type": "code",
   "execution_count": null,
   "id": "fd3b23d0",
   "metadata": {},
   "outputs": [
    {
     "name": "stdout",
     "output_type": "stream",
     "text": [
      "Hi All,\n"
     ]
    }
   ],
   "source": [
    "print(elements[0].text)"
   ]
  },
  {
   "cell_type": "code",
   "execution_count": null,
   "id": "5eefd575",
   "metadata": {},
   "outputs": [
    {
     "name": "stdout",
     "output_type": "stream",
     "text": [
      "Hi All,\n",
      "Get excited for our first annual family day! \n",
      "There will be face painting, a petting zoo, funnel cake and more.\n",
      "Make sure to RSVP!\n",
      "Best.\n",
      "Mallori Harrell\n",
      "Unstructured Technologies\n",
      "Data Scientist\n"
     ]
    }
   ],
   "source": [
    "for element in elements:\n",
    "    print(element)"
   ]
  },
  {
   "attachments": {},
   "cell_type": "markdown",
   "id": "258531fe",
   "metadata": {},
   "source": [
    "We can use the same code with extra parameters to also extract the header of the eml file"
   ]
  },
  {
   "cell_type": "code",
   "execution_count": null,
   "id": "9eca4b0f",
   "metadata": {},
   "outputs": [
    {
     "data": {
      "text/plain": [
       "[<unstructured.documents.email_elements.MetaData>,\n",
       " <unstructured.documents.email_elements.MetaData>,\n",
       " <unstructured.documents.email_elements.MetaData>,\n",
       " <unstructured.documents.email_elements.Subject>,\n",
       " <unstructured.documents.email_elements.Sender>,\n",
       " <unstructured.documents.email_elements.Recipient>,\n",
       " <unstructured.documents.email_elements.MetaData>,\n",
       " <unstructured.documents.html.HTMLText>,\n",
       " <unstructured.documents.html.HTMLNarrativeText>,\n",
       " <unstructured.documents.html.HTMLNarrativeText>,\n",
       " <unstructured.documents.html.HTMLNarrativeText>,\n",
       " <unstructured.documents.html.HTMLTitle>,\n",
       " <unstructured.documents.html.HTMLTitle>,\n",
       " <unstructured.documents.html.HTMLTitle>,\n",
       " <unstructured.documents.html.HTMLTitle>]"
      ]
     },
     "execution_count": null,
     "metadata": {},
     "output_type": "execute_result"
    }
   ],
   "source": [
    "elements_with_header = partition_email(filename=filename, include_headers=True)\n",
    "elements_with_header"
   ]
  },
  {
   "attachments": {},
   "cell_type": "markdown",
   "id": "10e1d3df",
   "metadata": {},
   "source": [
    "## Section 3: Cleaning Bricks <a id=\"cleaning\"></a>"
   ]
  },
  {
   "attachments": {},
   "cell_type": "markdown",
   "id": "52943c00",
   "metadata": {},
   "source": [
    "In addition to partitioning bricks, the Unstructured library has\n",
    "***cleaning*** bricks for removing unwanted content from text. In this\n",
    "case, we'll solve our whitespace problem by using the \n",
    "`clean_extra_whitespace`. Other uses for cleaning bricks include\n",
    "cleaning out boilerplate, sentence fragments, and other segments\n",
    "of text that could impact labeling tasks or the accuracy of\n",
    "machine learning models. As with partitioning bricks, users can\n",
    "include custom cleaning bricks in a pipeline."
   ]
  },
  {
   "cell_type": "code",
   "execution_count": null,
   "id": "268e7dcd",
   "metadata": {},
   "outputs": [
    {
     "data": {
      "text/plain": [
       "'Hi All,'"
      ]
     },
     "execution_count": null,
     "metadata": {},
     "output_type": "execute_result"
    }
   ],
   "source": [
    "#This element has a lot of new line characters\n",
    "elements[0].text"
   ]
  },
  {
   "cell_type": "code",
   "execution_count": null,
   "id": "485198a5",
   "metadata": {},
   "outputs": [
    {
     "data": {
      "text/plain": [
       "'Hi All,'"
      ]
     },
     "execution_count": null,
     "metadata": {},
     "output_type": "execute_result"
    }
   ],
   "source": [
    "from unstructured.cleaners.core import clean_extra_whitespace\n",
    "\n",
    "clean_extra_whitespace(elements[0].text)"
   ]
  },
  {
   "cell_type": "code",
   "execution_count": null,
   "id": "ed0b4a60",
   "metadata": {},
   "outputs": [
    {
     "name": "stdout",
     "output_type": "stream",
     "text": [
      "[' Hi All,']\n"
     ]
    }
   ],
   "source": [
    "# Or let's extract all information before a new line character\n",
    "from unstructured.cleaners.extract import extract_text_before, extract_text_after\n",
    "from unstructured.partition.text import split_by_paragraph\n",
    "\n",
    "print(split_by_paragraph(elements[0].text))"
   ]
  },
  {
   "attachments": {},
   "cell_type": "markdown",
   "id": "0f7fea99",
   "metadata": {},
   "source": [
    "## Section 4: Staging Bricks<a id=\"staging\"></a>"
   ]
  },
  {
   "cell_type": "code",
   "execution_count": null,
   "id": "a4cb2037",
   "metadata": {},
   "outputs": [
    {
     "data": {
      "text/plain": [
       "'There will be face painting, a petting zoo, funnel cake and more.'"
      ]
     },
     "execution_count": null,
     "metadata": {},
     "output_type": "execute_result"
    }
   ],
   "source": [
    "elements[2].text"
   ]
  },
  {
   "cell_type": "code",
   "execution_count": null,
   "id": "4f41f82c",
   "metadata": {},
   "outputs": [
    {
     "data": {
      "text/plain": [
       "[{'data': {'text': 'Hi All,', 'ref_id': 'db1ca22813f01feda8759ff04a844e56'}},\n",
       " {'data': {'text': 'Get excited for our first annual family day!\\xa0',\n",
       "   'ref_id': '9ec31559e889d2fd004f1911524143ba'}},\n",
       " {'data': {'text': 'There will be face painting, a petting zoo, funnel cake and more.',\n",
       "   'ref_id': '1ed755f351e19ae96f0dae15b26fc9e3'}},\n",
       " {'data': {'text': 'Make sure to RSVP!',\n",
       "   'ref_id': 'e945c67e6bca859e2d39c4ed33a02346'}},\n",
       " {'data': {'text': 'Best.', 'ref_id': '5550577db69c2c8aabcd90979698120a'}},\n",
       " {'data': {'text': 'Mallori Harrell',\n",
       "   'ref_id': 'ca1c571d993b6c1ed8ef56a06c16ba22'}},\n",
       " {'data': {'text': 'Unstructured Technologies',\n",
       "   'ref_id': 'd5b612de8cd918addd9569b0255b65b2'}},\n",
       " {'data': {'text': 'Data Scientist',\n",
       "   'ref_id': 'd69b468e295fa01cdb3b7c3f0bd34114'}}]"
      ]
     },
     "execution_count": null,
     "metadata": {},
     "output_type": "execute_result"
    }
   ],
   "source": [
    "from unstructured.staging.label_studio import stage_for_label_studio\n",
    "\n",
    "label_studio_data = stage_for_label_studio(elements)\n",
    "label_studio_data"
   ]
  },
  {
   "attachments": {},
   "cell_type": "markdown",
   "id": "cde38923",
   "metadata": {},
   "source": [
    "## Section 5: Defining the Pipeline API<a id=\"pipeline\"></a>\n",
    "\n",
    "This API will be able to handle `.txt`, `.docx`, `.pptx`, `.jpg`, `.png`, `.eml`, `.html`, and `.pdf` documents. The following lines of code will demonstrate this for a couple of file types. To learn how to use the specific partition functions (e.g. `partition_email`, `partition_html`, etc.) See the notebooks in the `exploration-notebooks` directory."
   ]
  },
  {
   "cell_type": "code",
   "execution_count": null,
   "id": "d079cb81",
   "metadata": {},
   "outputs": [],
   "source": [
    "# pipeline-api\n",
    "\n",
    "from concurrent.futures import ThreadPoolExecutor\n",
    "from functools import partial\n",
    "from pypdf import PdfReader, PdfWriter\n",
    "from unstructured.partition.auto import partition\n",
    "from unstructured.staging.base import convert_to_isd, convert_to_dataframe, elements_from_json\n",
    "import tempfile\n",
    "import pdfminer\n",
    "import requests\n",
    "import time"
   ]
  },
  {
   "cell_type": "code",
   "execution_count": null,
   "id": "ab359aa7",
   "metadata": {},
   "outputs": [],
   "source": [
    "# pipeline-api\n",
    "\n",
    "DEFAULT_MIMETYPES = \"application/pdf,application/msword,image/jpeg,image/png,text/markdown,\" \\\n",
    "                    \"text/x-markdown,text/html,\" \\\n",
    "                    \"application/vnd.openxmlformats-officedocument.wordprocessingml.document,\" \\\n",
    "                    \"application/vnd.openxmlformats-officedocument.spreadsheetml.sheet,\" \\\n",
    "                    \"application/vnd.ms-excel,application/vnd.openxmlformats-officedocument.\" \\\n",
    "                    \"presentationml.presentation,\" \\\n",
    "                    \"application/json,\" \\\n",
    "                    \"application/vnd.ms-powerpoint,\" \\\n",
    "                    \"text/html,message/rfc822,text/plain,image/png,\" \\\n",
    "                    \"application/epub,application/epub+zip,\" \\\n",
    "                    \"application/rtf,text/rtf,\" \\\n",
    "                    \"application/vnd.oasis.opendocument.text,\" \\\n",
    "                    \"text/csv,text/x-csv,application/csv,application/x-csv,\" \\\n",
    "                    \"text/comma-separated-values,text/x-comma-separated-values,\" \\\n",
    "                    \"application/xml,text/xml,text/x-rst,text/prs.fallenstein.rst,\" \\\n",
    "                    \"text/tsv,text/tab-separated-values,\" \\\n",
    "                    \"application/x-ole-storage,application/vnd.ms-outlook,\"\n",
    "\n",
    "if not os.environ.get(\"UNSTRUCTURED_ALLOWED_MIMETYPES\", None):\n",
    "    os.environ[\"UNSTRUCTURED_ALLOWED_MIMETYPES\"] =  DEFAULT_MIMETYPES"
   ]
  },
  {
   "cell_type": "code",
   "execution_count": null,
   "id": "ce14efb7",
   "metadata": {},
   "outputs": [],
   "source": [
    "# pipeline-api\n",
    "\n",
    "def get_pdf_splits(pdf, split_size=1):\n",
    "    '''\n",
    "    Given a pdf (PdfReader) with n pages, split it into pdfs each with split_size # of pages\n",
    "    Return the files with their page offset in the form [( BytesIO, int)]\n",
    "    '''\n",
    "    split_pdfs = []\n",
    "\n",
    "    offset = 0\n",
    "\n",
    "    while offset < len(pdf.pages):\n",
    "        new_pdf = PdfWriter()\n",
    "        pdf_buffer = io.BytesIO()\n",
    "\n",
    "        end = offset+split_size\n",
    "        for page in pdf.pages[offset : end]:\n",
    "            new_pdf.add_page(page)\n",
    "\n",
    "        new_pdf.write(pdf_buffer)\n",
    "        pdf_buffer.seek(0)\n",
    "\n",
    "        split_pdfs.append((pdf_buffer, offset))\n",
    "        offset += split_size\n",
    "\n",
    "    return split_pdfs\n",
    "\n",
    "\n",
    "def partition_file_via_api(file_tuple, request, filename, content_type, **partition_kwargs):\n",
    "    '''\n",
    "    Send the given file to be partitioned remotely with retry logic,\n",
    "    where the remote url is set by env var.\n",
    "    \n",
    "    Args:\n",
    "    file_tuple is in the form (file, page_offest)\n",
    "    request is used to forward the api key header\n",
    "    filename and content_type are passed in the file form data\n",
    "    partition_kwargs holds any form parameters to be sent on\n",
    "    '''\n",
    "    request_url = os.environ.get(\"UNSTRUCTURED_PARALLEL_MODE_URL\")\n",
    "    \n",
    "    if not request_url:\n",
    "        raise HTTPException(status_code=500, detail=\"Parallel mode enabled but no url set!\")\n",
    "    \n",
    "    file, page_offset = file_tuple\n",
    "    \n",
    "    headers = {\n",
    "        \"unstructured-api-key\": request.headers.get(\"unstructured-api-key\")\n",
    "    }\n",
    "    \n",
    "    # Retry parameters\n",
    "    try_attempts = int(os.environ.get(\"UNSTRUCTURED_PARALLEL_RETRY_ATTEMPTS\", 1)) + 1\n",
    "    retry_backoff_time = float(os.environ.get(\"UNSTRUCTURED_PARALLEL_RETRY_BACKOFF_TIME\", 1.0))\n",
    "    \n",
    "    while try_attempts >= 0:\n",
    "        response = requests.post(\n",
    "            request_url,\n",
    "            files={\"files\": (filename, file, content_type)},\n",
    "            data=partition_kwargs,\n",
    "            headers=headers,\n",
    "        )\n",
    "        try_attempts -= 1\n",
    "        non_retryable_error_codes = [400, 401, 402, 403]\n",
    "        status_code = response.status_code\n",
    "        if status_code != 200:\n",
    "            if try_attempts == 0 or status_code in non_retryable_error_codes:\n",
    "                detail = response.json().get(\"detail\") or response.text\n",
    "                raise HTTPException(status_code=response.status_code, detail=detail)\n",
    "            else:\n",
    "                # Retry after backoff\n",
    "                time.sleep(retry_backoff_time)\n",
    "        else:\n",
    "            break\n",
    "\n",
    "    elements = elements_from_json(text=response.text)\n",
    "\n",
    "    # We need to account for the original page numbers\n",
    "    for element in elements:\n",
    "        element.metadata.page_number += page_offset\n",
    "\n",
    "    return elements\n",
    "\n",
    "def partition_pdf_splits(request, file, file_filename, content_type, coordinates, **partition_kwargs):\n",
    "    '''\n",
    "    Split a pdf into chunks and process in parallel with more api calls, or partition\n",
    "    locally if the chunk is small enough. As soon as any remote call fails, bubble up\n",
    "    the error.\n",
    "    \n",
    "    Arguments:\n",
    "    request is used to forward relevant headers to the api calls\n",
    "    file, file_filename and content_type are passed on in the file argument to requests.post\n",
    "    coordinates is passed on to the api calls, but cannot be used in the local partition case\n",
    "    partition_kwargs holds any others parameters that will be forwarded, or passed to partition\n",
    "    '''    \n",
    "    pages_per_pdf = int(os.environ.get(\"UNSTRUCTURED_PARALLEL_MODE_SPLIT_SIZE\", 1))\n",
    "    pdf = PdfReader(file)\n",
    "\n",
    "    # If it's small enough, just process locally\n",
    "    if len(pdf.pages) <= pages_per_pdf:\n",
    "        return partition(\n",
    "            file=file,\n",
    "            file_filename=file_filename,\n",
    "            content_type=content_type,\n",
    "            **partition_kwargs\n",
    "       )\n",
    "\n",
    "    results = []\n",
    "    page_tuples = get_pdf_splits(pdf, split_size=pages_per_pdf)\n",
    "    \n",
    "    partition_func = partial(\n",
    "        partition_file_via_api,\n",
    "        request=request,\n",
    "        filename=file_filename,\n",
    "        content_type=content_type,\n",
    "        coordinates=coordinates,\n",
    "         **partition_kwargs\n",
    "    )\n",
    "\n",
    "    thread_count = int(os.environ.get(\"UNSTRUCTURED_PARALLEL_MODE_THREADS\", 3))\n",
    "    with ThreadPoolExecutor(max_workers=thread_count) as executor:\n",
    "        for result in executor.map(partition_func, page_tuples):\n",
    "            results.extend(result)\n",
    "\n",
    "    return results"
   ]
  },
  {
   "cell_type": "code",
   "execution_count": null,
   "id": "fcb5cc3f",
   "metadata": {},
   "outputs": [],
   "source": [
    "# pipeline-api\n",
    "\n",
    "def pipeline_api(\n",
    "    file, \n",
    "    request=None,\n",
    "    filename='',\n",
    "    m_strategy=[],\n",
    "    m_coordinates=[],\n",
    "    m_ocr_languages=[],\n",
    "    m_encoding=[],\n",
    "    m_xml_keep_tags=[],\n",
    "    m_pdf_infer_table_structure = [],\n",
    "    file_content_type=None,\n",
    "    response_type=\"application/json\"\n",
    "):\n",
    "    if filename.endswith(\".msg\"):\n",
    "        # Note(yuming): convert file type for msg files\n",
    "        # since fast api might sent the wrong one.\n",
    "        file_content_type = \"application/x-ole-storage\"\n",
    "        \n",
    "    if filename.endswith(\".pdf\") and PdfReader(file).is_encrypted:\n",
    "        raise HTTPException(\n",
    "            status_code=400,\n",
    "            detail=f\"File: {filename} is encrypted. Please decrypt it with password.\"\n",
    "        )\n",
    "    \n",
    "    strategy = (m_strategy[0] if len(m_strategy) else 'fast').lower()\n",
    "    strategies = ['fast', 'hi_res', 'auto', 'ocr_only']\n",
    "    if strategy not in strategies:\n",
    "        raise HTTPException(\n",
    "            status_code=400,\n",
    "            detail=f\"Invalid strategy: {strategy}. Must be one of {strategies}\"\n",
    "        )\n",
    "    \n",
    "    show_coordinates_str = (m_coordinates[0] if len(m_coordinates) else \"false\").lower()\n",
    "    show_coordinates = show_coordinates_str == \"true\"\n",
    "    \n",
    "    # Parallel mode is set by env variable\n",
    "    enable_parallel_mode = os.environ.get(\"UNSTRUCTURED_PARALLEL_MODE_ENABLED\", \"false\")\n",
    "    pdf_parallel_mode_enabled = enable_parallel_mode == \"true\"\n",
    "    \n",
    "    ocr_languages= ('+'.join(m_ocr_languages) if len(m_ocr_languages) else 'eng').lower()\n",
    "\n",
    "    encoding = m_encoding[0] if len(m_encoding) else None\n",
    "    \n",
    "    xml_keep_tags_str = (m_xml_keep_tags[0] if len(m_xml_keep_tags) else \"false\").lower()\n",
    "    xml_keep_tags = xml_keep_tags_str == \"true\"\n",
    "    \n",
    "    pdf_infer_table_structure = (\n",
    "        m_pdf_infer_table_structure[0] if len(m_pdf_infer_table_structure) else \"false\"\n",
    "    ).lower()\n",
    "    if strategy == \"hi_res\" and pdf_infer_table_structure == \"true\":\n",
    "        pdf_infer_table_structure = True\n",
    "    else:\n",
    "        pdf_infer_table_structure = False\n",
    "    \n",
    "    try:\n",
    "        if file_content_type == \"application/pdf\" and pdf_parallel_mode_enabled:\n",
    "            elements = partition_pdf_splits(\n",
    "                request,\n",
    "                file=file,\n",
    "                file_filename=filename,\n",
    "                content_type=file_content_type,\n",
    "                strategy=strategy,\n",
    "                ocr_languages=ocr_languages,\n",
    "                coordinates=show_coordinates,\n",
    "                pdf_infer_table_structure=pdf_infer_table_structure,\n",
    "                encoding=encoding,\n",
    "            )\n",
    "        else:\n",
    "            elements = partition(\n",
    "                file=file,\n",
    "                file_filename=filename,\n",
    "                content_type=file_content_type,\n",
    "                strategy=strategy,\n",
    "                ocr_languages=ocr_languages,\n",
    "                pdf_infer_table_structure=pdf_infer_table_structure,\n",
    "                encoding=encoding,\n",
    "                xml_keep_tags=xml_keep_tags,\n",
    "            )\n",
    "    except ValueError as e:\n",
    "        if 'Invalid file' in e.args[0]:\n",
    "            raise HTTPException(status_code=400, detail=f\"{file_content_type} not currently supported\")\n",
    "        raise e\n",
    "    except pdfminer.pdfparser.PDFSyntaxError:\n",
    "        raise HTTPException(status_code=400, detail=f\"{filename} does not appear to be a valid PDF\")\n",
    "\n",
    "    if response_type == \"text/csv\":\n",
    "        df = convert_to_dataframe(elements)\n",
    "        df[\"filename\"] = os.path.basename(filename)\n",
    "        if not show_coordinates:\n",
    "            df.drop(columns=[\"coordinates\"], inplace=True)\n",
    "        \n",
    "        return df.to_csv(index=False)\n",
    "    \n",
    "    result = convert_to_isd(elements)\n",
    "    for element in result:\n",
    "        element['metadata']['filename'] = os.path.basename(filename)\n",
    "\n",
    "        if not show_coordinates:\n",
    "            del element['coordinates']\n",
    "        \n",
    "    return result"
   ]
  },
  {
   "cell_type": "code",
   "execution_count": null,
   "id": "82a04968",
   "metadata": {},
   "outputs": [],
   "source": [
    "with open(filename, 'rb') as file:\n",
    "    email_data = pipeline_api(file=file, filename=filename)"
   ]
  },
  {
   "cell_type": "code",
   "execution_count": null,
   "id": "8ef32a02",
   "metadata": {},
   "outputs": [
    {
     "data": {
      "text/plain": [
       "[{'type': 'UncategorizedText',\n",
       "  'coordinate_system': None,\n",
       "  'layout_width': None,\n",
       "  'layout_height': None,\n",
       "  'element_id': 'db1ca22813f01feda8759ff04a844e56',\n",
       "  'metadata': {'date': '2022-12-21T10:28:53-06:00',\n",
       "   'filetype': 'message/rfc822',\n",
       "   'sent_from': ['Mallori Harrell <mallori@unstructured.io>'],\n",
       "   'sent_to': ['Mallori Harrell <mallori@unstructured.io>'],\n",
       "   'subject': 'Family Day',\n",
       "   'filename': 'family-day.eml'},\n",
       "  'text': 'Hi All,'},\n",
       " {'type': 'NarrativeText',\n",
       "  'coordinate_system': None,\n",
       "  'layout_width': None,\n",
       "  'layout_height': None,\n",
       "  'element_id': 'a663c393a5e143c01ef2bb5c98efa2c1',\n",
       "  'metadata': {'date': '2022-12-21T10:28:53-06:00',\n",
       "   'filetype': 'message/rfc822',\n",
       "   'sent_from': ['Mallori Harrell <mallori@unstructured.io>'],\n",
       "   'sent_to': ['Mallori Harrell <mallori@unstructured.io>'],\n",
       "   'subject': 'Family Day',\n",
       "   'filename': 'family-day.eml'},\n",
       "  'text': 'Get excited for our first annual family day!\\xa0'},\n",
       " {'type': 'NarrativeText',\n",
       "  'coordinate_system': None,\n",
       "  'layout_width': None,\n",
       "  'layout_height': None,\n",
       "  'element_id': 'ce65ca3bef59957d3f1c2bab5725c82f',\n",
       "  'metadata': {'date': '2022-12-21T10:28:53-06:00',\n",
       "   'filetype': 'message/rfc822',\n",
       "   'sent_from': ['Mallori Harrell <mallori@unstructured.io>'],\n",
       "   'sent_to': ['Mallori Harrell <mallori@unstructured.io>'],\n",
       "   'subject': 'Family Day',\n",
       "   'filename': 'family-day.eml'},\n",
       "  'text': 'There will be face painting, a petting zoo, funnel cake and more.'},\n",
       " {'type': 'NarrativeText',\n",
       "  'coordinate_system': None,\n",
       "  'layout_width': None,\n",
       "  'layout_height': None,\n",
       "  'element_id': 'd7bcf988af9f06042d83e25c531e5744',\n",
       "  'metadata': {'date': '2022-12-21T10:28:53-06:00',\n",
       "   'filetype': 'message/rfc822',\n",
       "   'sent_from': ['Mallori Harrell <mallori@unstructured.io>'],\n",
       "   'sent_to': ['Mallori Harrell <mallori@unstructured.io>'],\n",
       "   'subject': 'Family Day',\n",
       "   'filename': 'family-day.eml'},\n",
       "  'text': 'Make sure to RSVP!'},\n",
       " {'type': 'Title',\n",
       "  'coordinate_system': None,\n",
       "  'layout_width': None,\n",
       "  'layout_height': None,\n",
       "  'element_id': '5550577db69c2c8aabcd90979698120a',\n",
       "  'metadata': {'date': '2022-12-21T10:28:53-06:00',\n",
       "   'filetype': 'message/rfc822',\n",
       "   'sent_from': ['Mallori Harrell <mallori@unstructured.io>'],\n",
       "   'sent_to': ['Mallori Harrell <mallori@unstructured.io>'],\n",
       "   'subject': 'Family Day',\n",
       "   'filename': 'family-day.eml'},\n",
       "  'text': 'Best.'},\n",
       " {'type': 'Title',\n",
       "  'coordinate_system': None,\n",
       "  'layout_width': None,\n",
       "  'layout_height': None,\n",
       "  'element_id': 'ca1c571d993b6c1ed8ef56a06c16ba22',\n",
       "  'metadata': {'date': '2022-12-21T10:28:53-06:00',\n",
       "   'filetype': 'message/rfc822',\n",
       "   'sent_from': ['Mallori Harrell <mallori@unstructured.io>'],\n",
       "   'sent_to': ['Mallori Harrell <mallori@unstructured.io>'],\n",
       "   'subject': 'Family Day',\n",
       "   'filename': 'family-day.eml'},\n",
       "  'text': 'Mallori Harrell'},\n",
       " {'type': 'Title',\n",
       "  'coordinate_system': None,\n",
       "  'layout_width': None,\n",
       "  'layout_height': None,\n",
       "  'element_id': 'd5b612de8cd918addd9569b0255b65b2',\n",
       "  'metadata': {'date': '2022-12-21T10:28:53-06:00',\n",
       "   'filetype': 'message/rfc822',\n",
       "   'sent_from': ['Mallori Harrell <mallori@unstructured.io>'],\n",
       "   'sent_to': ['Mallori Harrell <mallori@unstructured.io>'],\n",
       "   'subject': 'Family Day',\n",
       "   'filename': 'family-day.eml'},\n",
       "  'text': 'Unstructured Technologies'},\n",
       " {'type': 'Title',\n",
       "  'coordinate_system': None,\n",
       "  'layout_width': None,\n",
       "  'layout_height': None,\n",
       "  'element_id': '2e0b9e8ee04b9594a9c26d8535b818ff',\n",
       "  'metadata': {'date': '2022-12-21T10:28:53-06:00',\n",
       "   'filetype': 'message/rfc822',\n",
       "   'sent_from': ['Mallori Harrell <mallori@unstructured.io>'],\n",
       "   'sent_to': ['Mallori Harrell <mallori@unstructured.io>'],\n",
       "   'subject': 'Family Day',\n",
       "   'filename': 'family-day.eml'},\n",
       "  'text': 'Data Scientist'}]"
      ]
     },
     "execution_count": null,
     "metadata": {},
     "output_type": "execute_result"
    }
   ],
   "source": [
    "email_data"
   ]
  },
  {
   "cell_type": "code",
   "execution_count": null,
   "id": "19018f5a",
   "metadata": {},
   "outputs": [],
   "source": [
    "# Setting response to be csv\n",
    "\n",
    "with open(filename, 'rb') as file:\n",
    "    email_data = pipeline_api(file=file, filename=filename, response_type=\"text/csv\")"
   ]
  },
  {
   "cell_type": "code",
   "execution_count": null,
   "id": "aa9d633e",
   "metadata": {},
   "outputs": [
    {
     "data": {
      "text/plain": [
       "'type,text,element_id,coordinate_system,layout_width,layout_height,filename,page_number,url,sent_from,sent_to,subject,sender\\nUncategorizedText,\"Hi All,\",db1ca22813f01feda8759ff04a844e56,,,,family-day.eml,,,[\\'Mallori Harrell <mallori@unstructured.io>\\'],[\\'Mallori Harrell <mallori@unstructured.io>\\'],Family Day,Mallori Harrell <mallori@unstructured.io>\\nNarrativeText,Get excited for our first annual family day!\\xa0,a663c393a5e143c01ef2bb5c98efa2c1,,,,family-day.eml,,,[\\'Mallori Harrell <mallori@unstructured.io>\\'],[\\'Mallori Harrell <mallori@unstructured.io>\\'],Family Day,Mallori Harrell <mallori@unstructured.io>\\nNarrativeText,\"There will be face painting, a petting zoo, funnel cake and more.\",ce65ca3bef59957d3f1c2bab5725c82f,,,,family-day.eml,,,[\\'Mallori Harrell <mallori@unstructured.io>\\'],[\\'Mallori Harrell <mallori@unstructured.io>\\'],Family Day,Mallori Harrell <mallori@unstructured.io>\\nNarrativeText,Make sure to RSVP!,d7bcf988af9f06042d83e25c531e5744,,,,family-day.eml,,,[\\'Mallori Harrell <mallori@unstructured.io>\\'],[\\'Mallori Harrell <mallori@unstructured.io>\\'],Family Day,Mallori Harrell <mallori@unstructured.io>\\nTitle,Best.,5550577db69c2c8aabcd90979698120a,,,,family-day.eml,,,[\\'Mallori Harrell <mallori@unstructured.io>\\'],[\\'Mallori Harrell <mallori@unstructured.io>\\'],Family Day,Mallori Harrell <mallori@unstructured.io>\\nTitle,Mallori Harrell,ca1c571d993b6c1ed8ef56a06c16ba22,,,,family-day.eml,,,[\\'Mallori Harrell <mallori@unstructured.io>\\'],[\\'Mallori Harrell <mallori@unstructured.io>\\'],Family Day,Mallori Harrell <mallori@unstructured.io>\\nTitle,Unstructured Technologies,d5b612de8cd918addd9569b0255b65b2,,,,family-day.eml,,,[\\'Mallori Harrell <mallori@unstructured.io>\\'],[\\'Mallori Harrell <mallori@unstructured.io>\\'],Family Day,Mallori Harrell <mallori@unstructured.io>\\nTitle,Data Scientist,2e0b9e8ee04b9594a9c26d8535b818ff,,,,family-day.eml,,,[\\'Mallori Harrell <mallori@unstructured.io>\\'],[\\'Mallori Harrell <mallori@unstructured.io>\\'],Family Day,Mallori Harrell <mallori@unstructured.io>\\n'"
      ]
     },
     "execution_count": null,
     "metadata": {},
     "output_type": "execute_result"
    }
   ],
   "source": [
    "email_data"
   ]
  },
  {
   "attachments": {},
   "cell_type": "markdown",
   "id": "e997bff5",
   "metadata": {},
   "source": [
    "## Now let's use the API for a pdf"
   ]
  },
  {
   "cell_type": "code",
   "execution_count": null,
   "id": "1657602a",
   "metadata": {},
   "outputs": [],
   "source": [
    "filename_txt = get_filename(\"sample-docs\", \"fake-text.txt\")"
   ]
  },
  {
   "cell_type": "code",
   "execution_count": null,
   "id": "0ec9e866",
   "metadata": {},
   "outputs": [],
   "source": [
    "with open(filename_txt, 'rb') as file:\n",
    "    text_elements = pipeline_api(file=file, filename=filename_txt)"
   ]
  },
  {
   "cell_type": "code",
   "execution_count": null,
   "id": "4dbefe9c",
   "metadata": {},
   "outputs": [
    {
     "data": {
      "text/plain": [
       "[{'type': 'NarrativeText',\n",
       "  'coordinate_system': None,\n",
       "  'layout_width': None,\n",
       "  'layout_height': None,\n",
       "  'element_id': '1df8eeb8be847c3a1a7411e3be3e0396',\n",
       "  'metadata': {'filetype': 'text/plain', 'filename': 'fake-text.txt'},\n",
       "  'text': 'This is a test document to use for unit tests.'},\n",
       " {'type': 'Title',\n",
       "  'coordinate_system': None,\n",
       "  'layout_width': None,\n",
       "  'layout_height': None,\n",
       "  'element_id': '9c218520320f238595f1fde74bdd137d',\n",
       "  'metadata': {'filetype': 'text/plain', 'filename': 'fake-text.txt'},\n",
       "  'text': 'Important points:'},\n",
       " {'type': 'ListItem',\n",
       "  'coordinate_system': None,\n",
       "  'layout_width': None,\n",
       "  'layout_height': None,\n",
       "  'element_id': '39a3ae572581d0f1fe7511fd7b3aa414',\n",
       "  'metadata': {'filetype': 'text/plain', 'filename': 'fake-text.txt'},\n",
       "  'text': 'Hamburgers are delicious'},\n",
       " {'type': 'ListItem',\n",
       "  'coordinate_system': None,\n",
       "  'layout_width': None,\n",
       "  'layout_height': None,\n",
       "  'element_id': 'fc1adcb8eaceac694e500a103f9f698f',\n",
       "  'metadata': {'filetype': 'text/plain', 'filename': 'fake-text.txt'},\n",
       "  'text': 'Dogs are the best'},\n",
       " {'type': 'ListItem',\n",
       "  'coordinate_system': None,\n",
       "  'layout_width': None,\n",
       "  'layout_height': None,\n",
       "  'element_id': '0b61e826b1c4ab05750184da72b89f83',\n",
       "  'metadata': {'filetype': 'text/plain', 'filename': 'fake-text.txt'},\n",
       "  'text': 'I love fuzzy blankets'}]"
      ]
     },
     "execution_count": null,
     "metadata": {},
     "output_type": "execute_result"
    }
   ],
   "source": [
    "text_elements"
   ]
  }
 ],
 "metadata": {
  "kernelspec": {
   "display_name": "python3",
   "language": "python",
   "name": "python3"
  }
 },
 "nbformat": 4,
 "nbformat_minor": 5
}
