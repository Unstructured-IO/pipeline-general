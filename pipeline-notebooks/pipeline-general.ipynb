{
 "cells": [
  {
   "cell_type": "markdown",
   "id": "e908195c",
   "metadata": {},
   "source": [
    "# Email Pipeline"
   ]
  },
  {
   "cell_type": "markdown",
   "id": "727614ba",
   "metadata": {},
   "source": [
    "This notebook defines the pipeline for extracting the different components (header, body, attachments, etc.) of an email (`.eml` file). This notebook contains both exploration code and the code for defining the API. Code cells marked with `#pipeline-api` are included in the API definition.\n",
    "\n",
    "To demonstrate how off-the-shelf Unstructured Bricks extract meaningful data from complex source documents, we will apply a series of Bricks with explanations before defining the API.\n",
    "\n",
    "#### Table of Contents\n",
    "\n",
    "1. [Take a Look at a Raw EML File](#explore)\n",
    "1. [Custom Partitioning Bricks](#custom)\n",
    "1. [Cleaning Bricks](#cleaning)\n",
    "1. [Staging Bricks](#staging)\n",
    "1. [Define the Pipeline API](#pipeline)"
   ]
  },
  {
   "cell_type": "markdown",
   "id": "3848e558",
   "metadata": {},
   "source": [
    "## Section 1: Take a Look at a Raw EML File <a id=\"explore\"></a>"
   ]
  },
  {
   "cell_type": "markdown",
   "id": "01a62fe4",
   "metadata": {},
   "source": [
    "Let's take a look at an email with an attachment. As you will see below there is metadata about the email at the top (sender, recipient, subject, etc.) and if you scroll down, you will will see there are different sections of the email and it's metadata."
   ]
  },
  {
   "cell_type": "code",
   "execution_count": null,
   "id": "71814e12",
   "metadata": {},
   "outputs": [],
   "source": [
    "import os\n",
    "import json\n",
    "\n",
    "\n",
    "def get_filename(directory, filename):\n",
    "    cwd = os.getcwd()\n",
    "    local_directory = os.path.join(os.path.split(cwd)[0], directory)\n",
    "    ci_directory = os.path.join(cwd, directory)\n",
    "\n",
    "    if os.path.exists(local_directory) and filename in os.listdir(local_directory):\n",
    "        return os.path.join(local_directory, filename)\n",
    "    elif os.path.exists(ci_directory) and filename in os.listdir(ci_directory):\n",
    "        return os.path.join(ci_directory, filename)\n",
    "    else:\n",
    "        raise FileNotFoundError"
   ]
  },
  {
   "cell_type": "code",
   "execution_count": null,
   "id": "72f0ebc4",
   "metadata": {},
   "outputs": [],
   "source": [
    "filename = get_filename(\"sample-docs\", \"family-day.eml\")"
   ]
  },
  {
   "cell_type": "code",
   "execution_count": null,
   "id": "ff34cce7",
   "metadata": {},
   "outputs": [],
   "source": [
    "import email\n",
    "\n",
    "# Take a look at file 2135.eml\n",
    "with open(filename) as f:\n",
    "    msg = email.message_from_file(f)"
   ]
  },
  {
   "cell_type": "markdown",
   "id": "63e3b32b",
   "metadata": {},
   "source": []
  },
  {
   "cell_type": "code",
   "execution_count": null,
   "id": "9925f0bf",
   "metadata": {},
   "outputs": [
    {
     "name": "stdout",
     "output_type": "stream",
     "text": [
      "MIME-Version: 1.0\n",
      "Date: Wed, 21 Dec 2022 10:28:53 -0600\n",
      "Message-ID: <CAPgNNXQKR=o6AsOTr74VMrsDNhUJW0Keou9n3vLa2UO_Nv+tZw@mail.gmail.com>\n",
      "Subject: Family Day\n",
      "From: Mallori Harrell <mallori@unstructured.io>\n",
      "To: Mallori Harrell <mallori@unstructured.io>\n",
      "Content-Type: multipart/alternative; boundary=\"0000000000005c115405f0590ce4\"\n",
      "\n",
      "--0000000000005c115405f0590ce4\n",
      "Content-Type: text/plain; charset=\"UTF-8\"\n",
      "\n",
      "Hi All,\n",
      "\n",
      "Get excited for our first annual family day!\n",
      "\n",
      "There will be face painting, a petting zoo, funnel cake and more.\n",
      "\n",
      "Make sure to RSVP!\n",
      "\n",
      "Best.\n",
      "\n",
      "-- \n",
      "Mallori Harrell\n",
      "Unstructured Technologies\n",
      "Data Scientist\n",
      "\n",
      "--0000000000005c115405f0590ce4\n",
      "Content-Type: text/html; charset=\"UTF-8\"\n",
      "Content-Transfer-Encoding: quoted-printable\n",
      "\n",
      "<div dir=3D\"ltr\">Hi All,<div><br></div><div>Get excited for our first annua=\n",
      "l family day!=C2=A0</div><div><br></div><div>There will be face painting, =\n",
      "a petting zoo, funnel cake and more.</div><div><br></div><div>Make sure to =\n",
      "RSVP!</div><div><br></div><div>Best.<br clear=3D\"all\"><div><br></div>-- <br=\n",
      "><div dir=3D\"ltr\" class=3D\"gmail_signature\" data-smartmail=3D\"gmail_signatu=\n",
      "re\"><div dir=3D\"ltr\">Mallori Harrell<div>Unstructured Technologies<br><div>=\n",
      "Data Scientist</div><div><br></div></div></div></div></div></div>\n",
      "\n",
      "--0000000000005c115405f0590ce4--\n",
      "\n",
      "Content-Type: text/plain; charset=\"UTF-8\"\n",
      "\n",
      "Hi All,\n",
      "\n",
      "Get excited for our first annual family day!\n",
      "\n",
      "There will be face painting, a petting zoo, funnel cake and more.\n",
      "\n",
      "Make sure to RSVP!\n",
      "\n",
      "Best.\n",
      "\n",
      "-- \n",
      "Mallori Harrell\n",
      "Unstructured Technologies\n",
      "Data Scientist\n",
      "\n",
      "Content-Type: text/html; charset=\"UTF-8\"\n",
      "Content-Transfer-Encoding: quoted-printable\n",
      "\n",
      "<div dir=3D\"ltr\">Hi All,<div><br></div><div>Get excited for our first annua=\n",
      "l family day!=C2=A0</div><div><br></div><div>There will be face painting, =\n",
      "a petting zoo, funnel cake and more.</div><div><br></div><div>Make sure to =\n",
      "RSVP!</div><div><br></div><div>Best.<br clear=3D\"all\"><div><br></div>-- <br=\n",
      "><div dir=3D\"ltr\" class=3D\"gmail_signature\" data-smartmail=3D\"gmail_signatu=\n",
      "re\"><div dir=3D\"ltr\">Mallori Harrell<div>Unstructured Technologies<br><div>=\n",
      "Data Scientist</div><div><br></div></div></div></div></div></div>\n",
      "\n"
     ]
    }
   ],
   "source": [
    "# Take a look at the eml file with all the metadata and content\n",
    "for part in msg.walk():\n",
    "    print(part)"
   ]
  },
  {
   "cell_type": "code",
   "execution_count": null,
   "id": "5769a88f",
   "metadata": {},
   "outputs": [
    {
     "name": "stdout",
     "output_type": "stream",
     "text": [
      "('MIME-Version', '1.0')\n",
      "('Date', 'Wed, 21 Dec 2022 10:28:53 -0600')\n",
      "('Message-ID', '<CAPgNNXQKR=o6AsOTr74VMrsDNhUJW0Keou9n3vLa2UO_Nv+tZw@mail.gmail.com>')\n",
      "('Subject', 'Family Day')\n",
      "('From', 'Mallori Harrell <mallori@unstructured.io>')\n",
      "('To', 'Mallori Harrell <mallori@unstructured.io>')\n",
      "('Content-Type', 'multipart/alternative; boundary=\"0000000000005c115405f0590ce4\"')\n"
     ]
    }
   ],
   "source": [
    "# Take a closer look at the header section of the eml file\n",
    "for part in msg.raw_items():\n",
    "    print(part)"
   ]
  },
  {
   "cell_type": "markdown",
   "id": "15d69b6b",
   "metadata": {},
   "source": [
    "## Section 2: Custom Partition Bricks"
   ]
  },
  {
   "cell_type": "markdown",
   "id": "5c9e618c",
   "metadata": {},
   "source": [
    "Let's take a look at the body text of the eml file."
   ]
  },
  {
   "cell_type": "code",
   "execution_count": null,
   "id": "11573046",
   "metadata": {},
   "outputs": [],
   "source": [
    "from unstructured.partition.email import partition_email\n",
    "\n",
    "elements = partition_email(filename=filename)"
   ]
  },
  {
   "cell_type": "code",
   "execution_count": null,
   "id": "ab65b4e5",
   "metadata": {},
   "outputs": [
    {
     "data": {
      "text/plain": [
       "[<unstructured.documents.html.HTMLText>,\n",
       " <unstructured.documents.html.HTMLNarrativeText>,\n",
       " <unstructured.documents.html.HTMLNarrativeText>,\n",
       " <unstructured.documents.html.HTMLNarrativeText>,\n",
       " <unstructured.documents.html.HTMLTitle>,\n",
       " <unstructured.documents.html.HTMLTitle>,\n",
       " <unstructured.documents.html.HTMLTitle>,\n",
       " <unstructured.documents.html.HTMLTitle>]"
      ]
     },
     "execution_count": null,
     "metadata": {},
     "output_type": "execute_result"
    }
   ],
   "source": [
    "elements"
   ]
  },
  {
   "cell_type": "code",
   "execution_count": null,
   "id": "fd3b23d0",
   "metadata": {},
   "outputs": [
    {
     "name": "stdout",
     "output_type": "stream",
     "text": [
      "Hi All,\n"
     ]
    }
   ],
   "source": [
    "print(elements[0].text)"
   ]
  },
  {
   "cell_type": "code",
   "execution_count": null,
   "id": "5eefd575",
   "metadata": {},
   "outputs": [
    {
     "name": "stdout",
     "output_type": "stream",
     "text": [
      "Hi All,\n",
      "Get excited for our first annual family day! \n",
      "There will be face painting, a petting zoo, funnel cake and more.\n",
      "Make sure to RSVP!\n",
      "Best.\n",
      "Mallori Harrell\n",
      "Unstructured Technologies\n",
      "Data Scientist\n"
     ]
    }
   ],
   "source": [
    "for element in elements:\n",
    "    print(element)"
   ]
  },
  {
   "cell_type": "markdown",
   "id": "258531fe",
   "metadata": {},
   "source": [
    "We can use the same code with extra parameters to also extract the header of the eml file"
   ]
  },
  {
   "cell_type": "code",
   "execution_count": null,
   "id": "9eca4b0f",
   "metadata": {},
   "outputs": [
    {
     "data": {
      "text/plain": [
       "[<unstructured.documents.email_elements.MetaData>,\n",
       " <unstructured.documents.email_elements.MetaData>,\n",
       " <unstructured.documents.email_elements.MetaData>,\n",
       " <unstructured.documents.email_elements.Subject>,\n",
       " <unstructured.documents.email_elements.Sender>,\n",
       " <unstructured.documents.email_elements.Recipient>,\n",
       " <unstructured.documents.email_elements.MetaData>,\n",
       " <unstructured.documents.html.HTMLText>,\n",
       " <unstructured.documents.html.HTMLNarrativeText>,\n",
       " <unstructured.documents.html.HTMLNarrativeText>,\n",
       " <unstructured.documents.html.HTMLNarrativeText>,\n",
       " <unstructured.documents.html.HTMLTitle>,\n",
       " <unstructured.documents.html.HTMLTitle>,\n",
       " <unstructured.documents.html.HTMLTitle>,\n",
       " <unstructured.documents.html.HTMLTitle>]"
      ]
     },
     "execution_count": null,
     "metadata": {},
     "output_type": "execute_result"
    }
   ],
   "source": [
    "elements_with_header = partition_email(filename=filename, include_headers=True)\n",
    "elements_with_header"
   ]
  },
  {
   "cell_type": "markdown",
   "id": "10e1d3df",
   "metadata": {},
   "source": [
    "## Section 3: Cleaning Bricks <a id=\"cleaning\"></a>"
   ]
  },
  {
   "cell_type": "markdown",
   "id": "52943c00",
   "metadata": {},
   "source": [
    "In addition to partitioning bricks, the Unstructured library has\n",
    "***cleaning*** bricks for removing unwanted content from text. In this\n",
    "case, we'll solve our whitespace problem by using the \n",
    "`clean_extra_whitespace`. Other uses for cleaning bricks include\n",
    "cleaning out boilerplate, sentence fragments, and other segments\n",
    "of text that could impact labeling tasks or the accuracy of\n",
    "machine learning models. As with partitioning bricks, users can\n",
    "include custom cleaning bricks in a pipeline."
   ]
  },
  {
   "cell_type": "code",
   "execution_count": null,
   "id": "268e7dcd",
   "metadata": {},
   "outputs": [
    {
     "data": {
      "text/plain": [
       "'Hi All,'"
      ]
     },
     "execution_count": null,
     "metadata": {},
     "output_type": "execute_result"
    }
   ],
   "source": [
    "#This element has a lot of new line characters\n",
    "elements[0].text"
   ]
  },
  {
   "cell_type": "code",
   "execution_count": null,
   "id": "485198a5",
   "metadata": {},
   "outputs": [
    {
     "data": {
      "text/plain": [
       "'Hi All,'"
      ]
     },
     "execution_count": null,
     "metadata": {},
     "output_type": "execute_result"
    }
   ],
   "source": [
    "from unstructured.cleaners.core import clean_extra_whitespace\n",
    "\n",
    "clean_extra_whitespace(elements[0].text)"
   ]
  },
  {
   "cell_type": "code",
   "execution_count": null,
   "id": "ed0b4a60",
   "metadata": {},
   "outputs": [
    {
     "name": "stdout",
     "output_type": "stream",
     "text": [
      "['Hi All,']\n"
     ]
    }
   ],
   "source": [
    "# Or let's extract all information before a new line character\n",
    "from unstructured.cleaners.extract import extract_text_before, extract_text_after\n",
    "from unstructured.partition.text import split_by_paragraph\n",
    "\n",
    "print(split_by_paragraph(elements[0].text))"
   ]
  },
  {
   "cell_type": "markdown",
   "id": "0f7fea99",
   "metadata": {},
   "source": [
    "## Section 4: Staging Bricks<a id=\"staging\"></a>"
   ]
  },
  {
   "cell_type": "code",
   "execution_count": null,
   "id": "a4cb2037",
   "metadata": {},
   "outputs": [
    {
     "data": {
      "text/plain": [
       "'There will be face painting, a petting zoo, funnel cake and more.'"
      ]
     },
     "execution_count": null,
     "metadata": {},
     "output_type": "execute_result"
    }
   ],
   "source": [
    "elements[2].text"
   ]
  },
  {
   "cell_type": "code",
   "execution_count": null,
   "id": "4f41f82c",
   "metadata": {},
   "outputs": [
    {
     "data": {
      "text/plain": [
       "[{'data': {'text': 'Hi All,', 'ref_id': 'db1ca22813f01feda8759ff04a844e56'}},\n",
       " {'data': {'text': 'Get excited for our first annual family day!\\xa0',\n",
       "   'ref_id': '9ec31559e889d2fd004f1911524143ba'}},\n",
       " {'data': {'text': 'There will be face painting, a petting zoo, funnel cake and more.',\n",
       "   'ref_id': '1ed755f351e19ae96f0dae15b26fc9e3'}},\n",
       " {'data': {'text': 'Make sure to RSVP!',\n",
       "   'ref_id': 'e945c67e6bca859e2d39c4ed33a02346'}},\n",
       " {'data': {'text': 'Best.', 'ref_id': '5550577db69c2c8aabcd90979698120a'}},\n",
       " {'data': {'text': 'Mallori Harrell',\n",
       "   'ref_id': 'ca1c571d993b6c1ed8ef56a06c16ba22'}},\n",
       " {'data': {'text': 'Unstructured Technologies',\n",
       "   'ref_id': 'd5b612de8cd918addd9569b0255b65b2'}},\n",
       " {'data': {'text': 'Data Scientist',\n",
       "   'ref_id': 'd69b468e295fa01cdb3b7c3f0bd34114'}}]"
      ]
     },
     "execution_count": null,
     "metadata": {},
     "output_type": "execute_result"
    }
   ],
   "source": [
    "from unstructured.staging.label_studio import stage_for_label_studio\n",
    "\n",
    "label_studio_data = stage_for_label_studio(elements)\n",
    "label_studio_data"
   ]
  },
  {
   "cell_type": "markdown",
   "id": "cde38923",
   "metadata": {},
   "source": [
    "## Section 5: Defining the Pipeline API<a id=\"pipeline\"></a>\n",
    "\n",
    "This API will be able to handle `.txt`, `.docx`, `.pptx`, `.jpg`, `.png`, `.eml`, `.html`, and `.pdf` documents. The following lines of code will demonstrate this for a couple of file types. To learn how to use the specific partition functions (e.g. `partition_email`, `partition_html`, etc.) See the notebooks in the `exploration-notebooks` directory."
   ]
  },
  {
   "cell_type": "code",
   "execution_count": null,
   "id": "d079cb81",
   "metadata": {},
   "outputs": [],
   "source": [
    "# pipeline-api\n",
    "from unstructured.partition.auto import partition\n",
    "from unstructured.staging.base import convert_to_isd\n",
    "import tempfile"
   ]
  },
  {
   "cell_type": "code",
   "execution_count": null,
   "id": "ab359aa7",
   "metadata": {},
   "outputs": [],
   "source": [
    "# pipeline-api\n",
    "def pipeline_api(file, filename='', response_type=\"application/json\"):\n",
    "    # NOTE(robinson) - This is a hacky solution due to\n",
    "    # limitations in the SpooledTemporaryFile wrapper.\n",
    "    # Specifically, it does't have a `seekable` attribute,\n",
    "    # which is required for .pptx and .docx. See below\n",
    "    # the link below\n",
    "    # ref: https://stackoverflow.com/questions/47160211\n",
    "    # /why-doesnt-tempfile-spooledtemporaryfile-implement-readable-writable-seekable\n",
    "    with tempfile.TemporaryDirectory() as tmpdir:\n",
    "        _filename = os.path.join(tmpdir, filename.split('/')[-1])\n",
    "        with open(_filename, \"wb\") as f:\n",
    "            f.write(file.read())\n",
    "        elements = partition(filename=_filename)\n",
    "        \n",
    "    return convert_to_isd(elements)"
   ]
  },
  {
   "cell_type": "code",
   "execution_count": null,
   "id": "19018f5a",
   "metadata": {},
   "outputs": [],
   "source": [
    "with open(filename, 'rb') as file:\n",
    "    email_data = pipeline_api(file=file, filename=filename)"
   ]
  },
  {
   "cell_type": "code",
   "execution_count": null,
   "id": "aa9d633e",
   "metadata": {},
   "outputs": [
    {
     "data": {
      "text/plain": [
       "[{'element_id': 'db1ca22813f01feda8759ff04a844e56',\n",
       "  'coordinates': None,\n",
       "  'text': 'Hi All,',\n",
       "  'type': 'UncategorizedText',\n",
       "  'metadata': {'filename': '/var/folders/01/tgx6znjs3p3bfwkbj591hg1w0000gn/T/tmp94zpbz3n/family-day.eml'}},\n",
       " {'element_id': '9ec31559e889d2fd004f1911524143ba',\n",
       "  'coordinates': None,\n",
       "  'text': 'Get excited for our first annual family day!\\xa0',\n",
       "  'type': 'NarrativeText',\n",
       "  'metadata': {'filename': '/var/folders/01/tgx6znjs3p3bfwkbj591hg1w0000gn/T/tmp94zpbz3n/family-day.eml'}},\n",
       " {'element_id': '1ed755f351e19ae96f0dae15b26fc9e3',\n",
       "  'coordinates': None,\n",
       "  'text': 'There will be face painting, a petting zoo, funnel cake and more.',\n",
       "  'type': 'NarrativeText',\n",
       "  'metadata': {'filename': '/var/folders/01/tgx6znjs3p3bfwkbj591hg1w0000gn/T/tmp94zpbz3n/family-day.eml'}},\n",
       " {'element_id': 'e945c67e6bca859e2d39c4ed33a02346',\n",
       "  'coordinates': None,\n",
       "  'text': 'Make sure to RSVP!',\n",
       "  'type': 'NarrativeText',\n",
       "  'metadata': {'filename': '/var/folders/01/tgx6znjs3p3bfwkbj591hg1w0000gn/T/tmp94zpbz3n/family-day.eml'}},\n",
       " {'element_id': '5550577db69c2c8aabcd90979698120a',\n",
       "  'coordinates': None,\n",
       "  'text': 'Best.',\n",
       "  'type': 'Title',\n",
       "  'metadata': {'filename': '/var/folders/01/tgx6znjs3p3bfwkbj591hg1w0000gn/T/tmp94zpbz3n/family-day.eml'}},\n",
       " {'element_id': 'ca1c571d993b6c1ed8ef56a06c16ba22',\n",
       "  'coordinates': None,\n",
       "  'text': 'Mallori Harrell',\n",
       "  'type': 'Title',\n",
       "  'metadata': {'filename': '/var/folders/01/tgx6znjs3p3bfwkbj591hg1w0000gn/T/tmp94zpbz3n/family-day.eml'}},\n",
       " {'element_id': 'd5b612de8cd918addd9569b0255b65b2',\n",
       "  'coordinates': None,\n",
       "  'text': 'Unstructured Technologies',\n",
       "  'type': 'Title',\n",
       "  'metadata': {'filename': '/var/folders/01/tgx6znjs3p3bfwkbj591hg1w0000gn/T/tmp94zpbz3n/family-day.eml'}},\n",
       " {'element_id': 'd69b468e295fa01cdb3b7c3f0bd34114',\n",
       "  'coordinates': None,\n",
       "  'text': 'Data Scientist',\n",
       "  'type': 'Title',\n",
       "  'metadata': {'filename': '/var/folders/01/tgx6znjs3p3bfwkbj591hg1w0000gn/T/tmp94zpbz3n/family-day.eml'}}]"
      ]
     },
     "execution_count": null,
     "metadata": {},
     "output_type": "execute_result"
    }
   ],
   "source": [
    "email_data"
   ]
  },
  {
   "cell_type": "markdown",
   "id": "e997bff5",
   "metadata": {},
   "source": [
    "## Now let's use the API for a pdf"
   ]
  },
  {
   "cell_type": "code",
   "execution_count": null,
   "id": "1657602a",
   "metadata": {},
   "outputs": [],
   "source": [
    "filename_txt = get_filename(\"sample-docs\", \"fake-text.txt\")"
   ]
  },
  {
   "cell_type": "code",
   "execution_count": null,
   "id": "0ec9e866",
   "metadata": {},
   "outputs": [],
   "source": [
    "with open(filename_txt, 'rb') as file:\n",
    "    text_elements = pipeline_api(file=file, filename=filename_txt)"
   ]
  },
  {
   "cell_type": "code",
   "execution_count": null,
   "id": "4dbefe9c",
   "metadata": {},
   "outputs": [
    {
     "data": {
      "text/plain": [
       "[{'element_id': '1df8eeb8be847c3a1a7411e3be3e0396',\n",
       "  'coordinates': None,\n",
       "  'text': 'This is a test document to use for unit tests.',\n",
       "  'type': 'NarrativeText',\n",
       "  'metadata': {'filename': '/var/folders/01/tgx6znjs3p3bfwkbj591hg1w0000gn/T/tmpkmhjgfzz/fake-text.txt'}},\n",
       " {'element_id': '9c218520320f238595f1fde74bdd137d',\n",
       "  'coordinates': None,\n",
       "  'text': 'Important points:',\n",
       "  'type': 'Title',\n",
       "  'metadata': {'filename': '/var/folders/01/tgx6znjs3p3bfwkbj591hg1w0000gn/T/tmpkmhjgfzz/fake-text.txt'}},\n",
       " {'element_id': '39a3ae572581d0f1fe7511fd7b3aa414',\n",
       "  'coordinates': None,\n",
       "  'text': 'Hamburgers are delicious',\n",
       "  'type': 'ListItem',\n",
       "  'metadata': {'filename': '/var/folders/01/tgx6znjs3p3bfwkbj591hg1w0000gn/T/tmpkmhjgfzz/fake-text.txt'}},\n",
       " {'element_id': 'fc1adcb8eaceac694e500a103f9f698f',\n",
       "  'coordinates': None,\n",
       "  'text': 'Dogs are the best',\n",
       "  'type': 'ListItem',\n",
       "  'metadata': {'filename': '/var/folders/01/tgx6znjs3p3bfwkbj591hg1w0000gn/T/tmpkmhjgfzz/fake-text.txt'}},\n",
       " {'element_id': '0b61e826b1c4ab05750184da72b89f83',\n",
       "  'coordinates': None,\n",
       "  'text': 'I love fuzzy blankets',\n",
       "  'type': 'ListItem',\n",
       "  'metadata': {'filename': '/var/folders/01/tgx6znjs3p3bfwkbj591hg1w0000gn/T/tmpkmhjgfzz/fake-text.txt'}}]"
      ]
     },
     "execution_count": null,
     "metadata": {},
     "output_type": "execute_result"
    }
   ],
   "source": [
    "text_elements"
   ]
  }
 ],
 "metadata": {
  "kernelspec": {
   "display_name": "python3",
   "language": "python",
   "name": "python3"
  }
 },
 "nbformat": 4,
 "nbformat_minor": 5
}
