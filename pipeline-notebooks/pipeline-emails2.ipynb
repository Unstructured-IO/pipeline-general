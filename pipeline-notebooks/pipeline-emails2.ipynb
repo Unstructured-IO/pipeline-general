{
 "cells": [
  {
   "cell_type": "code",
   "execution_count": 53,
   "id": "c234def4",
   "metadata": {},
   "outputs": [
    {
     "data": {
      "text/html": [
       "<!-- \n",
       "If you can see this code, this cell's output is not trusted.\n",
       "Please execute this cell and save the notebook, or click File -> Trust Notebook\n",
       "-->\n",
       "<script>\n",
       "var shown = true;\n",
       "\n",
       "function filter_cells_by_tag(tag) {\n",
       "    out = Array();\n",
       "    all_cells = Jupyter.notebook.get_cells()\n",
       "    for (var i=0; i<all_cells.length; i++) {\n",
       "        var curr_cell = all_cells[i];\n",
       "        var tags = curr_cell._metadata.tags;\n",
       "        if (tags != undefined) {\n",
       "            for (var j=0; j<tags.length; j++) {\n",
       "                var curr_tag = tags[j];\n",
       "                if (curr_tag == tag) {\n",
       "                    out.push(curr_cell);\n",
       "                    break;\n",
       "                }\n",
       "            }\n",
       "        }\n",
       "    }\n",
       "    return out;\n",
       "}\n",
       "\n",
       "function set_cell_visibility(tag, show, input_only) {\n",
       "    var cells = Jupyter.notebook.get_cells();\n",
       "    var marked_cells = filter_cells_by_tag(tag);\n",
       "    for (var i=0; i<marked_cells.length; i++) {\n",
       "        var curr_cell = marked_cells[i];\n",
       "        if (input_only) {\n",
       "            obj = curr_cell.input\n",
       "        } else {\n",
       "            obj = curr_cell.element\n",
       "        }\n",
       "        if (show) {\n",
       "            obj.show();\n",
       "        } else {\n",
       "            obj.hide();\n",
       "        }\n",
       "    }\n",
       "}\n",
       "\n",
       "function toggle_cell_visibility(tag) {\n",
       "    set_cell_visibility(tag, shown, false)\n",
       "    shown = ! shown;\n",
       "}\n",
       "\n",
       "set_cell_visibility('execution_cell', false, true);\n",
       "</script>\n",
       "To toggle visibility of explanation cells click <a href=\"javascript:toggle_cell_visibility('explanatory_cell')\">here</a>\n"
      ],
      "text/plain": [
       "<IPython.core.display.HTML object>"
      ]
     },
     "metadata": {},
     "output_type": "display_data"
    }
   ],
   "source": [
    "%%html\n",
    "<!-- \n",
    "If you can see this code, this cell's output is not trusted.\n",
    "Please execute this cell and save the notebook, or click File -> Trust Notebook\n",
    "-->\n",
    "<script>\n",
    "var shown = true;\n",
    "\n",
    "function filter_cells_by_tag(tag) {\n",
    "    out = Array();\n",
    "    all_cells = Jupyter.notebook.get_cells()\n",
    "    for (var i=0; i<all_cells.length; i++) {\n",
    "        var curr_cell = all_cells[i];\n",
    "        var tags = curr_cell._metadata.tags;\n",
    "        if (tags != undefined) {\n",
    "            for (var j=0; j<tags.length; j++) {\n",
    "                var curr_tag = tags[j];\n",
    "                if (curr_tag == tag) {\n",
    "                    out.push(curr_cell);\n",
    "                    break;\n",
    "                }\n",
    "            }\n",
    "        }\n",
    "    }\n",
    "    return out;\n",
    "}\n",
    "\n",
    "function set_cell_visibility(tag, show, input_only) {\n",
    "    var cells = Jupyter.notebook.get_cells();\n",
    "    var marked_cells = filter_cells_by_tag(tag);\n",
    "    for (var i=0; i<marked_cells.length; i++) {\n",
    "        var curr_cell = marked_cells[i];\n",
    "        if (input_only) {\n",
    "            obj = curr_cell.input\n",
    "        } else {\n",
    "            obj = curr_cell.element\n",
    "        }\n",
    "        if (show) {\n",
    "            obj.show();\n",
    "        } else {\n",
    "            obj.hide();\n",
    "        }\n",
    "    }\n",
    "}\n",
    "\n",
    "function toggle_cell_visibility(tag) {\n",
    "    set_cell_visibility(tag, shown, false)\n",
    "    shown = ! shown;\n",
    "}\n",
    "\n",
    "set_cell_visibility('execution_cell', false, true);\n",
    "</script>\n",
    "To toggle visibility of explanation cells click <a href=\"javascript:toggle_cell_visibility('explanatory_cell')\">here</a>\n"
   ]
  },
  {
   "cell_type": "markdown",
   "id": "372bd00a",
   "metadata": {},
   "source": [
    "# SEC Filing Section Pipeline"
   ]
  },
  {
   "cell_type": "markdown",
   "id": "2a8671bb",
   "metadata": {},
   "source": [
    "This notebook defines the pipeline for extracting the narrative text sections\n",
    "from emails in `.eml` files. This notebook contains both\n",
    "exploration code and the code for defining the API. Code cells marked\n",
    "with `#pipeline-api` are included in the API definition.\n",
    "\n",
    "To demonstrate how off-the-shelf Unstructured Bricks extract\n",
    "meaningful data from complex source documents, we will apply\n",
    "a series of Bricks with explanations before defining the API.\n",
    "\n",
    "#### Table of Contents\n",
    "\n",
    "1. [Pulling and Reading the Document](#reading)\n",
    "1. [Custom Partitioning Bricks](#custom)\n",
    "1. [Cleaning Bricks](#cleaning)\n",
    "1. [Define the Pipeline API](#pipeline)"
   ]
  },
  {
   "cell_type": "markdown",
   "id": "811ae754",
   "metadata": {},
   "source": [
    "## Section 1: Pulling and Reading the Emails <a id=\"reading\"></a>"
   ]
  },
  {
   "cell_type": "markdown",
   "id": "cc053d30",
   "metadata": {},
   "source": [
    "First, let's pull in the `.eml` files from a local directory"
   ]
  },
  {
   "cell_type": "code",
   "execution_count": 173,
   "id": "792391ed",
   "metadata": {},
   "outputs": [],
   "source": [
    "import os\n",
    "\n",
    "def get_filenames(directory, file_type, cwd=None):\n",
    "    if not cwd:\n",
    "        cwd = os.getcwd()\n",
    "        \n",
    "    local_directory = os.path.join(os.path.split(cwd)[0], directory)\n",
    "    \n",
    "    files = []\n",
    "    # Iterate directory\n",
    "    for file in os.listdir(local_directory):\n",
    "        # check only text files\n",
    "        if file.endswith(f'.{file_type}'):\n",
    "            files.append(local_directory + \"/\"+ file)\n",
    "    return files"
   ]
  },
  {
   "cell_type": "code",
   "execution_count": 174,
   "id": "7186c0bf",
   "metadata": {},
   "outputs": [],
   "source": [
    "import os\n",
    "import pathlib\n",
    "\n",
    "filenames = get_filenames(\"sample-docs\", \"eml\")\n",
    "with open(filenames[0], \"r\") as f:\n",
    "    msg = email.message_from_file(f)"
   ]
  },
  {
   "cell_type": "code",
   "execution_count": 175,
   "id": "c4a3a9b6",
   "metadata": {},
   "outputs": [
    {
     "name": "stdout",
     "output_type": "stream",
     "text": [
      "MIME-Version: 1.0\n",
      "Date: Wed, 21 Dec 2022 11:09:08 -0600\n",
      "Message-ID: <CAPgNNXR+x-xiszwFdZx59eFHz9syApFyODPbAUHT7YVgNtF-fA@mail.gmail.com>\n",
      "Subject: ANNOUNCEMENT: The holidays are coming!\n",
      "From: Mallori Harrell <mallori@unstructured.io>\n",
      "To: Mallori Harrell <mallori@unstructured.io>\n",
      "Content-Type: multipart/alternative; boundary=\"00000000000054448805f0599c48\"\n",
      "\n",
      "--00000000000054448805f0599c48\n",
      "Content-Type: text/plain; charset=\"UTF-8\"\n",
      "\n",
      "To All,\n",
      "\n",
      "As the holiday approaches, be sure to let your manager and team know the\n",
      "following:\n",
      "\n",
      "   - Your days off\n",
      "   - The location of your work's documentation\n",
      "   - How to reach you or your secondary in case of an emergency\n",
      "\n",
      "\n",
      "Hope you all have a Happy Holidays!\n",
      "\n",
      "Best,\n",
      "\n",
      "-- \n",
      "Mallori Harrell\n",
      "Unstructured Technologies\n",
      "Data Scientist\n",
      "\n",
      "--00000000000054448805f0599c48\n",
      "Content-Type: text/html; charset=\"UTF-8\"\n",
      "Content-Transfer-Encoding: quoted-printable\n",
      "\n",
      "<div dir=3D\"ltr\">To All,<div><br></div><div>As the holiday approaches, be s=\n",
      "ure to let your manager and team know the following:</div><div><ul><li>Your=\n",
      " days off</li><li>The location of your work&#39;s documentation</li><li>How=\n",
      " to reach you or your secondary in case of an emergency</li></ul></div><div=\n",
      "><br></div><div>Hope you all have a Happy Holidays!</div><div><br></div><di=\n",
      "v>Best,</div><div><br></div>-- <br><div dir=3D\"ltr\" class=3D\"gmail_signatur=\n",
      "e\" data-smartmail=3D\"gmail_signature\"><div dir=3D\"ltr\">Mallori Harrell<div>=\n",
      "Unstructured Technologies<br><div>Data Scientist</div><div><br></div></div>=\n",
      "</div></div></div>\n",
      "\n",
      "--00000000000054448805f0599c48--\n",
      "\n",
      "Content-Type: text/plain; charset=\"UTF-8\"\n",
      "\n",
      "To All,\n",
      "\n",
      "As the holiday approaches, be sure to let your manager and team know the\n",
      "following:\n",
      "\n",
      "   - Your days off\n",
      "   - The location of your work's documentation\n",
      "   - How to reach you or your secondary in case of an emergency\n",
      "\n",
      "\n",
      "Hope you all have a Happy Holidays!\n",
      "\n",
      "Best,\n",
      "\n",
      "-- \n",
      "Mallori Harrell\n",
      "Unstructured Technologies\n",
      "Data Scientist\n",
      "\n",
      "Content-Type: text/html; charset=\"UTF-8\"\n",
      "Content-Transfer-Encoding: quoted-printable\n",
      "\n",
      "<div dir=3D\"ltr\">To All,<div><br></div><div>As the holiday approaches, be s=\n",
      "ure to let your manager and team know the following:</div><div><ul><li>Your=\n",
      " days off</li><li>The location of your work&#39;s documentation</li><li>How=\n",
      " to reach you or your secondary in case of an emergency</li></ul></div><div=\n",
      "><br></div><div>Hope you all have a Happy Holidays!</div><div><br></div><di=\n",
      "v>Best,</div><div><br></div>-- <br><div dir=3D\"ltr\" class=3D\"gmail_signatur=\n",
      "e\" data-smartmail=3D\"gmail_signature\"><div dir=3D\"ltr\">Mallori Harrell<div>=\n",
      "Unstructured Technologies<br><div>Data Scientist</div><div><br></div></div>=\n",
      "</div></div></div>\n",
      "\n"
     ]
    }
   ],
   "source": [
    "for item in msg.walk():\n",
    "    print(item)"
   ]
  },
  {
   "cell_type": "markdown",
   "id": "9a0e65a7",
   "metadata": {},
   "source": [
    "## Section 2: Custom Partitioning Bricks<a id=\"custom\"></a>"
   ]
  },
  {
   "cell_type": "code",
   "execution_count": 177,
   "id": "5390f6b6",
   "metadata": {},
   "outputs": [
    {
     "name": "stdout",
     "output_type": "stream",
     "text": [
      "/Users/mallori/pipeline-emails/sample-docs/announcement.eml\n",
      "/Users/mallori/pipeline-emails/sample-docs/family_day.eml\n",
      "/Users/mallori/pipeline-emails/sample-docs/alert.eml\n"
     ]
    }
   ],
   "source": [
    "from unstructured.partition.email import partition_email\n",
    "\n",
    "msg_elements = []\n",
    "for filename in filenames:\n",
    "    print(filename)\n",
    "    msg_elements.append(partition_email(filename=filename))"
   ]
  },
  {
   "cell_type": "code",
   "execution_count": 179,
   "id": "6dbda6cf",
   "metadata": {},
   "outputs": [
    {
     "data": {
      "text/plain": [
       "[[<unstructured.documents.html.HTMLNarrativeText at 0x13cd117c0>,\n",
       "  <unstructured.documents.html.HTMLListItem at 0x13cd36b80>,\n",
       "  <unstructured.documents.html.HTMLListItem at 0x13cd36370>,\n",
       "  <unstructured.documents.html.HTMLListItem at 0x13cd3b790>,\n",
       "  <unstructured.documents.html.HTMLTitle at 0x13cd5b880>,\n",
       "  <unstructured.documents.html.HTMLTitle at 0x13cd5b5e0>,\n",
       "  <unstructured.documents.html.HTMLTitle at 0x13cd5bdf0>],\n",
       " [<unstructured.documents.html.HTMLNarrativeText at 0x13cd363a0>,\n",
       "  <unstructured.documents.html.HTMLNarrativeText at 0x13cd5b670>,\n",
       "  <unstructured.documents.html.HTMLTitle at 0x13cd5b160>,\n",
       "  <unstructured.documents.html.HTMLTitle at 0x13cd5b220>],\n",
       " [<unstructured.documents.html.HTMLTitle at 0x13cd36a60>,\n",
       "  <unstructured.documents.html.HTMLNarrativeText at 0x13cd5b8e0>,\n",
       "  <unstructured.documents.html.HTMLNarrativeText at 0x13cd5b970>,\n",
       "  <unstructured.documents.html.HTMLNarrativeText at 0x13cd5baf0>,\n",
       "  <unstructured.documents.html.HTMLTitle at 0x13cd5b1f0>,\n",
       "  <unstructured.documents.html.HTMLTitle at 0x13cd5b190>]]"
      ]
     },
     "execution_count": 179,
     "metadata": {},
     "output_type": "execute_result"
    }
   ],
   "source": [
    "msg_elements"
   ]
  },
  {
   "cell_type": "code",
   "execution_count": 181,
   "id": "6a7a40c4",
   "metadata": {},
   "outputs": [
    {
     "name": "stdout",
     "output_type": "stream",
     "text": [
      "Your days off\n",
      "The location of your work's documentation\n",
      "How to reach you or your secondary in case of an emergency\n"
     ]
    }
   ],
   "source": [
    "print(msg_elements[0][1].text)\n",
    "print(msg_elements[0][2].text)\n",
    "print(msg_elements[0][3].text)"
   ]
  },
  {
   "cell_type": "markdown",
   "id": "c2c37253",
   "metadata": {},
   "source": [
    "## Section 3: Cleaning Bricks<a id=\"cleaning\"></a>"
   ]
  },
  {
   "cell_type": "code",
   "execution_count": 183,
   "id": "a195258a",
   "metadata": {},
   "outputs": [
    {
     "name": "stdout",
     "output_type": "stream",
     "text": [
      "As the holiday approaches, be sure to let your manager and team know the following:\n",
      "Your days off\n",
      "The location of your work's documentation\n",
      "How to reach you or your secondary in case of an emergency\n",
      "Hope you all have a Happy Holidays!\n",
      "Best,\n",
      "Data Scientist\n"
     ]
    }
   ],
   "source": [
    "from unstructured.cleaners.core import clean_extra_whitespace\n",
    "clean_element = []\n",
    "\n",
    "for element in msg_elements[0]:\n",
    "    print(clean_extra_whitespace(element.text))"
   ]
  },
  {
   "cell_type": "markdown",
   "id": "b311f179",
   "metadata": {},
   "source": [
    "## Section 4: Define the API<a id=\"pipeline\"></a>"
   ]
  },
  {
   "cell_type": "code",
   "execution_count": null,
   "id": "f9ce1ce9",
   "metadata": {},
   "outputs": [],
   "source": [
    "# pipeline-api"
   ]
  }
 ],
 "metadata": {
  "kernelspec": {
   "display_name": "Python 3 (ipykernel)",
   "language": "python",
   "name": "python3"
  },
  "language_info": {
   "codemirror_mode": {
    "name": "ipython",
    "version": 3
   },
   "file_extension": ".py",
   "mimetype": "text/x-python",
   "name": "python",
   "nbconvert_exporter": "python",
   "pygments_lexer": "ipython3",
   "version": "3.8.15"
  }
 },
 "nbformat": 4,
 "nbformat_minor": 5
}
